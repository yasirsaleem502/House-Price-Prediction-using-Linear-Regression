{
 "cells": [
  {
   "cell_type": "markdown",
   "id": "4a7eb15e",
   "metadata": {
    "papermill": {
     "duration": 0.035812,
     "end_time": "2024-08-27T05:40:34.909445",
     "exception": false,
     "start_time": "2024-08-27T05:40:34.873633",
     "status": "completed"
    },
    "tags": []
   },
   "source": [
    "### House Price Predicition Using Linear Regression algorithm. "
   ]
  },
  {
   "cell_type": "markdown",
   "id": "822c2e10",
   "metadata": {
    "papermill": {
     "duration": 0.031531,
     "end_time": "2024-08-27T05:40:34.973272",
     "exception": false,
     "start_time": "2024-08-27T05:40:34.941741",
     "status": "completed"
    },
    "tags": []
   },
   "source": [
    "Loading necessary libraries"
   ]
  },
  {
   "cell_type": "code",
   "execution_count": 1,
   "id": "527a1ed6",
   "metadata": {
    "execution": {
     "iopub.execute_input": "2024-08-27T05:40:35.039633Z",
     "iopub.status.busy": "2024-08-27T05:40:35.038949Z",
     "iopub.status.idle": "2024-08-27T05:40:36.407016Z",
     "shell.execute_reply": "2024-08-27T05:40:36.405781Z"
    },
    "papermill": {
     "duration": 1.404578,
     "end_time": "2024-08-27T05:40:36.410234",
     "exception": false,
     "start_time": "2024-08-27T05:40:35.005656",
     "status": "completed"
    },
    "tags": []
   },
   "outputs": [],
   "source": [
    "import numpy as np\n",
    "import pandas as pd\n",
    "import sklearn.preprocessing \n",
    "import matplotlib.pyplot as plt\n",
    "import seaborn as sns\n",
    "%matplotlib inline\n",
    "sns.set()"
   ]
  },
  {
   "cell_type": "markdown",
   "id": "92edefa6",
   "metadata": {
    "papermill": {
     "duration": 0.032154,
     "end_time": "2024-08-27T05:40:36.473928",
     "exception": false,
     "start_time": "2024-08-27T05:40:36.441774",
     "status": "completed"
    },
    "tags": []
   },
   "source": [
    "## Detail of DataSet "
   ]
  },
  {
   "cell_type": "markdown",
   "id": "2b44f653",
   "metadata": {
    "papermill": {
     "duration": 0.030731,
     "end_time": "2024-08-27T05:40:36.535665",
     "exception": false,
     "start_time": "2024-08-27T05:40:36.504934",
     "status": "completed"
    },
    "tags": []
   },
   "source": [
    "In this example we'll be using the Boston Housing dataset. There are 506 rows in the dataset. The target variable is median home price. There are 13 predictor variables including average number of rooms per dwelling, crime rate by town, etc. More information about this dataset can be found at https://www.kaggle.com/c/boston-housing\n",
    "\n"
   ]
  },
  {
   "cell_type": "markdown",
   "id": "865972c8",
   "metadata": {
    "papermill": {
     "duration": 0.031017,
     "end_time": "2024-08-27T05:40:36.597643",
     "exception": false,
     "start_time": "2024-08-27T05:40:36.566626",
     "status": "completed"
    },
    "tags": []
   },
   "source": [
    "This data frame contains the following columns:\n",
    "\n",
    "**crim**\n",
    "per capita crime rate by town.\n",
    "\n",
    "**zn**\n",
    "proportion of residential land zoned for lots over 25,000 sq.ft.\n",
    "\n",
    "**indus**\n",
    "proportion of non-retail business acres per town.\n",
    "\n",
    "**chas**\n",
    "Charles River dummy variable (= 1 if tract bounds river; 0 otherwise).\n",
    "\n",
    "**nox**\n",
    "nitrogen oxides concentration (parts per 10 million).\n",
    "\n",
    "**rm**\n",
    "average number of rooms per dwelling.\n",
    "\n",
    "**age**\n",
    "proportion of owner-occupied units built prior to 1940.\n",
    "\n",
    "**dis**\n",
    "weighted mean of distances to five Boston employment centres.\n",
    "\n",
    "**rad**\n",
    "index of accessibility to radial highways.\n",
    "\n",
    "**tax**\n",
    "full-value property-tax rate per $10,000.\n",
    "\n",
    "**ptratio**\n",
    "pupil-teacher ratio by town.\n",
    "\n",
    "**black**\n",
    "1000(Bk - 0.63)^2 where Bk is the proportion of blacks by town.\n",
    "\n",
    "**lstat**\n",
    "lower status of the population (percent).\n",
    "\n",
    "**medv**\n",
    "median value of owner-occupied homes in $1000s."
   ]
  },
  {
   "cell_type": "code",
   "execution_count": 2,
   "id": "4e455cb3",
   "metadata": {
    "execution": {
     "iopub.execute_input": "2024-08-27T05:40:36.661823Z",
     "iopub.status.busy": "2024-08-27T05:40:36.661220Z",
     "iopub.status.idle": "2024-08-27T05:40:36.744920Z",
     "shell.execute_reply": "2024-08-27T05:40:36.743732Z"
    },
    "papermill": {
     "duration": 0.119592,
     "end_time": "2024-08-27T05:40:36.748172",
     "exception": false,
     "start_time": "2024-08-27T05:40:36.628580",
     "status": "completed"
    },
    "tags": []
   },
   "outputs": [],
   "source": [
    "from sklearn.datasets import load_boston "
   ]
  },
  {
   "cell_type": "code",
   "execution_count": 3,
   "id": "106005f1",
   "metadata": {
    "execution": {
     "iopub.execute_input": "2024-08-27T05:40:36.812933Z",
     "iopub.status.busy": "2024-08-27T05:40:36.812524Z",
     "iopub.status.idle": "2024-08-27T05:40:36.818538Z",
     "shell.execute_reply": "2024-08-27T05:40:36.817298Z"
    },
    "papermill": {
     "duration": 0.0411,
     "end_time": "2024-08-27T05:40:36.821088",
     "exception": false,
     "start_time": "2024-08-27T05:40:36.779988",
     "status": "completed"
    },
    "tags": []
   },
   "outputs": [],
   "source": [
    "columnss = ['Crime Rate','Residential Proportion','non-retail business acres/Town','Charles River',\n",
    "            'NO2 concentration','Average Rooms/Dwelling.','Prior Built Units Proportion','Distance to Employment Centres',\n",
    "            'Radial Highways Distance','ValueProperty/tax rate','Teacher/town','blacks/town','Lower Status Percent']"
   ]
  },
  {
   "cell_type": "code",
   "execution_count": 4,
   "id": "b154e4a2",
   "metadata": {
    "execution": {
     "iopub.execute_input": "2024-08-27T05:40:36.886040Z",
     "iopub.status.busy": "2024-08-27T05:40:36.885572Z",
     "iopub.status.idle": "2024-08-27T05:40:36.904962Z",
     "shell.execute_reply": "2024-08-27T05:40:36.903831Z"
    },
    "papermill": {
     "duration": 0.0561,
     "end_time": "2024-08-27T05:40:36.909103",
     "exception": false,
     "start_time": "2024-08-27T05:40:36.853003",
     "status": "completed"
    },
    "tags": []
   },
   "outputs": [
    {
     "name": "stderr",
     "output_type": "stream",
     "text": [
      "/opt/conda/lib/python3.7/site-packages/sklearn/utils/deprecation.py:87: FutureWarning: Function load_boston is deprecated; `load_boston` is deprecated in 1.0 and will be removed in 1.2.\n",
      "\n",
      "    The Boston housing prices dataset has an ethical problem. You can refer to\n",
      "    the documentation of this function for further details.\n",
      "\n",
      "    The scikit-learn maintainers therefore strongly discourage the use of this\n",
      "    dataset unless the purpose of the code is to study and educate about\n",
      "    ethical issues in data science and machine learning.\n",
      "\n",
      "    In this special case, you can fetch the dataset from the original\n",
      "    source::\n",
      "\n",
      "        import pandas as pd\n",
      "        import numpy as np\n",
      "\n",
      "\n",
      "        data_url = \"http://lib.stat.cmu.edu/datasets/boston\"\n",
      "        raw_df = pd.read_csv(data_url, sep=\"\\s+\", skiprows=22, header=None)\n",
      "        data = np.hstack([raw_df.values[::2, :], raw_df.values[1::2, :2]])\n",
      "        target = raw_df.values[1::2, 2]\n",
      "\n",
      "    Alternative datasets include the California housing dataset (i.e.\n",
      "    :func:`~sklearn.datasets.fetch_california_housing`) and the Ames housing\n",
      "    dataset. You can load the datasets as follows::\n",
      "\n",
      "        from sklearn.datasets import fetch_california_housing\n",
      "        housing = fetch_california_housing()\n",
      "\n",
      "    for the California housing dataset and::\n",
      "\n",
      "        from sklearn.datasets import fetch_openml\n",
      "        housing = fetch_openml(name=\"house_prices\", as_frame=True)\n",
      "\n",
      "    for the Ames housing dataset.\n",
      "    \n",
      "  warnings.warn(msg, category=FutureWarning)\n"
     ]
    }
   ],
   "source": [
    "boston = load_boston()"
   ]
  },
  {
   "cell_type": "code",
   "execution_count": 5,
   "id": "111c0585",
   "metadata": {
    "execution": {
     "iopub.execute_input": "2024-08-27T05:40:36.974766Z",
     "iopub.status.busy": "2024-08-27T05:40:36.974355Z",
     "iopub.status.idle": "2024-08-27T05:40:37.017649Z",
     "shell.execute_reply": "2024-08-27T05:40:37.016345Z"
    },
    "papermill": {
     "duration": 0.079659,
     "end_time": "2024-08-27T05:40:37.020630",
     "exception": false,
     "start_time": "2024-08-27T05:40:36.940971",
     "status": "completed"
    },
    "scrolled": true,
    "tags": []
   },
   "outputs": [
    {
     "data": {
      "text/html": [
       "<div>\n",
       "<style scoped>\n",
       "    .dataframe tbody tr th:only-of-type {\n",
       "        vertical-align: middle;\n",
       "    }\n",
       "\n",
       "    .dataframe tbody tr th {\n",
       "        vertical-align: top;\n",
       "    }\n",
       "\n",
       "    .dataframe thead th {\n",
       "        text-align: right;\n",
       "    }\n",
       "</style>\n",
       "<table border=\"1\" class=\"dataframe\">\n",
       "  <thead>\n",
       "    <tr style=\"text-align: right;\">\n",
       "      <th></th>\n",
       "      <th>0</th>\n",
       "      <th>1</th>\n",
       "      <th>2</th>\n",
       "      <th>3</th>\n",
       "      <th>4</th>\n",
       "      <th>5</th>\n",
       "      <th>6</th>\n",
       "      <th>7</th>\n",
       "      <th>8</th>\n",
       "      <th>9</th>\n",
       "      <th>10</th>\n",
       "      <th>11</th>\n",
       "      <th>12</th>\n",
       "    </tr>\n",
       "  </thead>\n",
       "  <tbody>\n",
       "    <tr>\n",
       "      <th>0</th>\n",
       "      <td>0.00632</td>\n",
       "      <td>18.0</td>\n",
       "      <td>2.31</td>\n",
       "      <td>0.0</td>\n",
       "      <td>0.538</td>\n",
       "      <td>6.575</td>\n",
       "      <td>65.2</td>\n",
       "      <td>4.0900</td>\n",
       "      <td>1.0</td>\n",
       "      <td>296.0</td>\n",
       "      <td>15.3</td>\n",
       "      <td>396.90</td>\n",
       "      <td>4.98</td>\n",
       "    </tr>\n",
       "    <tr>\n",
       "      <th>1</th>\n",
       "      <td>0.02731</td>\n",
       "      <td>0.0</td>\n",
       "      <td>7.07</td>\n",
       "      <td>0.0</td>\n",
       "      <td>0.469</td>\n",
       "      <td>6.421</td>\n",
       "      <td>78.9</td>\n",
       "      <td>4.9671</td>\n",
       "      <td>2.0</td>\n",
       "      <td>242.0</td>\n",
       "      <td>17.8</td>\n",
       "      <td>396.90</td>\n",
       "      <td>9.14</td>\n",
       "    </tr>\n",
       "    <tr>\n",
       "      <th>2</th>\n",
       "      <td>0.02729</td>\n",
       "      <td>0.0</td>\n",
       "      <td>7.07</td>\n",
       "      <td>0.0</td>\n",
       "      <td>0.469</td>\n",
       "      <td>7.185</td>\n",
       "      <td>61.1</td>\n",
       "      <td>4.9671</td>\n",
       "      <td>2.0</td>\n",
       "      <td>242.0</td>\n",
       "      <td>17.8</td>\n",
       "      <td>392.83</td>\n",
       "      <td>4.03</td>\n",
       "    </tr>\n",
       "    <tr>\n",
       "      <th>3</th>\n",
       "      <td>0.03237</td>\n",
       "      <td>0.0</td>\n",
       "      <td>2.18</td>\n",
       "      <td>0.0</td>\n",
       "      <td>0.458</td>\n",
       "      <td>6.998</td>\n",
       "      <td>45.8</td>\n",
       "      <td>6.0622</td>\n",
       "      <td>3.0</td>\n",
       "      <td>222.0</td>\n",
       "      <td>18.7</td>\n",
       "      <td>394.63</td>\n",
       "      <td>2.94</td>\n",
       "    </tr>\n",
       "    <tr>\n",
       "      <th>4</th>\n",
       "      <td>0.06905</td>\n",
       "      <td>0.0</td>\n",
       "      <td>2.18</td>\n",
       "      <td>0.0</td>\n",
       "      <td>0.458</td>\n",
       "      <td>7.147</td>\n",
       "      <td>54.2</td>\n",
       "      <td>6.0622</td>\n",
       "      <td>3.0</td>\n",
       "      <td>222.0</td>\n",
       "      <td>18.7</td>\n",
       "      <td>396.90</td>\n",
       "      <td>5.33</td>\n",
       "    </tr>\n",
       "    <tr>\n",
       "      <th>...</th>\n",
       "      <td>...</td>\n",
       "      <td>...</td>\n",
       "      <td>...</td>\n",
       "      <td>...</td>\n",
       "      <td>...</td>\n",
       "      <td>...</td>\n",
       "      <td>...</td>\n",
       "      <td>...</td>\n",
       "      <td>...</td>\n",
       "      <td>...</td>\n",
       "      <td>...</td>\n",
       "      <td>...</td>\n",
       "      <td>...</td>\n",
       "    </tr>\n",
       "    <tr>\n",
       "      <th>501</th>\n",
       "      <td>0.06263</td>\n",
       "      <td>0.0</td>\n",
       "      <td>11.93</td>\n",
       "      <td>0.0</td>\n",
       "      <td>0.573</td>\n",
       "      <td>6.593</td>\n",
       "      <td>69.1</td>\n",
       "      <td>2.4786</td>\n",
       "      <td>1.0</td>\n",
       "      <td>273.0</td>\n",
       "      <td>21.0</td>\n",
       "      <td>391.99</td>\n",
       "      <td>9.67</td>\n",
       "    </tr>\n",
       "    <tr>\n",
       "      <th>502</th>\n",
       "      <td>0.04527</td>\n",
       "      <td>0.0</td>\n",
       "      <td>11.93</td>\n",
       "      <td>0.0</td>\n",
       "      <td>0.573</td>\n",
       "      <td>6.120</td>\n",
       "      <td>76.7</td>\n",
       "      <td>2.2875</td>\n",
       "      <td>1.0</td>\n",
       "      <td>273.0</td>\n",
       "      <td>21.0</td>\n",
       "      <td>396.90</td>\n",
       "      <td>9.08</td>\n",
       "    </tr>\n",
       "    <tr>\n",
       "      <th>503</th>\n",
       "      <td>0.06076</td>\n",
       "      <td>0.0</td>\n",
       "      <td>11.93</td>\n",
       "      <td>0.0</td>\n",
       "      <td>0.573</td>\n",
       "      <td>6.976</td>\n",
       "      <td>91.0</td>\n",
       "      <td>2.1675</td>\n",
       "      <td>1.0</td>\n",
       "      <td>273.0</td>\n",
       "      <td>21.0</td>\n",
       "      <td>396.90</td>\n",
       "      <td>5.64</td>\n",
       "    </tr>\n",
       "    <tr>\n",
       "      <th>504</th>\n",
       "      <td>0.10959</td>\n",
       "      <td>0.0</td>\n",
       "      <td>11.93</td>\n",
       "      <td>0.0</td>\n",
       "      <td>0.573</td>\n",
       "      <td>6.794</td>\n",
       "      <td>89.3</td>\n",
       "      <td>2.3889</td>\n",
       "      <td>1.0</td>\n",
       "      <td>273.0</td>\n",
       "      <td>21.0</td>\n",
       "      <td>393.45</td>\n",
       "      <td>6.48</td>\n",
       "    </tr>\n",
       "    <tr>\n",
       "      <th>505</th>\n",
       "      <td>0.04741</td>\n",
       "      <td>0.0</td>\n",
       "      <td>11.93</td>\n",
       "      <td>0.0</td>\n",
       "      <td>0.573</td>\n",
       "      <td>6.030</td>\n",
       "      <td>80.8</td>\n",
       "      <td>2.5050</td>\n",
       "      <td>1.0</td>\n",
       "      <td>273.0</td>\n",
       "      <td>21.0</td>\n",
       "      <td>396.90</td>\n",
       "      <td>7.88</td>\n",
       "    </tr>\n",
       "  </tbody>\n",
       "</table>\n",
       "<p>506 rows × 13 columns</p>\n",
       "</div>"
      ],
      "text/plain": [
       "          0     1      2    3      4      5     6       7    8      9     10  \\\n",
       "0    0.00632  18.0   2.31  0.0  0.538  6.575  65.2  4.0900  1.0  296.0  15.3   \n",
       "1    0.02731   0.0   7.07  0.0  0.469  6.421  78.9  4.9671  2.0  242.0  17.8   \n",
       "2    0.02729   0.0   7.07  0.0  0.469  7.185  61.1  4.9671  2.0  242.0  17.8   \n",
       "3    0.03237   0.0   2.18  0.0  0.458  6.998  45.8  6.0622  3.0  222.0  18.7   \n",
       "4    0.06905   0.0   2.18  0.0  0.458  7.147  54.2  6.0622  3.0  222.0  18.7   \n",
       "..       ...   ...    ...  ...    ...    ...   ...     ...  ...    ...   ...   \n",
       "501  0.06263   0.0  11.93  0.0  0.573  6.593  69.1  2.4786  1.0  273.0  21.0   \n",
       "502  0.04527   0.0  11.93  0.0  0.573  6.120  76.7  2.2875  1.0  273.0  21.0   \n",
       "503  0.06076   0.0  11.93  0.0  0.573  6.976  91.0  2.1675  1.0  273.0  21.0   \n",
       "504  0.10959   0.0  11.93  0.0  0.573  6.794  89.3  2.3889  1.0  273.0  21.0   \n",
       "505  0.04741   0.0  11.93  0.0  0.573  6.030  80.8  2.5050  1.0  273.0  21.0   \n",
       "\n",
       "         11    12  \n",
       "0    396.90  4.98  \n",
       "1    396.90  9.14  \n",
       "2    392.83  4.03  \n",
       "3    394.63  2.94  \n",
       "4    396.90  5.33  \n",
       "..      ...   ...  \n",
       "501  391.99  9.67  \n",
       "502  396.90  9.08  \n",
       "503  396.90  5.64  \n",
       "504  393.45  6.48  \n",
       "505  396.90  7.88  \n",
       "\n",
       "[506 rows x 13 columns]"
      ]
     },
     "execution_count": 5,
     "metadata": {},
     "output_type": "execute_result"
    }
   ],
   "source": [
    "df = pd.DataFrame(boston.data)\n",
    "df"
   ]
  },
  {
   "cell_type": "code",
   "execution_count": 6,
   "id": "97d096a2",
   "metadata": {
    "execution": {
     "iopub.execute_input": "2024-08-27T05:40:37.096638Z",
     "iopub.status.busy": "2024-08-27T05:40:37.095368Z",
     "iopub.status.idle": "2024-08-27T05:40:37.143882Z",
     "shell.execute_reply": "2024-08-27T05:40:37.142553Z"
    },
    "papermill": {
     "duration": 0.089417,
     "end_time": "2024-08-27T05:40:37.146919",
     "exception": false,
     "start_time": "2024-08-27T05:40:37.057502",
     "status": "completed"
    },
    "tags": []
   },
   "outputs": [
    {
     "data": {
      "text/html": [
       "<div>\n",
       "<style scoped>\n",
       "    .dataframe tbody tr th:only-of-type {\n",
       "        vertical-align: middle;\n",
       "    }\n",
       "\n",
       "    .dataframe tbody tr th {\n",
       "        vertical-align: top;\n",
       "    }\n",
       "\n",
       "    .dataframe thead th {\n",
       "        text-align: right;\n",
       "    }\n",
       "</style>\n",
       "<table border=\"1\" class=\"dataframe\">\n",
       "  <thead>\n",
       "    <tr style=\"text-align: right;\">\n",
       "      <th></th>\n",
       "      <th>Crime Rate</th>\n",
       "      <th>Residential Proportion</th>\n",
       "      <th>non-retail business acres/Town</th>\n",
       "      <th>Charles River</th>\n",
       "      <th>NO2 concentration</th>\n",
       "      <th>Average Rooms/Dwelling.</th>\n",
       "      <th>Prior Built Units Proportion</th>\n",
       "      <th>Distance to Employment Centres</th>\n",
       "      <th>Radial Highways Distance</th>\n",
       "      <th>ValueProperty/tax rate</th>\n",
       "      <th>Teacher/town</th>\n",
       "      <th>blacks/town</th>\n",
       "      <th>Lower Status Percent</th>\n",
       "    </tr>\n",
       "  </thead>\n",
       "  <tbody>\n",
       "    <tr>\n",
       "      <th>0</th>\n",
       "      <td>0.00632</td>\n",
       "      <td>18.0</td>\n",
       "      <td>2.31</td>\n",
       "      <td>0.0</td>\n",
       "      <td>0.538</td>\n",
       "      <td>6.575</td>\n",
       "      <td>65.2</td>\n",
       "      <td>4.0900</td>\n",
       "      <td>1.0</td>\n",
       "      <td>296.0</td>\n",
       "      <td>15.3</td>\n",
       "      <td>396.90</td>\n",
       "      <td>4.98</td>\n",
       "    </tr>\n",
       "    <tr>\n",
       "      <th>1</th>\n",
       "      <td>0.02731</td>\n",
       "      <td>0.0</td>\n",
       "      <td>7.07</td>\n",
       "      <td>0.0</td>\n",
       "      <td>0.469</td>\n",
       "      <td>6.421</td>\n",
       "      <td>78.9</td>\n",
       "      <td>4.9671</td>\n",
       "      <td>2.0</td>\n",
       "      <td>242.0</td>\n",
       "      <td>17.8</td>\n",
       "      <td>396.90</td>\n",
       "      <td>9.14</td>\n",
       "    </tr>\n",
       "    <tr>\n",
       "      <th>2</th>\n",
       "      <td>0.02729</td>\n",
       "      <td>0.0</td>\n",
       "      <td>7.07</td>\n",
       "      <td>0.0</td>\n",
       "      <td>0.469</td>\n",
       "      <td>7.185</td>\n",
       "      <td>61.1</td>\n",
       "      <td>4.9671</td>\n",
       "      <td>2.0</td>\n",
       "      <td>242.0</td>\n",
       "      <td>17.8</td>\n",
       "      <td>392.83</td>\n",
       "      <td>4.03</td>\n",
       "    </tr>\n",
       "    <tr>\n",
       "      <th>3</th>\n",
       "      <td>0.03237</td>\n",
       "      <td>0.0</td>\n",
       "      <td>2.18</td>\n",
       "      <td>0.0</td>\n",
       "      <td>0.458</td>\n",
       "      <td>6.998</td>\n",
       "      <td>45.8</td>\n",
       "      <td>6.0622</td>\n",
       "      <td>3.0</td>\n",
       "      <td>222.0</td>\n",
       "      <td>18.7</td>\n",
       "      <td>394.63</td>\n",
       "      <td>2.94</td>\n",
       "    </tr>\n",
       "    <tr>\n",
       "      <th>4</th>\n",
       "      <td>0.06905</td>\n",
       "      <td>0.0</td>\n",
       "      <td>2.18</td>\n",
       "      <td>0.0</td>\n",
       "      <td>0.458</td>\n",
       "      <td>7.147</td>\n",
       "      <td>54.2</td>\n",
       "      <td>6.0622</td>\n",
       "      <td>3.0</td>\n",
       "      <td>222.0</td>\n",
       "      <td>18.7</td>\n",
       "      <td>396.90</td>\n",
       "      <td>5.33</td>\n",
       "    </tr>\n",
       "    <tr>\n",
       "      <th>...</th>\n",
       "      <td>...</td>\n",
       "      <td>...</td>\n",
       "      <td>...</td>\n",
       "      <td>...</td>\n",
       "      <td>...</td>\n",
       "      <td>...</td>\n",
       "      <td>...</td>\n",
       "      <td>...</td>\n",
       "      <td>...</td>\n",
       "      <td>...</td>\n",
       "      <td>...</td>\n",
       "      <td>...</td>\n",
       "      <td>...</td>\n",
       "    </tr>\n",
       "    <tr>\n",
       "      <th>501</th>\n",
       "      <td>0.06263</td>\n",
       "      <td>0.0</td>\n",
       "      <td>11.93</td>\n",
       "      <td>0.0</td>\n",
       "      <td>0.573</td>\n",
       "      <td>6.593</td>\n",
       "      <td>69.1</td>\n",
       "      <td>2.4786</td>\n",
       "      <td>1.0</td>\n",
       "      <td>273.0</td>\n",
       "      <td>21.0</td>\n",
       "      <td>391.99</td>\n",
       "      <td>9.67</td>\n",
       "    </tr>\n",
       "    <tr>\n",
       "      <th>502</th>\n",
       "      <td>0.04527</td>\n",
       "      <td>0.0</td>\n",
       "      <td>11.93</td>\n",
       "      <td>0.0</td>\n",
       "      <td>0.573</td>\n",
       "      <td>6.120</td>\n",
       "      <td>76.7</td>\n",
       "      <td>2.2875</td>\n",
       "      <td>1.0</td>\n",
       "      <td>273.0</td>\n",
       "      <td>21.0</td>\n",
       "      <td>396.90</td>\n",
       "      <td>9.08</td>\n",
       "    </tr>\n",
       "    <tr>\n",
       "      <th>503</th>\n",
       "      <td>0.06076</td>\n",
       "      <td>0.0</td>\n",
       "      <td>11.93</td>\n",
       "      <td>0.0</td>\n",
       "      <td>0.573</td>\n",
       "      <td>6.976</td>\n",
       "      <td>91.0</td>\n",
       "      <td>2.1675</td>\n",
       "      <td>1.0</td>\n",
       "      <td>273.0</td>\n",
       "      <td>21.0</td>\n",
       "      <td>396.90</td>\n",
       "      <td>5.64</td>\n",
       "    </tr>\n",
       "    <tr>\n",
       "      <th>504</th>\n",
       "      <td>0.10959</td>\n",
       "      <td>0.0</td>\n",
       "      <td>11.93</td>\n",
       "      <td>0.0</td>\n",
       "      <td>0.573</td>\n",
       "      <td>6.794</td>\n",
       "      <td>89.3</td>\n",
       "      <td>2.3889</td>\n",
       "      <td>1.0</td>\n",
       "      <td>273.0</td>\n",
       "      <td>21.0</td>\n",
       "      <td>393.45</td>\n",
       "      <td>6.48</td>\n",
       "    </tr>\n",
       "    <tr>\n",
       "      <th>505</th>\n",
       "      <td>0.04741</td>\n",
       "      <td>0.0</td>\n",
       "      <td>11.93</td>\n",
       "      <td>0.0</td>\n",
       "      <td>0.573</td>\n",
       "      <td>6.030</td>\n",
       "      <td>80.8</td>\n",
       "      <td>2.5050</td>\n",
       "      <td>1.0</td>\n",
       "      <td>273.0</td>\n",
       "      <td>21.0</td>\n",
       "      <td>396.90</td>\n",
       "      <td>7.88</td>\n",
       "    </tr>\n",
       "  </tbody>\n",
       "</table>\n",
       "<p>506 rows × 13 columns</p>\n",
       "</div>"
      ],
      "text/plain": [
       "     Crime Rate  Residential Proportion  non-retail business acres/Town  \\\n",
       "0       0.00632                    18.0                            2.31   \n",
       "1       0.02731                     0.0                            7.07   \n",
       "2       0.02729                     0.0                            7.07   \n",
       "3       0.03237                     0.0                            2.18   \n",
       "4       0.06905                     0.0                            2.18   \n",
       "..          ...                     ...                             ...   \n",
       "501     0.06263                     0.0                           11.93   \n",
       "502     0.04527                     0.0                           11.93   \n",
       "503     0.06076                     0.0                           11.93   \n",
       "504     0.10959                     0.0                           11.93   \n",
       "505     0.04741                     0.0                           11.93   \n",
       "\n",
       "     Charles River  NO2 concentration  Average Rooms/Dwelling.  \\\n",
       "0              0.0              0.538                    6.575   \n",
       "1              0.0              0.469                    6.421   \n",
       "2              0.0              0.469                    7.185   \n",
       "3              0.0              0.458                    6.998   \n",
       "4              0.0              0.458                    7.147   \n",
       "..             ...                ...                      ...   \n",
       "501            0.0              0.573                    6.593   \n",
       "502            0.0              0.573                    6.120   \n",
       "503            0.0              0.573                    6.976   \n",
       "504            0.0              0.573                    6.794   \n",
       "505            0.0              0.573                    6.030   \n",
       "\n",
       "     Prior Built Units Proportion  Distance to Employment Centres  \\\n",
       "0                            65.2                          4.0900   \n",
       "1                            78.9                          4.9671   \n",
       "2                            61.1                          4.9671   \n",
       "3                            45.8                          6.0622   \n",
       "4                            54.2                          6.0622   \n",
       "..                            ...                             ...   \n",
       "501                          69.1                          2.4786   \n",
       "502                          76.7                          2.2875   \n",
       "503                          91.0                          2.1675   \n",
       "504                          89.3                          2.3889   \n",
       "505                          80.8                          2.5050   \n",
       "\n",
       "     Radial Highways Distance  ValueProperty/tax rate  Teacher/town  \\\n",
       "0                         1.0                   296.0          15.3   \n",
       "1                         2.0                   242.0          17.8   \n",
       "2                         2.0                   242.0          17.8   \n",
       "3                         3.0                   222.0          18.7   \n",
       "4                         3.0                   222.0          18.7   \n",
       "..                        ...                     ...           ...   \n",
       "501                       1.0                   273.0          21.0   \n",
       "502                       1.0                   273.0          21.0   \n",
       "503                       1.0                   273.0          21.0   \n",
       "504                       1.0                   273.0          21.0   \n",
       "505                       1.0                   273.0          21.0   \n",
       "\n",
       "     blacks/town  Lower Status Percent  \n",
       "0         396.90                  4.98  \n",
       "1         396.90                  9.14  \n",
       "2         392.83                  4.03  \n",
       "3         394.63                  2.94  \n",
       "4         396.90                  5.33  \n",
       "..           ...                   ...  \n",
       "501       391.99                  9.67  \n",
       "502       396.90                  9.08  \n",
       "503       396.90                  5.64  \n",
       "504       393.45                  6.48  \n",
       "505       396.90                  7.88  \n",
       "\n",
       "[506 rows x 13 columns]"
      ]
     },
     "execution_count": 6,
     "metadata": {},
     "output_type": "execute_result"
    }
   ],
   "source": [
    "df = pd.DataFrame(boston.data ,columns = columnss)\n",
    "df"
   ]
  },
  {
   "cell_type": "code",
   "execution_count": 7,
   "id": "eae41a6d",
   "metadata": {
    "execution": {
     "iopub.execute_input": "2024-08-27T05:40:37.220134Z",
     "iopub.status.busy": "2024-08-27T05:40:37.219695Z",
     "iopub.status.idle": "2024-08-27T05:40:37.228251Z",
     "shell.execute_reply": "2024-08-27T05:40:37.227081Z"
    },
    "papermill": {
     "duration": 0.045985,
     "end_time": "2024-08-27T05:40:37.230915",
     "exception": false,
     "start_time": "2024-08-27T05:40:37.184930",
     "status": "completed"
    },
    "tags": []
   },
   "outputs": [
    {
     "data": {
      "text/plain": [
       "array([[6.3200e-03, 1.8000e+01, 2.3100e+00, ..., 1.5300e+01, 3.9690e+02,\n",
       "        4.9800e+00],\n",
       "       [2.7310e-02, 0.0000e+00, 7.0700e+00, ..., 1.7800e+01, 3.9690e+02,\n",
       "        9.1400e+00],\n",
       "       [2.7290e-02, 0.0000e+00, 7.0700e+00, ..., 1.7800e+01, 3.9283e+02,\n",
       "        4.0300e+00],\n",
       "       ...,\n",
       "       [6.0760e-02, 0.0000e+00, 1.1930e+01, ..., 2.1000e+01, 3.9690e+02,\n",
       "        5.6400e+00],\n",
       "       [1.0959e-01, 0.0000e+00, 1.1930e+01, ..., 2.1000e+01, 3.9345e+02,\n",
       "        6.4800e+00],\n",
       "       [4.7410e-02, 0.0000e+00, 1.1930e+01, ..., 2.1000e+01, 3.9690e+02,\n",
       "        7.8800e+00]])"
      ]
     },
     "execution_count": 7,
     "metadata": {},
     "output_type": "execute_result"
    }
   ],
   "source": [
    "df.values"
   ]
  },
  {
   "cell_type": "code",
   "execution_count": 8,
   "id": "0d380740",
   "metadata": {
    "execution": {
     "iopub.execute_input": "2024-08-27T05:40:37.298884Z",
     "iopub.status.busy": "2024-08-27T05:40:37.298411Z",
     "iopub.status.idle": "2024-08-27T05:40:37.307410Z",
     "shell.execute_reply": "2024-08-27T05:40:37.305994Z"
    },
    "papermill": {
     "duration": 0.04633,
     "end_time": "2024-08-27T05:40:37.310107",
     "exception": false,
     "start_time": "2024-08-27T05:40:37.263777",
     "status": "completed"
    },
    "tags": []
   },
   "outputs": [
    {
     "data": {
      "text/plain": [
       "array([2.7310e-02, 0.0000e+00, 7.0700e+00, 0.0000e+00, 4.6900e-01,\n",
       "       6.4210e+00, 7.8900e+01, 4.9671e+00, 2.0000e+00, 2.4200e+02,\n",
       "       1.7800e+01, 3.9690e+02, 9.1400e+00])"
      ]
     },
     "execution_count": 8,
     "metadata": {},
     "output_type": "execute_result"
    }
   ],
   "source": [
    "df.values[1]"
   ]
  },
  {
   "cell_type": "code",
   "execution_count": 9,
   "id": "ac302814",
   "metadata": {
    "execution": {
     "iopub.execute_input": "2024-08-27T05:40:37.383454Z",
     "iopub.status.busy": "2024-08-27T05:40:37.382893Z",
     "iopub.status.idle": "2024-08-27T05:40:37.393119Z",
     "shell.execute_reply": "2024-08-27T05:40:37.391845Z"
    },
    "papermill": {
     "duration": 0.048663,
     "end_time": "2024-08-27T05:40:37.395753",
     "exception": false,
     "start_time": "2024-08-27T05:40:37.347090",
     "status": "completed"
    },
    "tags": []
   },
   "outputs": [
    {
     "data": {
      "text/plain": [
       "array([[2.7310e-02, 0.0000e+00, 7.0700e+00, 0.0000e+00, 4.6900e-01,\n",
       "        6.4210e+00, 7.8900e+01, 4.9671e+00, 2.0000e+00, 2.4200e+02,\n",
       "        1.7800e+01, 3.9690e+02, 9.1400e+00],\n",
       "       [2.7290e-02, 0.0000e+00, 7.0700e+00, 0.0000e+00, 4.6900e-01,\n",
       "        7.1850e+00, 6.1100e+01, 4.9671e+00, 2.0000e+00, 2.4200e+02,\n",
       "        1.7800e+01, 3.9283e+02, 4.0300e+00]])"
      ]
     },
     "execution_count": 9,
     "metadata": {},
     "output_type": "execute_result"
    }
   ],
   "source": [
    "df.values[1:3:1]"
   ]
  },
  {
   "cell_type": "code",
   "execution_count": 10,
   "id": "6eddd04b",
   "metadata": {
    "execution": {
     "iopub.execute_input": "2024-08-27T05:40:37.466242Z",
     "iopub.status.busy": "2024-08-27T05:40:37.465794Z",
     "iopub.status.idle": "2024-08-27T05:40:37.477512Z",
     "shell.execute_reply": "2024-08-27T05:40:37.476102Z"
    },
    "papermill": {
     "duration": 0.050614,
     "end_time": "2024-08-27T05:40:37.480217",
     "exception": false,
     "start_time": "2024-08-27T05:40:37.429603",
     "status": "completed"
    },
    "tags": []
   },
   "outputs": [],
   "source": [
    "df['median home price'] = boston.target"
   ]
  },
  {
   "cell_type": "code",
   "execution_count": 11,
   "id": "d35cb2b2",
   "metadata": {
    "execution": {
     "iopub.execute_input": "2024-08-27T05:40:37.560180Z",
     "iopub.status.busy": "2024-08-27T05:40:37.558817Z",
     "iopub.status.idle": "2024-08-27T05:40:37.594751Z",
     "shell.execute_reply": "2024-08-27T05:40:37.593420Z"
    },
    "papermill": {
     "duration": 0.078647,
     "end_time": "2024-08-27T05:40:37.597879",
     "exception": false,
     "start_time": "2024-08-27T05:40:37.519232",
     "status": "completed"
    },
    "scrolled": true,
    "tags": []
   },
   "outputs": [
    {
     "data": {
      "text/html": [
       "<div>\n",
       "<style scoped>\n",
       "    .dataframe tbody tr th:only-of-type {\n",
       "        vertical-align: middle;\n",
       "    }\n",
       "\n",
       "    .dataframe tbody tr th {\n",
       "        vertical-align: top;\n",
       "    }\n",
       "\n",
       "    .dataframe thead th {\n",
       "        text-align: right;\n",
       "    }\n",
       "</style>\n",
       "<table border=\"1\" class=\"dataframe\">\n",
       "  <thead>\n",
       "    <tr style=\"text-align: right;\">\n",
       "      <th></th>\n",
       "      <th>Crime Rate</th>\n",
       "      <th>Residential Proportion</th>\n",
       "      <th>non-retail business acres/Town</th>\n",
       "      <th>Charles River</th>\n",
       "      <th>NO2 concentration</th>\n",
       "      <th>Average Rooms/Dwelling.</th>\n",
       "      <th>Prior Built Units Proportion</th>\n",
       "      <th>Distance to Employment Centres</th>\n",
       "      <th>Radial Highways Distance</th>\n",
       "      <th>ValueProperty/tax rate</th>\n",
       "      <th>Teacher/town</th>\n",
       "      <th>blacks/town</th>\n",
       "      <th>Lower Status Percent</th>\n",
       "      <th>median home price</th>\n",
       "    </tr>\n",
       "  </thead>\n",
       "  <tbody>\n",
       "    <tr>\n",
       "      <th>0</th>\n",
       "      <td>0.00632</td>\n",
       "      <td>18.0</td>\n",
       "      <td>2.31</td>\n",
       "      <td>0.0</td>\n",
       "      <td>0.538</td>\n",
       "      <td>6.575</td>\n",
       "      <td>65.2</td>\n",
       "      <td>4.0900</td>\n",
       "      <td>1.0</td>\n",
       "      <td>296.0</td>\n",
       "      <td>15.3</td>\n",
       "      <td>396.90</td>\n",
       "      <td>4.98</td>\n",
       "      <td>24.0</td>\n",
       "    </tr>\n",
       "    <tr>\n",
       "      <th>1</th>\n",
       "      <td>0.02731</td>\n",
       "      <td>0.0</td>\n",
       "      <td>7.07</td>\n",
       "      <td>0.0</td>\n",
       "      <td>0.469</td>\n",
       "      <td>6.421</td>\n",
       "      <td>78.9</td>\n",
       "      <td>4.9671</td>\n",
       "      <td>2.0</td>\n",
       "      <td>242.0</td>\n",
       "      <td>17.8</td>\n",
       "      <td>396.90</td>\n",
       "      <td>9.14</td>\n",
       "      <td>21.6</td>\n",
       "    </tr>\n",
       "    <tr>\n",
       "      <th>2</th>\n",
       "      <td>0.02729</td>\n",
       "      <td>0.0</td>\n",
       "      <td>7.07</td>\n",
       "      <td>0.0</td>\n",
       "      <td>0.469</td>\n",
       "      <td>7.185</td>\n",
       "      <td>61.1</td>\n",
       "      <td>4.9671</td>\n",
       "      <td>2.0</td>\n",
       "      <td>242.0</td>\n",
       "      <td>17.8</td>\n",
       "      <td>392.83</td>\n",
       "      <td>4.03</td>\n",
       "      <td>34.7</td>\n",
       "    </tr>\n",
       "    <tr>\n",
       "      <th>3</th>\n",
       "      <td>0.03237</td>\n",
       "      <td>0.0</td>\n",
       "      <td>2.18</td>\n",
       "      <td>0.0</td>\n",
       "      <td>0.458</td>\n",
       "      <td>6.998</td>\n",
       "      <td>45.8</td>\n",
       "      <td>6.0622</td>\n",
       "      <td>3.0</td>\n",
       "      <td>222.0</td>\n",
       "      <td>18.7</td>\n",
       "      <td>394.63</td>\n",
       "      <td>2.94</td>\n",
       "      <td>33.4</td>\n",
       "    </tr>\n",
       "    <tr>\n",
       "      <th>4</th>\n",
       "      <td>0.06905</td>\n",
       "      <td>0.0</td>\n",
       "      <td>2.18</td>\n",
       "      <td>0.0</td>\n",
       "      <td>0.458</td>\n",
       "      <td>7.147</td>\n",
       "      <td>54.2</td>\n",
       "      <td>6.0622</td>\n",
       "      <td>3.0</td>\n",
       "      <td>222.0</td>\n",
       "      <td>18.7</td>\n",
       "      <td>396.90</td>\n",
       "      <td>5.33</td>\n",
       "      <td>36.2</td>\n",
       "    </tr>\n",
       "  </tbody>\n",
       "</table>\n",
       "</div>"
      ],
      "text/plain": [
       "   Crime Rate  Residential Proportion  non-retail business acres/Town  \\\n",
       "0     0.00632                    18.0                            2.31   \n",
       "1     0.02731                     0.0                            7.07   \n",
       "2     0.02729                     0.0                            7.07   \n",
       "3     0.03237                     0.0                            2.18   \n",
       "4     0.06905                     0.0                            2.18   \n",
       "\n",
       "   Charles River  NO2 concentration  Average Rooms/Dwelling.  \\\n",
       "0            0.0              0.538                    6.575   \n",
       "1            0.0              0.469                    6.421   \n",
       "2            0.0              0.469                    7.185   \n",
       "3            0.0              0.458                    6.998   \n",
       "4            0.0              0.458                    7.147   \n",
       "\n",
       "   Prior Built Units Proportion  Distance to Employment Centres  \\\n",
       "0                          65.2                          4.0900   \n",
       "1                          78.9                          4.9671   \n",
       "2                          61.1                          4.9671   \n",
       "3                          45.8                          6.0622   \n",
       "4                          54.2                          6.0622   \n",
       "\n",
       "   Radial Highways Distance  ValueProperty/tax rate  Teacher/town  \\\n",
       "0                       1.0                   296.0          15.3   \n",
       "1                       2.0                   242.0          17.8   \n",
       "2                       2.0                   242.0          17.8   \n",
       "3                       3.0                   222.0          18.7   \n",
       "4                       3.0                   222.0          18.7   \n",
       "\n",
       "   blacks/town  Lower Status Percent  median home price  \n",
       "0       396.90                  4.98               24.0  \n",
       "1       396.90                  9.14               21.6  \n",
       "2       392.83                  4.03               34.7  \n",
       "3       394.63                  2.94               33.4  \n",
       "4       396.90                  5.33               36.2  "
      ]
     },
     "execution_count": 11,
     "metadata": {},
     "output_type": "execute_result"
    }
   ],
   "source": [
    "df.head()"
   ]
  },
  {
   "cell_type": "code",
   "execution_count": 12,
   "id": "dd0aa1d1",
   "metadata": {
    "execution": {
     "iopub.execute_input": "2024-08-27T05:40:37.672577Z",
     "iopub.status.busy": "2024-08-27T05:40:37.671870Z",
     "iopub.status.idle": "2024-08-27T05:40:37.677044Z",
     "shell.execute_reply": "2024-08-27T05:40:37.675753Z"
    },
    "papermill": {
     "duration": 0.04372,
     "end_time": "2024-08-27T05:40:37.679965",
     "exception": false,
     "start_time": "2024-08-27T05:40:37.636245",
     "status": "completed"
    },
    "tags": []
   },
   "outputs": [],
   "source": [
    "#df.to_csv('Boston.csv', index=False) "
   ]
  },
  {
   "cell_type": "markdown",
   "id": "7cce95d2",
   "metadata": {
    "papermill": {
     "duration": 0.035334,
     "end_time": "2024-08-27T05:40:37.749442",
     "exception": false,
     "start_time": "2024-08-27T05:40:37.714108",
     "status": "completed"
    },
    "tags": []
   },
   "source": [
    "### Creating Independent and Dependent Variables"
   ]
  },
  {
   "cell_type": "code",
   "execution_count": 13,
   "id": "fd3ecfab",
   "metadata": {
    "execution": {
     "iopub.execute_input": "2024-08-27T05:40:37.823313Z",
     "iopub.status.busy": "2024-08-27T05:40:37.822739Z",
     "iopub.status.idle": "2024-08-27T05:40:37.840525Z",
     "shell.execute_reply": "2024-08-27T05:40:37.838970Z"
    },
    "papermill": {
     "duration": 0.057816,
     "end_time": "2024-08-27T05:40:37.843666",
     "exception": false,
     "start_time": "2024-08-27T05:40:37.785850",
     "status": "completed"
    },
    "tags": []
   },
   "outputs": [
    {
     "name": "stdout",
     "output_type": "stream",
     "text": [
      "(506, 13)\n",
      "(506, 1)\n"
     ]
    }
   ],
   "source": [
    "X = df.drop(['median home price'], axis=1)\n",
    "Y = df[['median home price']]\n",
    "print(X.shape)\n",
    "print(Y.shape)"
   ]
  },
  {
   "cell_type": "markdown",
   "id": "02e7b9e7",
   "metadata": {
    "papermill": {
     "duration": 0.033483,
     "end_time": "2024-08-27T05:40:37.912068",
     "exception": false,
     "start_time": "2024-08-27T05:40:37.878585",
     "status": "completed"
    },
    "tags": []
   },
   "source": [
    "### Normalization"
   ]
  },
  {
   "cell_type": "code",
   "execution_count": 14,
   "id": "799eccda",
   "metadata": {
    "execution": {
     "iopub.execute_input": "2024-08-27T05:40:37.981237Z",
     "iopub.status.busy": "2024-08-27T05:40:37.980698Z",
     "iopub.status.idle": "2024-08-27T05:40:37.992883Z",
     "shell.execute_reply": "2024-08-27T05:40:37.991669Z"
    },
    "papermill": {
     "duration": 0.049995,
     "end_time": "2024-08-27T05:40:37.995705",
     "exception": false,
     "start_time": "2024-08-27T05:40:37.945710",
     "status": "completed"
    },
    "tags": []
   },
   "outputs": [],
   "source": [
    "# scale the features\n",
    "from sklearn.preprocessing import MinMaxScaler\n",
    "min_max_scaler = MinMaxScaler()\n",
    "x_scaled_minmax = min_max_scaler.fit_transform(X)\n"
   ]
  },
  {
   "cell_type": "code",
   "execution_count": 15,
   "id": "8a6385b6",
   "metadata": {
    "execution": {
     "iopub.execute_input": "2024-08-27T05:40:38.066102Z",
     "iopub.status.busy": "2024-08-27T05:40:38.065543Z",
     "iopub.status.idle": "2024-08-27T05:40:38.095855Z",
     "shell.execute_reply": "2024-08-27T05:40:38.094623Z"
    },
    "papermill": {
     "duration": 0.069131,
     "end_time": "2024-08-27T05:40:38.099073",
     "exception": false,
     "start_time": "2024-08-27T05:40:38.029942",
     "status": "completed"
    },
    "tags": []
   },
   "outputs": [
    {
     "data": {
      "text/html": [
       "<div>\n",
       "<style scoped>\n",
       "    .dataframe tbody tr th:only-of-type {\n",
       "        vertical-align: middle;\n",
       "    }\n",
       "\n",
       "    .dataframe tbody tr th {\n",
       "        vertical-align: top;\n",
       "    }\n",
       "\n",
       "    .dataframe thead th {\n",
       "        text-align: right;\n",
       "    }\n",
       "</style>\n",
       "<table border=\"1\" class=\"dataframe\">\n",
       "  <thead>\n",
       "    <tr style=\"text-align: right;\">\n",
       "      <th></th>\n",
       "      <th>Crime Rate</th>\n",
       "      <th>Residential Proportion</th>\n",
       "      <th>non-retail business acres/Town</th>\n",
       "      <th>Charles River</th>\n",
       "      <th>NO2 concentration</th>\n",
       "      <th>Average Rooms/Dwelling.</th>\n",
       "      <th>Prior Built Units Proportion</th>\n",
       "      <th>Distance to Employment Centres</th>\n",
       "      <th>Radial Highways Distance</th>\n",
       "      <th>ValueProperty/tax rate</th>\n",
       "      <th>Teacher/town</th>\n",
       "      <th>blacks/town</th>\n",
       "      <th>Lower Status Percent</th>\n",
       "    </tr>\n",
       "  </thead>\n",
       "  <tbody>\n",
       "    <tr>\n",
       "      <th>0</th>\n",
       "      <td>0.000000</td>\n",
       "      <td>0.18</td>\n",
       "      <td>0.067815</td>\n",
       "      <td>0.0</td>\n",
       "      <td>0.314815</td>\n",
       "      <td>0.577505</td>\n",
       "      <td>0.641607</td>\n",
       "      <td>0.269203</td>\n",
       "      <td>0.000000</td>\n",
       "      <td>0.208015</td>\n",
       "      <td>0.287234</td>\n",
       "      <td>1.000000</td>\n",
       "      <td>0.089680</td>\n",
       "    </tr>\n",
       "    <tr>\n",
       "      <th>1</th>\n",
       "      <td>0.000236</td>\n",
       "      <td>0.00</td>\n",
       "      <td>0.242302</td>\n",
       "      <td>0.0</td>\n",
       "      <td>0.172840</td>\n",
       "      <td>0.547998</td>\n",
       "      <td>0.782698</td>\n",
       "      <td>0.348962</td>\n",
       "      <td>0.043478</td>\n",
       "      <td>0.104962</td>\n",
       "      <td>0.553191</td>\n",
       "      <td>1.000000</td>\n",
       "      <td>0.204470</td>\n",
       "    </tr>\n",
       "    <tr>\n",
       "      <th>2</th>\n",
       "      <td>0.000236</td>\n",
       "      <td>0.00</td>\n",
       "      <td>0.242302</td>\n",
       "      <td>0.0</td>\n",
       "      <td>0.172840</td>\n",
       "      <td>0.694386</td>\n",
       "      <td>0.599382</td>\n",
       "      <td>0.348962</td>\n",
       "      <td>0.043478</td>\n",
       "      <td>0.104962</td>\n",
       "      <td>0.553191</td>\n",
       "      <td>0.989737</td>\n",
       "      <td>0.063466</td>\n",
       "    </tr>\n",
       "    <tr>\n",
       "      <th>3</th>\n",
       "      <td>0.000293</td>\n",
       "      <td>0.00</td>\n",
       "      <td>0.063050</td>\n",
       "      <td>0.0</td>\n",
       "      <td>0.150206</td>\n",
       "      <td>0.658555</td>\n",
       "      <td>0.441813</td>\n",
       "      <td>0.448545</td>\n",
       "      <td>0.086957</td>\n",
       "      <td>0.066794</td>\n",
       "      <td>0.648936</td>\n",
       "      <td>0.994276</td>\n",
       "      <td>0.033389</td>\n",
       "    </tr>\n",
       "    <tr>\n",
       "      <th>4</th>\n",
       "      <td>0.000705</td>\n",
       "      <td>0.00</td>\n",
       "      <td>0.063050</td>\n",
       "      <td>0.0</td>\n",
       "      <td>0.150206</td>\n",
       "      <td>0.687105</td>\n",
       "      <td>0.528321</td>\n",
       "      <td>0.448545</td>\n",
       "      <td>0.086957</td>\n",
       "      <td>0.066794</td>\n",
       "      <td>0.648936</td>\n",
       "      <td>1.000000</td>\n",
       "      <td>0.099338</td>\n",
       "    </tr>\n",
       "  </tbody>\n",
       "</table>\n",
       "</div>"
      ],
      "text/plain": [
       "   Crime Rate  Residential Proportion  non-retail business acres/Town  \\\n",
       "0    0.000000                    0.18                        0.067815   \n",
       "1    0.000236                    0.00                        0.242302   \n",
       "2    0.000236                    0.00                        0.242302   \n",
       "3    0.000293                    0.00                        0.063050   \n",
       "4    0.000705                    0.00                        0.063050   \n",
       "\n",
       "   Charles River  NO2 concentration  Average Rooms/Dwelling.  \\\n",
       "0            0.0           0.314815                 0.577505   \n",
       "1            0.0           0.172840                 0.547998   \n",
       "2            0.0           0.172840                 0.694386   \n",
       "3            0.0           0.150206                 0.658555   \n",
       "4            0.0           0.150206                 0.687105   \n",
       "\n",
       "   Prior Built Units Proportion  Distance to Employment Centres  \\\n",
       "0                      0.641607                        0.269203   \n",
       "1                      0.782698                        0.348962   \n",
       "2                      0.599382                        0.348962   \n",
       "3                      0.441813                        0.448545   \n",
       "4                      0.528321                        0.448545   \n",
       "\n",
       "   Radial Highways Distance  ValueProperty/tax rate  Teacher/town  \\\n",
       "0                  0.000000                0.208015      0.287234   \n",
       "1                  0.043478                0.104962      0.553191   \n",
       "2                  0.043478                0.104962      0.553191   \n",
       "3                  0.086957                0.066794      0.648936   \n",
       "4                  0.086957                0.066794      0.648936   \n",
       "\n",
       "   blacks/town  Lower Status Percent  \n",
       "0     1.000000              0.089680  \n",
       "1     1.000000              0.204470  \n",
       "2     0.989737              0.063466  \n",
       "3     0.994276              0.033389  \n",
       "4     1.000000              0.099338  "
      ]
     },
     "execution_count": 15,
     "metadata": {},
     "output_type": "execute_result"
    }
   ],
   "source": [
    "X = pd.DataFrame(x_scaled_minmax, columns = columnss)\n",
    "X.head()"
   ]
  },
  {
   "cell_type": "markdown",
   "id": "97156a66",
   "metadata": {
    "papermill": {
     "duration": 0.034723,
     "end_time": "2024-08-27T05:40:38.170421",
     "exception": false,
     "start_time": "2024-08-27T05:40:38.135698",
     "status": "completed"
    },
    "tags": []
   },
   "source": [
    "### Train Test Splitting"
   ]
  },
  {
   "cell_type": "markdown",
   "id": "690078ff",
   "metadata": {
    "papermill": {
     "duration": 0.033465,
     "end_time": "2024-08-27T05:40:38.237981",
     "exception": false,
     "start_time": "2024-08-27T05:40:38.204516",
     "status": "completed"
    },
    "tags": []
   },
   "source": [
    "<img src='train_test_split1.png' width=80%, height=80% >"
   ]
  },
  {
   "cell_type": "code",
   "execution_count": 16,
   "id": "b90b21f6",
   "metadata": {
    "execution": {
     "iopub.execute_input": "2024-08-27T05:40:38.309875Z",
     "iopub.status.busy": "2024-08-27T05:40:38.309469Z",
     "iopub.status.idle": "2024-08-27T05:40:38.375042Z",
     "shell.execute_reply": "2024-08-27T05:40:38.373991Z"
    },
    "papermill": {
     "duration": 0.106125,
     "end_time": "2024-08-27T05:40:38.378013",
     "exception": false,
     "start_time": "2024-08-27T05:40:38.271888",
     "status": "completed"
    },
    "tags": []
   },
   "outputs": [],
   "source": [
    "from sklearn.model_selection import train_test_split\n",
    "xtrain ,xtest, ytrain, ytest = train_test_split(X, Y, test_size=0.30, random_state=25,shuffle=True)"
   ]
  },
  {
   "cell_type": "code",
   "execution_count": 17,
   "id": "341e3d54",
   "metadata": {
    "execution": {
     "iopub.execute_input": "2024-08-27T05:40:38.448424Z",
     "iopub.status.busy": "2024-08-27T05:40:38.447240Z",
     "iopub.status.idle": "2024-08-27T05:40:38.455381Z",
     "shell.execute_reply": "2024-08-27T05:40:38.453984Z"
    },
    "papermill": {
     "duration": 0.046039,
     "end_time": "2024-08-27T05:40:38.458144",
     "exception": false,
     "start_time": "2024-08-27T05:40:38.412105",
     "status": "completed"
    },
    "tags": []
   },
   "outputs": [
    {
     "name": "stdout",
     "output_type": "stream",
     "text": [
      "(354, 13) (354, 1)\n",
      "(152, 13) (152, 1)\n"
     ]
    }
   ],
   "source": [
    "print(xtrain.shape, ytrain.shape)\n",
    "print(xtest.shape, ytest.shape)"
   ]
  },
  {
   "cell_type": "markdown",
   "id": "ef0bb56f",
   "metadata": {
    "papermill": {
     "duration": 0.033523,
     "end_time": "2024-08-27T05:40:38.527068",
     "exception": false,
     "start_time": "2024-08-27T05:40:38.493545",
     "status": "completed"
    },
    "tags": []
   },
   "source": [
    "### Training Model, Predicting & Testing"
   ]
  },
  {
   "cell_type": "code",
   "execution_count": 18,
   "id": "0a7fdf25",
   "metadata": {
    "execution": {
     "iopub.execute_input": "2024-08-27T05:40:38.597986Z",
     "iopub.status.busy": "2024-08-27T05:40:38.596898Z",
     "iopub.status.idle": "2024-08-27T05:40:38.688957Z",
     "shell.execute_reply": "2024-08-27T05:40:38.687573Z"
    },
    "papermill": {
     "duration": 0.130373,
     "end_time": "2024-08-27T05:40:38.692157",
     "exception": false,
     "start_time": "2024-08-27T05:40:38.561784",
     "status": "completed"
    },
    "tags": []
   },
   "outputs": [],
   "source": [
    "from sklearn.linear_model import LinearRegression\n",
    "model = LinearRegression()"
   ]
  },
  {
   "cell_type": "code",
   "execution_count": 19,
   "id": "46bdc041",
   "metadata": {
    "execution": {
     "iopub.execute_input": "2024-08-27T05:40:38.762260Z",
     "iopub.status.busy": "2024-08-27T05:40:38.761794Z",
     "iopub.status.idle": "2024-08-27T05:40:38.792954Z",
     "shell.execute_reply": "2024-08-27T05:40:38.791684Z"
    },
    "papermill": {
     "duration": 0.069018,
     "end_time": "2024-08-27T05:40:38.795821",
     "exception": false,
     "start_time": "2024-08-27T05:40:38.726803",
     "status": "completed"
    },
    "tags": []
   },
   "outputs": [
    {
     "data": {
      "text/plain": [
       "LinearRegression()"
      ]
     },
     "execution_count": 19,
     "metadata": {},
     "output_type": "execute_result"
    }
   ],
   "source": [
    "model.fit(xtrain, ytrain)  # model training "
   ]
  },
  {
   "cell_type": "markdown",
   "id": "60d2e09e",
   "metadata": {
    "papermill": {
     "duration": 0.034054,
     "end_time": "2024-08-27T05:40:38.864110",
     "exception": false,
     "start_time": "2024-08-27T05:40:38.830056",
     "status": "completed"
    },
    "tags": []
   },
   "source": [
    "## Physically analysis actual values and predicted values"
   ]
  },
  {
   "cell_type": "code",
   "execution_count": 20,
   "id": "f367d623",
   "metadata": {
    "execution": {
     "iopub.execute_input": "2024-08-27T05:40:38.934912Z",
     "iopub.status.busy": "2024-08-27T05:40:38.933900Z",
     "iopub.status.idle": "2024-08-27T05:40:38.942881Z",
     "shell.execute_reply": "2024-08-27T05:40:38.941705Z"
    },
    "papermill": {
     "duration": 0.04719,
     "end_time": "2024-08-27T05:40:38.945498",
     "exception": false,
     "start_time": "2024-08-27T05:40:38.898308",
     "status": "completed"
    },
    "tags": []
   },
   "outputs": [],
   "source": [
    "predict_test = model.predict(xtest)"
   ]
  },
  {
   "cell_type": "code",
   "execution_count": 21,
   "id": "572e4e68",
   "metadata": {
    "execution": {
     "iopub.execute_input": "2024-08-27T05:40:39.015950Z",
     "iopub.status.busy": "2024-08-27T05:40:39.014881Z",
     "iopub.status.idle": "2024-08-27T05:40:39.020529Z",
     "shell.execute_reply": "2024-08-27T05:40:39.019437Z"
    },
    "papermill": {
     "duration": 0.043611,
     "end_time": "2024-08-27T05:40:39.023018",
     "exception": false,
     "start_time": "2024-08-27T05:40:38.979407",
     "status": "completed"
    },
    "tags": []
   },
   "outputs": [],
   "source": [
    "xtest_c = xtest.copy()"
   ]
  },
  {
   "cell_type": "code",
   "execution_count": 22,
   "id": "d2a6996a",
   "metadata": {
    "execution": {
     "iopub.execute_input": "2024-08-27T05:40:39.092967Z",
     "iopub.status.busy": "2024-08-27T05:40:39.092546Z",
     "iopub.status.idle": "2024-08-27T05:40:39.099359Z",
     "shell.execute_reply": "2024-08-27T05:40:39.098013Z"
    },
    "papermill": {
     "duration": 0.044938,
     "end_time": "2024-08-27T05:40:39.101927",
     "exception": false,
     "start_time": "2024-08-27T05:40:39.056989",
     "status": "completed"
    },
    "tags": []
   },
   "outputs": [],
   "source": [
    "xtest_c['predict_test']=predict_test"
   ]
  },
  {
   "cell_type": "code",
   "execution_count": 23,
   "id": "ab87adda",
   "metadata": {
    "execution": {
     "iopub.execute_input": "2024-08-27T05:40:39.171885Z",
     "iopub.status.busy": "2024-08-27T05:40:39.171449Z",
     "iopub.status.idle": "2024-08-27T05:40:39.178060Z",
     "shell.execute_reply": "2024-08-27T05:40:39.176740Z"
    },
    "papermill": {
     "duration": 0.04479,
     "end_time": "2024-08-27T05:40:39.180690",
     "exception": false,
     "start_time": "2024-08-27T05:40:39.135900",
     "status": "completed"
    },
    "tags": []
   },
   "outputs": [],
   "source": [
    "xtest_c['actual reasult']=ytest.copy()"
   ]
  },
  {
   "cell_type": "code",
   "execution_count": 24,
   "id": "1b082b99",
   "metadata": {
    "execution": {
     "iopub.execute_input": "2024-08-27T05:40:39.250073Z",
     "iopub.status.busy": "2024-08-27T05:40:39.249639Z",
     "iopub.status.idle": "2024-08-27T05:40:39.284233Z",
     "shell.execute_reply": "2024-08-27T05:40:39.282997Z"
    },
    "papermill": {
     "duration": 0.072294,
     "end_time": "2024-08-27T05:40:39.286970",
     "exception": false,
     "start_time": "2024-08-27T05:40:39.214676",
     "status": "completed"
    },
    "tags": []
   },
   "outputs": [
    {
     "data": {
      "text/html": [
       "<div>\n",
       "<style scoped>\n",
       "    .dataframe tbody tr th:only-of-type {\n",
       "        vertical-align: middle;\n",
       "    }\n",
       "\n",
       "    .dataframe tbody tr th {\n",
       "        vertical-align: top;\n",
       "    }\n",
       "\n",
       "    .dataframe thead th {\n",
       "        text-align: right;\n",
       "    }\n",
       "</style>\n",
       "<table border=\"1\" class=\"dataframe\">\n",
       "  <thead>\n",
       "    <tr style=\"text-align: right;\">\n",
       "      <th></th>\n",
       "      <th>Crime Rate</th>\n",
       "      <th>Residential Proportion</th>\n",
       "      <th>non-retail business acres/Town</th>\n",
       "      <th>Charles River</th>\n",
       "      <th>NO2 concentration</th>\n",
       "      <th>Average Rooms/Dwelling.</th>\n",
       "      <th>Prior Built Units Proportion</th>\n",
       "      <th>Distance to Employment Centres</th>\n",
       "      <th>Radial Highways Distance</th>\n",
       "      <th>ValueProperty/tax rate</th>\n",
       "      <th>Teacher/town</th>\n",
       "      <th>blacks/town</th>\n",
       "      <th>Lower Status Percent</th>\n",
       "      <th>predict_test</th>\n",
       "      <th>actual reasult</th>\n",
       "    </tr>\n",
       "  </thead>\n",
       "  <tbody>\n",
       "    <tr>\n",
       "      <th>125</th>\n",
       "      <td>0.001829</td>\n",
       "      <td>0.00</td>\n",
       "      <td>0.923387</td>\n",
       "      <td>0.0</td>\n",
       "      <td>0.403292</td>\n",
       "      <td>0.464648</td>\n",
       "      <td>0.880536</td>\n",
       "      <td>0.078504</td>\n",
       "      <td>0.043478</td>\n",
       "      <td>0.001908</td>\n",
       "      <td>0.691489</td>\n",
       "      <td>0.970044</td>\n",
       "      <td>0.360927</td>\n",
       "      <td>23.212415</td>\n",
       "      <td>21.4</td>\n",
       "    </tr>\n",
       "    <tr>\n",
       "      <th>486</th>\n",
       "      <td>0.063903</td>\n",
       "      <td>0.00</td>\n",
       "      <td>0.646628</td>\n",
       "      <td>0.0</td>\n",
       "      <td>0.407407</td>\n",
       "      <td>0.489174</td>\n",
       "      <td>0.791967</td>\n",
       "      <td>0.219726</td>\n",
       "      <td>1.000000</td>\n",
       "      <td>0.914122</td>\n",
       "      <td>0.808511</td>\n",
       "      <td>0.989359</td>\n",
       "      <td>0.365618</td>\n",
       "      <td>19.492396</td>\n",
       "      <td>19.1</td>\n",
       "    </tr>\n",
       "    <tr>\n",
       "      <th>324</th>\n",
       "      <td>0.003763</td>\n",
       "      <td>0.00</td>\n",
       "      <td>0.253666</td>\n",
       "      <td>0.0</td>\n",
       "      <td>0.222222</td>\n",
       "      <td>0.546848</td>\n",
       "      <td>0.383110</td>\n",
       "      <td>0.326592</td>\n",
       "      <td>0.173913</td>\n",
       "      <td>0.190840</td>\n",
       "      <td>0.744681</td>\n",
       "      <td>1.000000</td>\n",
       "      <td>0.121137</td>\n",
       "      <td>25.134921</td>\n",
       "      <td>25.0</td>\n",
       "    </tr>\n",
       "    <tr>\n",
       "      <th>386</th>\n",
       "      <td>0.274109</td>\n",
       "      <td>0.00</td>\n",
       "      <td>0.646628</td>\n",
       "      <td>0.0</td>\n",
       "      <td>0.648148</td>\n",
       "      <td>0.209044</td>\n",
       "      <td>1.000000</td>\n",
       "      <td>0.030700</td>\n",
       "      <td>1.000000</td>\n",
       "      <td>0.914122</td>\n",
       "      <td>0.808511</td>\n",
       "      <td>1.000000</td>\n",
       "      <td>0.732616</td>\n",
       "      <td>6.270952</td>\n",
       "      <td>10.5</td>\n",
       "    </tr>\n",
       "    <tr>\n",
       "      <th>459</th>\n",
       "      <td>0.076372</td>\n",
       "      <td>0.00</td>\n",
       "      <td>0.646628</td>\n",
       "      <td>0.0</td>\n",
       "      <td>0.674897</td>\n",
       "      <td>0.482851</td>\n",
       "      <td>0.839341</td>\n",
       "      <td>0.144395</td>\n",
       "      <td>1.000000</td>\n",
       "      <td>0.914122</td>\n",
       "      <td>0.808511</td>\n",
       "      <td>1.000000</td>\n",
       "      <td>0.357892</td>\n",
       "      <td>18.185460</td>\n",
       "      <td>20.0</td>\n",
       "    </tr>\n",
       "    <tr>\n",
       "      <th>...</th>\n",
       "      <td>...</td>\n",
       "      <td>...</td>\n",
       "      <td>...</td>\n",
       "      <td>...</td>\n",
       "      <td>...</td>\n",
       "      <td>...</td>\n",
       "      <td>...</td>\n",
       "      <td>...</td>\n",
       "      <td>...</td>\n",
       "      <td>...</td>\n",
       "      <td>...</td>\n",
       "      <td>...</td>\n",
       "      <td>...</td>\n",
       "      <td>...</td>\n",
       "      <td>...</td>\n",
       "    </tr>\n",
       "    <tr>\n",
       "      <th>84</th>\n",
       "      <td>0.000498</td>\n",
       "      <td>0.00</td>\n",
       "      <td>0.147727</td>\n",
       "      <td>0.0</td>\n",
       "      <td>0.131687</td>\n",
       "      <td>0.541866</td>\n",
       "      <td>0.464470</td>\n",
       "      <td>0.331894</td>\n",
       "      <td>0.086957</td>\n",
       "      <td>0.114504</td>\n",
       "      <td>0.627660</td>\n",
       "      <td>1.000000</td>\n",
       "      <td>0.217715</td>\n",
       "      <td>25.100352</td>\n",
       "      <td>23.9</td>\n",
       "    </tr>\n",
       "    <tr>\n",
       "      <th>307</th>\n",
       "      <td>0.000483</td>\n",
       "      <td>0.33</td>\n",
       "      <td>0.063050</td>\n",
       "      <td>0.0</td>\n",
       "      <td>0.179012</td>\n",
       "      <td>0.630006</td>\n",
       "      <td>0.694130</td>\n",
       "      <td>0.186698</td>\n",
       "      <td>0.260870</td>\n",
       "      <td>0.066794</td>\n",
       "      <td>0.617021</td>\n",
       "      <td>1.000000</td>\n",
       "      <td>0.160044</td>\n",
       "      <td>33.434188</td>\n",
       "      <td>28.2</td>\n",
       "    </tr>\n",
       "    <tr>\n",
       "      <th>173</th>\n",
       "      <td>0.000961</td>\n",
       "      <td>0.00</td>\n",
       "      <td>0.131598</td>\n",
       "      <td>0.0</td>\n",
       "      <td>0.257202</td>\n",
       "      <td>0.547040</td>\n",
       "      <td>0.836251</td>\n",
       "      <td>0.137921</td>\n",
       "      <td>0.173913</td>\n",
       "      <td>0.208015</td>\n",
       "      <td>0.425532</td>\n",
       "      <td>0.996470</td>\n",
       "      <td>0.201711</td>\n",
       "      <td>29.213348</td>\n",
       "      <td>23.6</td>\n",
       "    </tr>\n",
       "    <tr>\n",
       "      <th>56</th>\n",
       "      <td>0.000160</td>\n",
       "      <td>0.85</td>\n",
       "      <td>0.010264</td>\n",
       "      <td>0.0</td>\n",
       "      <td>0.051440</td>\n",
       "      <td>0.540717</td>\n",
       "      <td>0.337796</td>\n",
       "      <td>0.732752</td>\n",
       "      <td>0.043478</td>\n",
       "      <td>0.240458</td>\n",
       "      <td>0.500000</td>\n",
       "      <td>1.000000</td>\n",
       "      <td>0.111479</td>\n",
       "      <td>24.720948</td>\n",
       "      <td>24.7</td>\n",
       "    </tr>\n",
       "    <tr>\n",
       "      <th>431</th>\n",
       "      <td>0.113027</td>\n",
       "      <td>0.00</td>\n",
       "      <td>0.646628</td>\n",
       "      <td>0.0</td>\n",
       "      <td>0.409465</td>\n",
       "      <td>0.626940</td>\n",
       "      <td>0.941298</td>\n",
       "      <td>0.087170</td>\n",
       "      <td>1.000000</td>\n",
       "      <td>0.914122</td>\n",
       "      <td>0.808511</td>\n",
       "      <td>0.204272</td>\n",
       "      <td>0.495585</td>\n",
       "      <td>19.576800</td>\n",
       "      <td>14.1</td>\n",
       "    </tr>\n",
       "  </tbody>\n",
       "</table>\n",
       "<p>152 rows × 15 columns</p>\n",
       "</div>"
      ],
      "text/plain": [
       "     Crime Rate  Residential Proportion  non-retail business acres/Town  \\\n",
       "125    0.001829                    0.00                        0.923387   \n",
       "486    0.063903                    0.00                        0.646628   \n",
       "324    0.003763                    0.00                        0.253666   \n",
       "386    0.274109                    0.00                        0.646628   \n",
       "459    0.076372                    0.00                        0.646628   \n",
       "..          ...                     ...                             ...   \n",
       "84     0.000498                    0.00                        0.147727   \n",
       "307    0.000483                    0.33                        0.063050   \n",
       "173    0.000961                    0.00                        0.131598   \n",
       "56     0.000160                    0.85                        0.010264   \n",
       "431    0.113027                    0.00                        0.646628   \n",
       "\n",
       "     Charles River  NO2 concentration  Average Rooms/Dwelling.  \\\n",
       "125            0.0           0.403292                 0.464648   \n",
       "486            0.0           0.407407                 0.489174   \n",
       "324            0.0           0.222222                 0.546848   \n",
       "386            0.0           0.648148                 0.209044   \n",
       "459            0.0           0.674897                 0.482851   \n",
       "..             ...                ...                      ...   \n",
       "84             0.0           0.131687                 0.541866   \n",
       "307            0.0           0.179012                 0.630006   \n",
       "173            0.0           0.257202                 0.547040   \n",
       "56             0.0           0.051440                 0.540717   \n",
       "431            0.0           0.409465                 0.626940   \n",
       "\n",
       "     Prior Built Units Proportion  Distance to Employment Centres  \\\n",
       "125                      0.880536                        0.078504   \n",
       "486                      0.791967                        0.219726   \n",
       "324                      0.383110                        0.326592   \n",
       "386                      1.000000                        0.030700   \n",
       "459                      0.839341                        0.144395   \n",
       "..                            ...                             ...   \n",
       "84                       0.464470                        0.331894   \n",
       "307                      0.694130                        0.186698   \n",
       "173                      0.836251                        0.137921   \n",
       "56                       0.337796                        0.732752   \n",
       "431                      0.941298                        0.087170   \n",
       "\n",
       "     Radial Highways Distance  ValueProperty/tax rate  Teacher/town  \\\n",
       "125                  0.043478                0.001908      0.691489   \n",
       "486                  1.000000                0.914122      0.808511   \n",
       "324                  0.173913                0.190840      0.744681   \n",
       "386                  1.000000                0.914122      0.808511   \n",
       "459                  1.000000                0.914122      0.808511   \n",
       "..                        ...                     ...           ...   \n",
       "84                   0.086957                0.114504      0.627660   \n",
       "307                  0.260870                0.066794      0.617021   \n",
       "173                  0.173913                0.208015      0.425532   \n",
       "56                   0.043478                0.240458      0.500000   \n",
       "431                  1.000000                0.914122      0.808511   \n",
       "\n",
       "     blacks/town  Lower Status Percent  predict_test  actual reasult  \n",
       "125     0.970044              0.360927     23.212415            21.4  \n",
       "486     0.989359              0.365618     19.492396            19.1  \n",
       "324     1.000000              0.121137     25.134921            25.0  \n",
       "386     1.000000              0.732616      6.270952            10.5  \n",
       "459     1.000000              0.357892     18.185460            20.0  \n",
       "..           ...                   ...           ...             ...  \n",
       "84      1.000000              0.217715     25.100352            23.9  \n",
       "307     1.000000              0.160044     33.434188            28.2  \n",
       "173     0.996470              0.201711     29.213348            23.6  \n",
       "56      1.000000              0.111479     24.720948            24.7  \n",
       "431     0.204272              0.495585     19.576800            14.1  \n",
       "\n",
       "[152 rows x 15 columns]"
      ]
     },
     "execution_count": 24,
     "metadata": {},
     "output_type": "execute_result"
    }
   ],
   "source": [
    "xtest_c"
   ]
  },
  {
   "cell_type": "code",
   "execution_count": 25,
   "id": "74b14c51",
   "metadata": {
    "execution": {
     "iopub.execute_input": "2024-08-27T05:40:39.359162Z",
     "iopub.status.busy": "2024-08-27T05:40:39.358720Z",
     "iopub.status.idle": "2024-08-27T05:40:39.366684Z",
     "shell.execute_reply": "2024-08-27T05:40:39.365503Z"
    },
    "papermill": {
     "duration": 0.046949,
     "end_time": "2024-08-27T05:40:39.369602",
     "exception": false,
     "start_time": "2024-08-27T05:40:39.322653",
     "status": "completed"
    },
    "tags": []
   },
   "outputs": [
    {
     "data": {
      "text/plain": [
       "array([[-10.25416832,   5.05163648,   0.7465737 ,   0.73047106,\n",
       "         -9.22588505,  21.03952249,  -0.4688927 , -17.04518353,\n",
       "          8.45182117,  -8.73511563,  -9.26613212,   2.95271586,\n",
       "        -16.64030396]])"
      ]
     },
     "execution_count": 25,
     "metadata": {},
     "output_type": "execute_result"
    }
   ],
   "source": [
    "model.coef_"
   ]
  },
  {
   "cell_type": "code",
   "execution_count": 26,
   "id": "e1c34729",
   "metadata": {
    "execution": {
     "iopub.execute_input": "2024-08-27T05:40:39.446714Z",
     "iopub.status.busy": "2024-08-27T05:40:39.445697Z",
     "iopub.status.idle": "2024-08-27T05:40:39.453390Z",
     "shell.execute_reply": "2024-08-27T05:40:39.452244Z"
    },
    "papermill": {
     "duration": 0.046476,
     "end_time": "2024-08-27T05:40:39.455860",
     "exception": false,
     "start_time": "2024-08-27T05:40:39.409384",
     "status": "completed"
    },
    "tags": []
   },
   "outputs": [
    {
     "data": {
      "text/plain": [
       "array([27.43583278])"
      ]
     },
     "execution_count": 26,
     "metadata": {},
     "output_type": "execute_result"
    }
   ],
   "source": [
    "model.intercept_"
   ]
  },
  {
   "cell_type": "code",
   "execution_count": 27,
   "id": "61fcf91e",
   "metadata": {
    "execution": {
     "iopub.execute_input": "2024-08-27T05:40:39.529211Z",
     "iopub.status.busy": "2024-08-27T05:40:39.528737Z",
     "iopub.status.idle": "2024-08-27T05:40:39.566356Z",
     "shell.execute_reply": "2024-08-27T05:40:39.565013Z"
    },
    "papermill": {
     "duration": 0.07771,
     "end_time": "2024-08-27T05:40:39.570304",
     "exception": false,
     "start_time": "2024-08-27T05:40:39.492594",
     "status": "completed"
    },
    "tags": []
   },
   "outputs": [
    {
     "data": {
      "text/html": [
       "<div>\n",
       "<style scoped>\n",
       "    .dataframe tbody tr th:only-of-type {\n",
       "        vertical-align: middle;\n",
       "    }\n",
       "\n",
       "    .dataframe tbody tr th {\n",
       "        vertical-align: top;\n",
       "    }\n",
       "\n",
       "    .dataframe thead th {\n",
       "        text-align: right;\n",
       "    }\n",
       "</style>\n",
       "<table border=\"1\" class=\"dataframe\">\n",
       "  <thead>\n",
       "    <tr style=\"text-align: right;\">\n",
       "      <th></th>\n",
       "      <th>Crime Rate</th>\n",
       "      <th>Residential Proportion</th>\n",
       "      <th>non-retail business acres/Town</th>\n",
       "      <th>Charles River</th>\n",
       "      <th>NO2 concentration</th>\n",
       "      <th>Average Rooms/Dwelling.</th>\n",
       "      <th>Prior Built Units Proportion</th>\n",
       "      <th>Distance to Employment Centres</th>\n",
       "      <th>Radial Highways Distance</th>\n",
       "      <th>ValueProperty/tax rate</th>\n",
       "      <th>Teacher/town</th>\n",
       "      <th>blacks/town</th>\n",
       "      <th>Lower Status Percent</th>\n",
       "      <th>predict_test</th>\n",
       "      <th>actual reasult</th>\n",
       "    </tr>\n",
       "  </thead>\n",
       "  <tbody>\n",
       "    <tr>\n",
       "      <th>125</th>\n",
       "      <td>0.001829</td>\n",
       "      <td>0.00</td>\n",
       "      <td>0.923387</td>\n",
       "      <td>0.0</td>\n",
       "      <td>0.403292</td>\n",
       "      <td>0.464648</td>\n",
       "      <td>0.880536</td>\n",
       "      <td>0.078504</td>\n",
       "      <td>0.043478</td>\n",
       "      <td>0.001908</td>\n",
       "      <td>0.691489</td>\n",
       "      <td>0.970044</td>\n",
       "      <td>0.360927</td>\n",
       "      <td>23.212415</td>\n",
       "      <td>21.4</td>\n",
       "    </tr>\n",
       "    <tr>\n",
       "      <th>486</th>\n",
       "      <td>0.063903</td>\n",
       "      <td>0.00</td>\n",
       "      <td>0.646628</td>\n",
       "      <td>0.0</td>\n",
       "      <td>0.407407</td>\n",
       "      <td>0.489174</td>\n",
       "      <td>0.791967</td>\n",
       "      <td>0.219726</td>\n",
       "      <td>1.000000</td>\n",
       "      <td>0.914122</td>\n",
       "      <td>0.808511</td>\n",
       "      <td>0.989359</td>\n",
       "      <td>0.365618</td>\n",
       "      <td>19.492396</td>\n",
       "      <td>19.1</td>\n",
       "    </tr>\n",
       "    <tr>\n",
       "      <th>324</th>\n",
       "      <td>0.003763</td>\n",
       "      <td>0.00</td>\n",
       "      <td>0.253666</td>\n",
       "      <td>0.0</td>\n",
       "      <td>0.222222</td>\n",
       "      <td>0.546848</td>\n",
       "      <td>0.383110</td>\n",
       "      <td>0.326592</td>\n",
       "      <td>0.173913</td>\n",
       "      <td>0.190840</td>\n",
       "      <td>0.744681</td>\n",
       "      <td>1.000000</td>\n",
       "      <td>0.121137</td>\n",
       "      <td>25.134921</td>\n",
       "      <td>25.0</td>\n",
       "    </tr>\n",
       "    <tr>\n",
       "      <th>386</th>\n",
       "      <td>0.274109</td>\n",
       "      <td>0.00</td>\n",
       "      <td>0.646628</td>\n",
       "      <td>0.0</td>\n",
       "      <td>0.648148</td>\n",
       "      <td>0.209044</td>\n",
       "      <td>1.000000</td>\n",
       "      <td>0.030700</td>\n",
       "      <td>1.000000</td>\n",
       "      <td>0.914122</td>\n",
       "      <td>0.808511</td>\n",
       "      <td>1.000000</td>\n",
       "      <td>0.732616</td>\n",
       "      <td>6.270952</td>\n",
       "      <td>10.5</td>\n",
       "    </tr>\n",
       "    <tr>\n",
       "      <th>459</th>\n",
       "      <td>0.076372</td>\n",
       "      <td>0.00</td>\n",
       "      <td>0.646628</td>\n",
       "      <td>0.0</td>\n",
       "      <td>0.674897</td>\n",
       "      <td>0.482851</td>\n",
       "      <td>0.839341</td>\n",
       "      <td>0.144395</td>\n",
       "      <td>1.000000</td>\n",
       "      <td>0.914122</td>\n",
       "      <td>0.808511</td>\n",
       "      <td>1.000000</td>\n",
       "      <td>0.357892</td>\n",
       "      <td>18.185460</td>\n",
       "      <td>20.0</td>\n",
       "    </tr>\n",
       "    <tr>\n",
       "      <th>...</th>\n",
       "      <td>...</td>\n",
       "      <td>...</td>\n",
       "      <td>...</td>\n",
       "      <td>...</td>\n",
       "      <td>...</td>\n",
       "      <td>...</td>\n",
       "      <td>...</td>\n",
       "      <td>...</td>\n",
       "      <td>...</td>\n",
       "      <td>...</td>\n",
       "      <td>...</td>\n",
       "      <td>...</td>\n",
       "      <td>...</td>\n",
       "      <td>...</td>\n",
       "      <td>...</td>\n",
       "    </tr>\n",
       "    <tr>\n",
       "      <th>84</th>\n",
       "      <td>0.000498</td>\n",
       "      <td>0.00</td>\n",
       "      <td>0.147727</td>\n",
       "      <td>0.0</td>\n",
       "      <td>0.131687</td>\n",
       "      <td>0.541866</td>\n",
       "      <td>0.464470</td>\n",
       "      <td>0.331894</td>\n",
       "      <td>0.086957</td>\n",
       "      <td>0.114504</td>\n",
       "      <td>0.627660</td>\n",
       "      <td>1.000000</td>\n",
       "      <td>0.217715</td>\n",
       "      <td>25.100352</td>\n",
       "      <td>23.9</td>\n",
       "    </tr>\n",
       "    <tr>\n",
       "      <th>307</th>\n",
       "      <td>0.000483</td>\n",
       "      <td>0.33</td>\n",
       "      <td>0.063050</td>\n",
       "      <td>0.0</td>\n",
       "      <td>0.179012</td>\n",
       "      <td>0.630006</td>\n",
       "      <td>0.694130</td>\n",
       "      <td>0.186698</td>\n",
       "      <td>0.260870</td>\n",
       "      <td>0.066794</td>\n",
       "      <td>0.617021</td>\n",
       "      <td>1.000000</td>\n",
       "      <td>0.160044</td>\n",
       "      <td>33.434188</td>\n",
       "      <td>28.2</td>\n",
       "    </tr>\n",
       "    <tr>\n",
       "      <th>173</th>\n",
       "      <td>0.000961</td>\n",
       "      <td>0.00</td>\n",
       "      <td>0.131598</td>\n",
       "      <td>0.0</td>\n",
       "      <td>0.257202</td>\n",
       "      <td>0.547040</td>\n",
       "      <td>0.836251</td>\n",
       "      <td>0.137921</td>\n",
       "      <td>0.173913</td>\n",
       "      <td>0.208015</td>\n",
       "      <td>0.425532</td>\n",
       "      <td>0.996470</td>\n",
       "      <td>0.201711</td>\n",
       "      <td>29.213348</td>\n",
       "      <td>23.6</td>\n",
       "    </tr>\n",
       "    <tr>\n",
       "      <th>56</th>\n",
       "      <td>0.000160</td>\n",
       "      <td>0.85</td>\n",
       "      <td>0.010264</td>\n",
       "      <td>0.0</td>\n",
       "      <td>0.051440</td>\n",
       "      <td>0.540717</td>\n",
       "      <td>0.337796</td>\n",
       "      <td>0.732752</td>\n",
       "      <td>0.043478</td>\n",
       "      <td>0.240458</td>\n",
       "      <td>0.500000</td>\n",
       "      <td>1.000000</td>\n",
       "      <td>0.111479</td>\n",
       "      <td>24.720948</td>\n",
       "      <td>24.7</td>\n",
       "    </tr>\n",
       "    <tr>\n",
       "      <th>431</th>\n",
       "      <td>0.113027</td>\n",
       "      <td>0.00</td>\n",
       "      <td>0.646628</td>\n",
       "      <td>0.0</td>\n",
       "      <td>0.409465</td>\n",
       "      <td>0.626940</td>\n",
       "      <td>0.941298</td>\n",
       "      <td>0.087170</td>\n",
       "      <td>1.000000</td>\n",
       "      <td>0.914122</td>\n",
       "      <td>0.808511</td>\n",
       "      <td>0.204272</td>\n",
       "      <td>0.495585</td>\n",
       "      <td>19.576800</td>\n",
       "      <td>14.1</td>\n",
       "    </tr>\n",
       "  </tbody>\n",
       "</table>\n",
       "<p>152 rows × 15 columns</p>\n",
       "</div>"
      ],
      "text/plain": [
       "     Crime Rate  Residential Proportion  non-retail business acres/Town  \\\n",
       "125    0.001829                    0.00                        0.923387   \n",
       "486    0.063903                    0.00                        0.646628   \n",
       "324    0.003763                    0.00                        0.253666   \n",
       "386    0.274109                    0.00                        0.646628   \n",
       "459    0.076372                    0.00                        0.646628   \n",
       "..          ...                     ...                             ...   \n",
       "84     0.000498                    0.00                        0.147727   \n",
       "307    0.000483                    0.33                        0.063050   \n",
       "173    0.000961                    0.00                        0.131598   \n",
       "56     0.000160                    0.85                        0.010264   \n",
       "431    0.113027                    0.00                        0.646628   \n",
       "\n",
       "     Charles River  NO2 concentration  Average Rooms/Dwelling.  \\\n",
       "125            0.0           0.403292                 0.464648   \n",
       "486            0.0           0.407407                 0.489174   \n",
       "324            0.0           0.222222                 0.546848   \n",
       "386            0.0           0.648148                 0.209044   \n",
       "459            0.0           0.674897                 0.482851   \n",
       "..             ...                ...                      ...   \n",
       "84             0.0           0.131687                 0.541866   \n",
       "307            0.0           0.179012                 0.630006   \n",
       "173            0.0           0.257202                 0.547040   \n",
       "56             0.0           0.051440                 0.540717   \n",
       "431            0.0           0.409465                 0.626940   \n",
       "\n",
       "     Prior Built Units Proportion  Distance to Employment Centres  \\\n",
       "125                      0.880536                        0.078504   \n",
       "486                      0.791967                        0.219726   \n",
       "324                      0.383110                        0.326592   \n",
       "386                      1.000000                        0.030700   \n",
       "459                      0.839341                        0.144395   \n",
       "..                            ...                             ...   \n",
       "84                       0.464470                        0.331894   \n",
       "307                      0.694130                        0.186698   \n",
       "173                      0.836251                        0.137921   \n",
       "56                       0.337796                        0.732752   \n",
       "431                      0.941298                        0.087170   \n",
       "\n",
       "     Radial Highways Distance  ValueProperty/tax rate  Teacher/town  \\\n",
       "125                  0.043478                0.001908      0.691489   \n",
       "486                  1.000000                0.914122      0.808511   \n",
       "324                  0.173913                0.190840      0.744681   \n",
       "386                  1.000000                0.914122      0.808511   \n",
       "459                  1.000000                0.914122      0.808511   \n",
       "..                        ...                     ...           ...   \n",
       "84                   0.086957                0.114504      0.627660   \n",
       "307                  0.260870                0.066794      0.617021   \n",
       "173                  0.173913                0.208015      0.425532   \n",
       "56                   0.043478                0.240458      0.500000   \n",
       "431                  1.000000                0.914122      0.808511   \n",
       "\n",
       "     blacks/town  Lower Status Percent  predict_test  actual reasult  \n",
       "125     0.970044              0.360927     23.212415            21.4  \n",
       "486     0.989359              0.365618     19.492396            19.1  \n",
       "324     1.000000              0.121137     25.134921            25.0  \n",
       "386     1.000000              0.732616      6.270952            10.5  \n",
       "459     1.000000              0.357892     18.185460            20.0  \n",
       "..           ...                   ...           ...             ...  \n",
       "84      1.000000              0.217715     25.100352            23.9  \n",
       "307     1.000000              0.160044     33.434188            28.2  \n",
       "173     0.996470              0.201711     29.213348            23.6  \n",
       "56      1.000000              0.111479     24.720948            24.7  \n",
       "431     0.204272              0.495585     19.576800            14.1  \n",
       "\n",
       "[152 rows x 15 columns]"
      ]
     },
     "execution_count": 27,
     "metadata": {},
     "output_type": "execute_result"
    }
   ],
   "source": [
    "xtest_c"
   ]
  },
  {
   "cell_type": "code",
   "execution_count": 28,
   "id": "8e5fc417",
   "metadata": {
    "execution": {
     "iopub.execute_input": "2024-08-27T05:40:39.664357Z",
     "iopub.status.busy": "2024-08-27T05:40:39.663454Z",
     "iopub.status.idle": "2024-08-27T05:40:39.671162Z",
     "shell.execute_reply": "2024-08-27T05:40:39.669757Z"
    },
    "papermill": {
     "duration": 0.052036,
     "end_time": "2024-08-27T05:40:39.673834",
     "exception": false,
     "start_time": "2024-08-27T05:40:39.621798",
     "status": "completed"
    },
    "tags": []
   },
   "outputs": [],
   "source": [
    "x1=0.113027\n",
    "x2=0.00\n",
    "x3=0.646628\n",
    "x4=0.0\n",
    "x5=0.409465\n",
    "x6=0.626940\n",
    "x7=0.941298\n",
    "x8=0.087170\n",
    "x9=1.000000\n",
    "x10=0.914122\n",
    "x11=0.808511\n",
    "x12=0.204272\n",
    "x13=0.495585"
   ]
  },
  {
   "cell_type": "code",
   "execution_count": 29,
   "id": "d908edf1",
   "metadata": {
    "execution": {
     "iopub.execute_input": "2024-08-27T05:40:39.746900Z",
     "iopub.status.busy": "2024-08-27T05:40:39.746413Z",
     "iopub.status.idle": "2024-08-27T05:40:39.754270Z",
     "shell.execute_reply": "2024-08-27T05:40:39.753096Z"
    },
    "papermill": {
     "duration": 0.047538,
     "end_time": "2024-08-27T05:40:39.756858",
     "exception": false,
     "start_time": "2024-08-27T05:40:39.709320",
     "status": "completed"
    },
    "scrolled": true,
    "tags": []
   },
   "outputs": [
    {
     "data": {
      "text/plain": [
       "array([[-10.25416832,   5.05163648,   0.7465737 ,   0.73047106,\n",
       "         -9.22588505,  21.03952249,  -0.4688927 , -17.04518353,\n",
       "          8.45182117,  -8.73511563,  -9.26613212,   2.95271586,\n",
       "        -16.64030396]])"
      ]
     },
     "execution_count": 29,
     "metadata": {},
     "output_type": "execute_result"
    }
   ],
   "source": [
    "model.coef_"
   ]
  },
  {
   "cell_type": "code",
   "execution_count": 30,
   "id": "1b4377b4",
   "metadata": {
    "execution": {
     "iopub.execute_input": "2024-08-27T05:40:39.830421Z",
     "iopub.status.busy": "2024-08-27T05:40:39.829910Z",
     "iopub.status.idle": "2024-08-27T05:40:39.837762Z",
     "shell.execute_reply": "2024-08-27T05:40:39.836354Z"
    },
    "papermill": {
     "duration": 0.047691,
     "end_time": "2024-08-27T05:40:39.840291",
     "exception": false,
     "start_time": "2024-08-27T05:40:39.792600",
     "status": "completed"
    },
    "tags": []
   },
   "outputs": [],
   "source": [
    "w1=-10.25416832\n",
    "w2=5.05163648\n",
    "w3=0.7465737\n",
    "w4= 0.73047106\n",
    "w5=-9.22588505\n",
    "w6=21.03952249\n",
    "w7= -0.4688927\n",
    "w8=-17.04518353\n",
    "w9=8.45182117\n",
    "w10=-8.73511563\n",
    "w11=-9.26613212\n",
    "w12=2.95271586\n",
    "w13= -16.64030396"
   ]
  },
  {
   "cell_type": "code",
   "execution_count": 31,
   "id": "740689e1",
   "metadata": {
    "execution": {
     "iopub.execute_input": "2024-08-27T05:40:39.913394Z",
     "iopub.status.busy": "2024-08-27T05:40:39.912931Z",
     "iopub.status.idle": "2024-08-27T05:40:39.920083Z",
     "shell.execute_reply": "2024-08-27T05:40:39.918846Z"
    },
    "papermill": {
     "duration": 0.046721,
     "end_time": "2024-08-27T05:40:39.922653",
     "exception": false,
     "start_time": "2024-08-27T05:40:39.875932",
     "status": "completed"
    },
    "tags": []
   },
   "outputs": [],
   "source": [
    "mx =(x1*w1\n",
    "          +x2*w2\n",
    "          +x3*w3\n",
    "          +x4*w4\n",
    "          +x5*w5\n",
    "          +x6*w6\n",
    "          +x7*w7\n",
    "          +x8*w8\n",
    "          +x9*w9\n",
    "          +x10*w10\n",
    "          +x11*w11\n",
    "          +x12*w12\n",
    "          +x13*w13 )"
   ]
  },
  {
   "cell_type": "code",
   "execution_count": 32,
   "id": "74b442fe",
   "metadata": {
    "execution": {
     "iopub.execute_input": "2024-08-27T05:40:39.996523Z",
     "iopub.status.busy": "2024-08-27T05:40:39.996098Z",
     "iopub.status.idle": "2024-08-27T05:40:40.003327Z",
     "shell.execute_reply": "2024-08-27T05:40:40.002202Z"
    },
    "papermill": {
     "duration": 0.047047,
     "end_time": "2024-08-27T05:40:40.005881",
     "exception": false,
     "start_time": "2024-08-27T05:40:39.958834",
     "status": "completed"
    },
    "tags": []
   },
   "outputs": [
    {
     "data": {
      "text/plain": [
       "-7.859035435636248"
      ]
     },
     "execution_count": 32,
     "metadata": {},
     "output_type": "execute_result"
    }
   ],
   "source": [
    "mx"
   ]
  },
  {
   "cell_type": "markdown",
   "id": "03f5efbd",
   "metadata": {
    "papermill": {
     "duration": 0.035225,
     "end_time": "2024-08-27T05:40:40.076801",
     "exception": false,
     "start_time": "2024-08-27T05:40:40.041576",
     "status": "completed"
    },
    "tags": []
   },
   "source": [
    "### c is the y_intercept "
   ]
  },
  {
   "cell_type": "code",
   "execution_count": 33,
   "id": "18869bcd",
   "metadata": {
    "execution": {
     "iopub.execute_input": "2024-08-27T05:40:40.150340Z",
     "iopub.status.busy": "2024-08-27T05:40:40.149260Z",
     "iopub.status.idle": "2024-08-27T05:40:40.154657Z",
     "shell.execute_reply": "2024-08-27T05:40:40.153496Z"
    },
    "papermill": {
     "duration": 0.045048,
     "end_time": "2024-08-27T05:40:40.157373",
     "exception": false,
     "start_time": "2024-08-27T05:40:40.112325",
     "status": "completed"
    },
    "tags": []
   },
   "outputs": [],
   "source": [
    "c = 27.43583278"
   ]
  },
  {
   "cell_type": "markdown",
   "id": "c58023f0",
   "metadata": {
    "papermill": {
     "duration": 0.035065,
     "end_time": "2024-08-27T05:40:40.228744",
     "exception": false,
     "start_time": "2024-08-27T05:40:40.193679",
     "status": "completed"
    },
    "tags": []
   },
   "source": [
    "Eqiation \n",
    "y = mx+c"
   ]
  },
  {
   "cell_type": "code",
   "execution_count": 34,
   "id": "cfcb4fe4",
   "metadata": {
    "execution": {
     "iopub.execute_input": "2024-08-27T05:40:40.301540Z",
     "iopub.status.busy": "2024-08-27T05:40:40.301106Z",
     "iopub.status.idle": "2024-08-27T05:40:40.308696Z",
     "shell.execute_reply": "2024-08-27T05:40:40.307524Z"
    },
    "papermill": {
     "duration": 0.047135,
     "end_time": "2024-08-27T05:40:40.311380",
     "exception": false,
     "start_time": "2024-08-27T05:40:40.264245",
     "status": "completed"
    },
    "scrolled": true,
    "tags": []
   },
   "outputs": [
    {
     "data": {
      "text/plain": [
       "19.57679734436375"
      ]
     },
     "execution_count": 34,
     "metadata": {},
     "output_type": "execute_result"
    }
   ],
   "source": [
    "output = mx+c\n",
    "output"
   ]
  },
  {
   "cell_type": "markdown",
   "id": "f98f18a2",
   "metadata": {
    "papermill": {
     "duration": 0.035491,
     "end_time": "2024-08-27T05:40:40.382615",
     "exception": false,
     "start_time": "2024-08-27T05:40:40.347124",
     "status": "completed"
    },
    "tags": []
   },
   "source": [
    "## prove that \n",
    "\n",
    " ### y = mx + c\n",
    " \n",
    " c is interrpt only one time add while mx is calcalate\n",
    " \n",
    " m is wieght  so that                                   w1 w2 w3 w4 w5 w6 w7 w8 w9 w10 w11 w12 w13   coloum wieght\n",
    " \n",
    " x is the varible or coloum vlaue so that               x1 x2 x3 x4 x5 x6 x7 x8 x9 x10 x11 x12 x13   coloum item\n",
    " \n",
    " y is the predicted value according to this mx \n",
    " \n",
    "           y = mx + c\n",
    "           \n",
    "             = (-7.859035435636248)+(27.43583278 )\n",
    "             \n",
    "           y= 19.57679734436375 this value is present in y_test predict while in data frame the coloum name is \" predected \n",
    "           \n",
    "           value \" present this value    "
   ]
  },
  {
   "cell_type": "markdown",
   "id": "caf3c9c5",
   "metadata": {
    "papermill": {
     "duration": 0.035371,
     "end_time": "2024-08-27T05:40:40.453937",
     "exception": false,
     "start_time": "2024-08-27T05:40:40.418566",
     "status": "completed"
    },
    "tags": []
   },
   "source": [
    "### **Checking r2 by sklearn metric**"
   ]
  },
  {
   "cell_type": "markdown",
   "id": "6be0b183",
   "metadata": {
    "papermill": {
     "duration": 0.03557,
     "end_time": "2024-08-27T05:40:40.526748",
     "exception": false,
     "start_time": "2024-08-27T05:40:40.491178",
     "status": "completed"
    },
    "tags": []
   },
   "source": [
    "R2 is a statistic that will give some information about the goodness of fit of a model. In regression, the R2 coefficient of determination is a statistical measure of how well the regression predictions approximate the real data points. An R2 of 1 indicates that the regression predictions perfectly fit the data.A constant model that always predicts the expected value of y, disregarding the input features, would get a R2 score of 0.0."
   ]
  },
  {
   "cell_type": "code",
   "execution_count": 35,
   "id": "df87ab9a",
   "metadata": {
    "execution": {
     "iopub.execute_input": "2024-08-27T05:40:40.600326Z",
     "iopub.status.busy": "2024-08-27T05:40:40.599444Z",
     "iopub.status.idle": "2024-08-27T05:40:40.604825Z",
     "shell.execute_reply": "2024-08-27T05:40:40.603688Z"
    },
    "papermill": {
     "duration": 0.045022,
     "end_time": "2024-08-27T05:40:40.607385",
     "exception": false,
     "start_time": "2024-08-27T05:40:40.562363",
     "status": "completed"
    },
    "tags": []
   },
   "outputs": [],
   "source": [
    "from sklearn.metrics import mean_absolute_error"
   ]
  },
  {
   "cell_type": "code",
   "execution_count": 36,
   "id": "ce79c7d5",
   "metadata": {
    "execution": {
     "iopub.execute_input": "2024-08-27T05:40:40.681626Z",
     "iopub.status.busy": "2024-08-27T05:40:40.681207Z",
     "iopub.status.idle": "2024-08-27T05:40:40.686460Z",
     "shell.execute_reply": "2024-08-27T05:40:40.685285Z"
    },
    "papermill": {
     "duration": 0.045661,
     "end_time": "2024-08-27T05:40:40.689270",
     "exception": false,
     "start_time": "2024-08-27T05:40:40.643609",
     "status": "completed"
    },
    "tags": []
   },
   "outputs": [],
   "source": [
    "from sklearn.metrics import mean_squared_error"
   ]
  },
  {
   "cell_type": "code",
   "execution_count": 37,
   "id": "b94d8d17",
   "metadata": {
    "execution": {
     "iopub.execute_input": "2024-08-27T05:40:40.762954Z",
     "iopub.status.busy": "2024-08-27T05:40:40.762555Z",
     "iopub.status.idle": "2024-08-27T05:40:40.773567Z",
     "shell.execute_reply": "2024-08-27T05:40:40.772280Z"
    },
    "papermill": {
     "duration": 0.050921,
     "end_time": "2024-08-27T05:40:40.776396",
     "exception": false,
     "start_time": "2024-08-27T05:40:40.725475",
     "status": "completed"
    },
    "tags": []
   },
   "outputs": [
    {
     "data": {
      "text/plain": [
       "3.117569419480103"
      ]
     },
     "execution_count": 37,
     "metadata": {},
     "output_type": "execute_result"
    }
   ],
   "source": [
    "mean_absolute_error(ytest,predict_test)"
   ]
  },
  {
   "cell_type": "code",
   "execution_count": 38,
   "id": "04204c4b",
   "metadata": {
    "execution": {
     "iopub.execute_input": "2024-08-27T05:40:40.851909Z",
     "iopub.status.busy": "2024-08-27T05:40:40.851072Z",
     "iopub.status.idle": "2024-08-27T05:40:40.861332Z",
     "shell.execute_reply": "2024-08-27T05:40:40.860186Z"
    },
    "papermill": {
     "duration": 0.050869,
     "end_time": "2024-08-27T05:40:40.863751",
     "exception": false,
     "start_time": "2024-08-27T05:40:40.812882",
     "status": "completed"
    },
    "tags": []
   },
   "outputs": [
    {
     "data": {
      "text/plain": [
       "21.59720903501844"
      ]
     },
     "execution_count": 38,
     "metadata": {},
     "output_type": "execute_result"
    }
   ],
   "source": [
    "mean_squared_error(ytest,predict_test)"
   ]
  },
  {
   "cell_type": "code",
   "execution_count": 39,
   "id": "6bb6a406",
   "metadata": {
    "execution": {
     "iopub.execute_input": "2024-08-27T05:40:40.938371Z",
     "iopub.status.busy": "2024-08-27T05:40:40.937889Z",
     "iopub.status.idle": "2024-08-27T05:40:40.948869Z",
     "shell.execute_reply": "2024-08-27T05:40:40.947730Z"
    },
    "papermill": {
     "duration": 0.051732,
     "end_time": "2024-08-27T05:40:40.951683",
     "exception": false,
     "start_time": "2024-08-27T05:40:40.899951",
     "status": "completed"
    },
    "scrolled": true,
    "tags": []
   },
   "outputs": [
    {
     "data": {
      "text/plain": [
       "0.7133593313710358"
      ]
     },
     "execution_count": 39,
     "metadata": {},
     "output_type": "execute_result"
    }
   ],
   "source": [
    "from sklearn.metrics import r2_score\n",
    "test_r2=r2_score(ytest,predict_test)\n",
    "test_r2"
   ]
  },
  {
   "cell_type": "code",
   "execution_count": 40,
   "id": "db2ce13b",
   "metadata": {
    "execution": {
     "iopub.execute_input": "2024-08-27T05:40:41.028481Z",
     "iopub.status.busy": "2024-08-27T05:40:41.027352Z",
     "iopub.status.idle": "2024-08-27T05:40:41.039682Z",
     "shell.execute_reply": "2024-08-27T05:40:41.038469Z"
    },
    "papermill": {
     "duration": 0.05345,
     "end_time": "2024-08-27T05:40:41.042374",
     "exception": false,
     "start_time": "2024-08-27T05:40:40.988924",
     "status": "completed"
    },
    "tags": []
   },
   "outputs": [
    {
     "data": {
      "text/plain": [
       "0.7435787589010061"
      ]
     },
     "execution_count": 40,
     "metadata": {},
     "output_type": "execute_result"
    }
   ],
   "source": [
    "train_r2=r2_score(ytrain,model.predict(xtrain))\n",
    "train_r2\n",
    "#ya oper wala he kam kea ha is ma different style say "
   ]
  },
  {
   "cell_type": "code",
   "execution_count": 41,
   "id": "44d3fff1",
   "metadata": {
    "execution": {
     "iopub.execute_input": "2024-08-27T05:40:41.120280Z",
     "iopub.status.busy": "2024-08-27T05:40:41.119003Z",
     "iopub.status.idle": "2024-08-27T05:40:41.125693Z",
     "shell.execute_reply": "2024-08-27T05:40:41.124549Z"
    },
    "papermill": {
     "duration": 0.048847,
     "end_time": "2024-08-27T05:40:41.128738",
     "exception": false,
     "start_time": "2024-08-27T05:40:41.079891",
     "status": "completed"
    },
    "scrolled": true,
    "tags": []
   },
   "outputs": [
    {
     "name": "stdout",
     "output_type": "stream",
     "text": [
      "R2 score for testing: 0.7133593313710358\n",
      "R2 score for training: 0.7435787589010061\n"
     ]
    }
   ],
   "source": [
    "print('R2 score for testing:',test_r2 )\n",
    "print('R2 score for training:',train_r2 )"
   ]
  },
  {
   "cell_type": "markdown",
   "id": "fedd46f9",
   "metadata": {
    "papermill": {
     "duration": 0.038722,
     "end_time": "2024-08-27T05:40:41.204691",
     "exception": false,
     "start_time": "2024-08-27T05:40:41.165969",
     "status": "completed"
    },
    "tags": []
   },
   "source": [
    "#### loop understaning "
   ]
  },
  {
   "cell_type": "code",
   "execution_count": 42,
   "id": "4b6b0867",
   "metadata": {
    "execution": {
     "iopub.execute_input": "2024-08-27T05:40:41.279733Z",
     "iopub.status.busy": "2024-08-27T05:40:41.278820Z",
     "iopub.status.idle": "2024-08-27T05:40:41.287073Z",
     "shell.execute_reply": "2024-08-27T05:40:41.285814Z"
    },
    "papermill": {
     "duration": 0.048581,
     "end_time": "2024-08-27T05:40:41.289863",
     "exception": false,
     "start_time": "2024-08-27T05:40:41.241282",
     "status": "completed"
    },
    "tags": []
   },
   "outputs": [
    {
     "data": {
      "text/plain": [
       "14"
      ]
     },
     "execution_count": 42,
     "metadata": {},
     "output_type": "execute_result"
    }
   ],
   "source": [
    "xtest.shape[-1]+1"
   ]
  },
  {
   "cell_type": "code",
   "execution_count": 43,
   "id": "4b8e339e",
   "metadata": {
    "execution": {
     "iopub.execute_input": "2024-08-27T05:40:41.365571Z",
     "iopub.status.busy": "2024-08-27T05:40:41.364752Z",
     "iopub.status.idle": "2024-08-27T05:40:41.372387Z",
     "shell.execute_reply": "2024-08-27T05:40:41.371244Z"
    },
    "papermill": {
     "duration": 0.048315,
     "end_time": "2024-08-27T05:40:41.375132",
     "exception": false,
     "start_time": "2024-08-27T05:40:41.326817",
     "status": "completed"
    },
    "tags": []
   },
   "outputs": [
    {
     "data": {
      "text/plain": [
       "(152, 13)"
      ]
     },
     "execution_count": 43,
     "metadata": {},
     "output_type": "execute_result"
    }
   ],
   "source": [
    "xtest.shape"
   ]
  },
  {
   "cell_type": "code",
   "execution_count": 44,
   "id": "1495dec7",
   "metadata": {
    "execution": {
     "iopub.execute_input": "2024-08-27T05:40:41.451067Z",
     "iopub.status.busy": "2024-08-27T05:40:41.450631Z",
     "iopub.status.idle": "2024-08-27T05:40:41.459197Z",
     "shell.execute_reply": "2024-08-27T05:40:41.458057Z"
    },
    "papermill": {
     "duration": 0.049308,
     "end_time": "2024-08-27T05:40:41.461821",
     "exception": false,
     "start_time": "2024-08-27T05:40:41.412513",
     "status": "completed"
    },
    "tags": []
   },
   "outputs": [
    {
     "data": {
      "text/plain": [
       "array([[0.00599967, 0.2       , 0.12866569, ..., 0.04255319, 0.98966161,\n",
       "        0.21688742],\n",
       "       [0.00808678, 0.        , 0.28152493, ..., 0.89361702, 0.98499672,\n",
       "        0.26352097],\n",
       "       [0.012639  , 0.        , 0.28152493, ..., 0.89361702, 0.90738313,\n",
       "        0.575883  ],\n",
       "       ...,\n",
       "       [0.0904741 , 0.        , 0.64662757, ..., 0.80851064, 0.88824449,\n",
       "        0.45281457],\n",
       "       [0.00444757, 0.        , 0.34604106, ..., 0.61702128, 0.99573856,\n",
       "        0.23813466],\n",
       "       [0.00656098, 0.        , 0.78555718, ..., 0.91489362, 0.97190983,\n",
       "        0.25910596]])"
      ]
     },
     "execution_count": 44,
     "metadata": {},
     "output_type": "execute_result"
    }
   ],
   "source": [
    "xtrain.values"
   ]
  },
  {
   "cell_type": "code",
   "execution_count": 45,
   "id": "c2458c9d",
   "metadata": {
    "execution": {
     "iopub.execute_input": "2024-08-27T05:40:41.539873Z",
     "iopub.status.busy": "2024-08-27T05:40:41.539434Z",
     "iopub.status.idle": "2024-08-27T05:40:41.547531Z",
     "shell.execute_reply": "2024-08-27T05:40:41.546491Z"
    },
    "papermill": {
     "duration": 0.049102,
     "end_time": "2024-08-27T05:40:41.549977",
     "exception": false,
     "start_time": "2024-08-27T05:40:41.500875",
     "status": "completed"
    },
    "tags": []
   },
   "outputs": [
    {
     "data": {
      "text/plain": [
       "array([[0.00808678, 0.        , 0.28152493, 0.        , 0.31481481,\n",
       "        0.41502203, 0.68589083, 0.2425138 , 0.13043478, 0.22900763,\n",
       "        0.89361702, 0.98499672, 0.26352097],\n",
       "       [0.012639  , 0.        , 0.28152493, 0.        , 0.31481481,\n",
       "        0.41233953, 0.9392379 , 0.2822068 , 0.13043478, 0.22900763,\n",
       "        0.89361702, 0.90738313, 0.575883  ]])"
      ]
     },
     "execution_count": 45,
     "metadata": {},
     "output_type": "execute_result"
    }
   ],
   "source": [
    "xtrain.values[1:3]"
   ]
  },
  {
   "cell_type": "code",
   "execution_count": 46,
   "id": "c447fe1d",
   "metadata": {
    "execution": {
     "iopub.execute_input": "2024-08-27T05:40:41.626932Z",
     "iopub.status.busy": "2024-08-27T05:40:41.626472Z",
     "iopub.status.idle": "2024-08-27T05:40:41.634945Z",
     "shell.execute_reply": "2024-08-27T05:40:41.633901Z"
    },
    "papermill": {
     "duration": 0.049964,
     "end_time": "2024-08-27T05:40:41.637612",
     "exception": false,
     "start_time": "2024-08-27T05:40:41.587648",
     "status": "completed"
    },
    "tags": []
   },
   "outputs": [
    {
     "data": {
      "text/plain": [
       "array([[0.00599967, 0.2       , 0.12866569, 0.        , 0.53909465,\n",
       "        0.69783483, 0.81256437, 0.08934336, 0.17391304, 0.14694656,\n",
       "        0.04255319, 0.98966161, 0.21688742],\n",
       "       [0.00808678, 0.        , 0.28152493, 0.        , 0.31481481,\n",
       "        0.41502203, 0.68589083, 0.2425138 , 0.13043478, 0.22900763,\n",
       "        0.89361702, 0.98499672, 0.26352097],\n",
       "       [0.012639  , 0.        , 0.28152493, 0.        , 0.31481481,\n",
       "        0.41233953, 0.9392379 , 0.2822068 , 0.13043478, 0.22900763,\n",
       "        0.89361702, 0.90738313, 0.575883  ]])"
      ]
     },
     "execution_count": 46,
     "metadata": {},
     "output_type": "execute_result"
    }
   ],
   "source": [
    "xtrain.values[:3]"
   ]
  },
  {
   "cell_type": "code",
   "execution_count": 47,
   "id": "e0adf37d",
   "metadata": {
    "execution": {
     "iopub.execute_input": "2024-08-27T05:40:41.716013Z",
     "iopub.status.busy": "2024-08-27T05:40:41.715232Z",
     "iopub.status.idle": "2024-08-27T05:40:41.732065Z",
     "shell.execute_reply": "2024-08-27T05:40:41.730732Z"
    },
    "papermill": {
     "duration": 0.059273,
     "end_time": "2024-08-27T05:40:41.734899",
     "exception": false,
     "start_time": "2024-08-27T05:40:41.675626",
     "status": "completed"
    },
    "tags": []
   },
   "outputs": [
    {
     "data": {
      "text/plain": [
       "array([[5.99967090e-03],\n",
       "       [8.08678173e-03],\n",
       "       [1.26389965e-02],\n",
       "       [2.50017197e-03],\n",
       "       [3.22581080e-04],\n",
       "       [7.18220593e-04],\n",
       "       [9.98090590e-04],\n",
       "       [9.83029313e-04],\n",
       "       [4.12712707e-02],\n",
       "       [8.55570447e-04],\n",
       "       [4.28268533e-03],\n",
       "       [3.74857199e-03],\n",
       "       [1.12172794e-03],\n",
       "       [8.61718595e-03],\n",
       "       [1.70023833e-02],\n",
       "       [5.24054882e-02],\n",
       "       [3.49106911e-04],\n",
       "       [3.16068764e-02],\n",
       "       [3.33989436e-03],\n",
       "       [5.42807296e-02],\n",
       "       [2.71664972e-04],\n",
       "       [3.96616248e-02],\n",
       "       [8.52985302e-04],\n",
       "       [9.70440783e-04],\n",
       "       [1.24929920e-03],\n",
       "       [4.96343257e-02],\n",
       "       [8.41857941e-05],\n",
       "       [2.42553997e-03],\n",
       "       [8.95123159e-03],\n",
       "       [1.84017333e-03],\n",
       "       [1.59940420e-01],\n",
       "       [4.61841693e-04],\n",
       "       [1.62211976e-01],\n",
       "       [2.61287303e-02],\n",
       "       [6.40875316e-02],\n",
       "       [6.50220052e-04],\n",
       "       [5.46824386e-02],\n",
       "       [3.23480261e-04],\n",
       "       [9.02777434e-04],\n",
       "       [8.25672688e-04],\n",
       "       [1.30061769e-01],\n",
       "       [5.58616017e-04],\n",
       "       [5.77521291e-03],\n",
       "       [2.45667410e-03],\n",
       "       [5.33444577e-02],\n",
       "       [2.81441090e-01],\n",
       "       [1.71762399e-01],\n",
       "       [1.51556909e-02],\n",
       "       [8.16456086e-04],\n",
       "       [1.01832216e-04],\n",
       "       [5.12083415e-04],\n",
       "       [5.21588879e-02],\n",
       "       [2.35922539e-04],\n",
       "       [1.59458459e-02],\n",
       "       [7.43172858e-04],\n",
       "       [1.39148215e-04],\n",
       "       [9.50568889e-03],\n",
       "       [1.37584540e-01],\n",
       "       [1.66494548e-03],\n",
       "       [1.54771480e-04],\n",
       "       [4.70608705e-04],\n",
       "       [7.48107112e-03],\n",
       "       [2.51325505e-02],\n",
       "       [3.79791453e-04],\n",
       "       [5.63561511e-04],\n",
       "       [1.11388596e-01],\n",
       "       [1.72013270e-03],\n",
       "       [2.14791792e-04],\n",
       "       [1.34256447e-01],\n",
       "       [6.21558667e-04],\n",
       "       [1.88889543e-01],\n",
       "       [3.89790343e-02],\n",
       "       [1.08553591e-03],\n",
       "       [5.44791114e-04],\n",
       "       [5.68181052e-03],\n",
       "       [5.13252350e-03],\n",
       "       [1.03188854e-01],\n",
       "       [3.74171574e-04],\n",
       "       [3.28088562e-04],\n",
       "       [4.53411874e-04],\n",
       "       [1.52849481e-03],\n",
       "       [7.00731528e-03],\n",
       "       [3.70912043e-04],\n",
       "       [1.88985306e-03],\n",
       "       [1.32696369e-01],\n",
       "       [1.04785687e-01],\n",
       "       [5.85153088e-03],\n",
       "       [3.06508225e-04],\n",
       "       [1.10342624e-01],\n",
       "       [8.81298255e-03],\n",
       "       [2.11360069e-01],\n",
       "       [8.26434519e-01],\n",
       "       [8.70621608e-02],\n",
       "       [3.06581283e-02],\n",
       "       [9.76735048e-05],\n",
       "       [3.47319790e-03],\n",
       "       [7.34230506e-02],\n",
       "       [9.68867217e-04],\n",
       "       [1.61919967e-03],\n",
       "       [1.09226403e-01],\n",
       "       [5.78622788e-04],\n",
       "       [7.17860921e-02],\n",
       "       [2.53914920e-01],\n",
       "       [2.78694093e-01],\n",
       "       [4.21153766e-04],\n",
       "       [1.03596858e-03],\n",
       "       [1.68788358e-01],\n",
       "       [2.54805334e-04],\n",
       "       [6.00405441e-03],\n",
       "       [4.14386307e-02],\n",
       "       [2.07946779e-03],\n",
       "       [8.61606198e-02],\n",
       "       [4.41497729e-04],\n",
       "       [1.17748838e-02],\n",
       "       [5.94215705e-02],\n",
       "       [1.36945222e-03],\n",
       "       [6.36175973e-02],\n",
       "       [5.00281668e-04],\n",
       "       [9.20985844e-04],\n",
       "       [7.23585330e-02],\n",
       "       [8.49163784e-04],\n",
       "       [3.31797683e-04],\n",
       "       [7.32719882e-04],\n",
       "       [6.43458213e-02],\n",
       "       [1.70517033e-01],\n",
       "       [5.38721644e-04],\n",
       "       [6.55727534e-04],\n",
       "       [1.55367187e-03],\n",
       "       [1.51410792e-03],\n",
       "       [1.45611076e-03],\n",
       "       [4.66707160e-01],\n",
       "       [2.51062494e-03],\n",
       "       [0.00000000e+00],\n",
       "       [8.80410314e-02],\n",
       "       [6.39508562e-03],\n",
       "       [1.24781330e-01],\n",
       "       [1.43823730e-01],\n",
       "       [3.72567660e-02],\n",
       "       [2.52107792e-04],\n",
       "       [1.58202978e-02],\n",
       "       [2.65729031e-01],\n",
       "       [1.78353393e-01],\n",
       "       [9.76735048e-05],\n",
       "       [1.80566727e-02],\n",
       "       [8.76004329e-03],\n",
       "       [5.73564896e-04],\n",
       "       [1.00000000e+00],\n",
       "       [3.00551153e-04],\n",
       "       [1.06859872e-01],\n",
       "       [1.55296377e-02],\n",
       "       [3.18399890e-03],\n",
       "       [2.30741010e-03],\n",
       "       [3.87569366e-03],\n",
       "       [7.06053554e-02],\n",
       "       [1.35000744e-02],\n",
       "       [1.21052203e-04],\n",
       "       [3.07969394e-05],\n",
       "       [1.36135960e-03],\n",
       "       [2.39912654e-03],\n",
       "       [3.52478839e-04],\n",
       "       [1.40328390e-03],\n",
       "       [1.50089896e-01],\n",
       "       [9.20468815e-03],\n",
       "       [9.74149903e-04],\n",
       "       [4.14817914e-02],\n",
       "       [3.14151261e-04],\n",
       "       [6.11161890e-03],\n",
       "       [8.15332110e-04],\n",
       "       [6.10860664e-02],\n",
       "       [6.93762878e-03],\n",
       "       [8.45195026e-02],\n",
       "       [1.87692734e-03],\n",
       "       [2.07272394e-03],\n",
       "       [5.27313288e-03],\n",
       "       [3.85613648e-03],\n",
       "       [6.17624751e-04],\n",
       "       [3.40227502e-04],\n",
       "       [1.51939061e-03],\n",
       "       [9.52119976e-04],\n",
       "       [2.47778012e-01],\n",
       "       [1.35347828e-01],\n",
       "       [6.08632944e-04],\n",
       "       [4.30993950e-01],\n",
       "       [1.08980702e-03],\n",
       "       [8.50512555e-04],\n",
       "       [1.82344856e-02],\n",
       "       [4.88083158e-02],\n",
       "       [1.11481886e-01],\n",
       "       [9.37643166e-03],\n",
       "       [5.24896740e-04],\n",
       "       [4.22412619e-03],\n",
       "       [1.51915232e-01],\n",
       "       [2.15466178e-03],\n",
       "       [4.39699368e-04],\n",
       "       [3.28054843e-03],\n",
       "       [1.12701062e-03],\n",
       "       [2.30325139e-03],\n",
       "       [4.23239640e-01],\n",
       "       [1.36787866e-03],\n",
       "       [1.96999254e-03],\n",
       "       [8.18254447e-05],\n",
       "       [1.61036297e-01],\n",
       "       [4.31986645e-02],\n",
       "       [5.96471525e-03],\n",
       "       [7.38665715e-03],\n",
       "       [1.74778251e-04],\n",
       "       [6.98067706e-03],\n",
       "       [5.49837765e-02],\n",
       "       [7.00012184e-04],\n",
       "       [1.21389396e-03],\n",
       "       [1.39987825e-02],\n",
       "       [3.58671946e-03],\n",
       "       [3.95380999e-03],\n",
       "       [1.48252420e-04],\n",
       "       [1.19877424e-01],\n",
       "       [4.78250617e-02],\n",
       "       [1.81274831e-03],\n",
       "       [1.36817089e-02],\n",
       "       [2.09733901e-04],\n",
       "       [1.77666869e-03],\n",
       "       [5.31415800e-04],\n",
       "       [3.45397791e-04],\n",
       "       [3.18534767e-04],\n",
       "       [2.00746365e-01],\n",
       "       [3.91256007e-04],\n",
       "       [2.61661587e-03],\n",
       "       [4.56401650e-03],\n",
       "       [1.21704109e-03],\n",
       "       [6.72699570e-04],\n",
       "       [7.17209015e-04],\n",
       "       [3.12015707e-03],\n",
       "       [1.73654275e-04],\n",
       "       [7.63179629e-05],\n",
       "       [4.11937163e-04],\n",
       "       [1.06715891e-02],\n",
       "       [1.16072990e-03],\n",
       "       [2.41512071e-02],\n",
       "       [5.46814270e-04],\n",
       "       [1.71338885e-03],\n",
       "       [1.25914523e-02],\n",
       "       [8.97625129e-02],\n",
       "       [1.11962610e-02],\n",
       "       [3.18343691e-03],\n",
       "       [8.74318365e-03],\n",
       "       [1.05383979e-03],\n",
       "       [3.27940197e-02],\n",
       "       [6.04923824e-03],\n",
       "       [2.65516824e-02],\n",
       "       [1.14207190e-03],\n",
       "       [1.53667511e-01],\n",
       "       [2.64471527e-04],\n",
       "       [8.22525556e-04],\n",
       "       [4.23588298e-02],\n",
       "       [8.71643302e-04],\n",
       "       [8.14095737e-04],\n",
       "       [8.48938989e-03],\n",
       "       [2.33528471e-03],\n",
       "       [8.31469032e-02],\n",
       "       [7.05744461e-04],\n",
       "       [4.25424874e-04],\n",
       "       [1.30797074e-03],\n",
       "       [1.11950471e-01],\n",
       "       [5.79634366e-04],\n",
       "       [1.16837294e-03],\n",
       "       [4.88817114e-04],\n",
       "       [2.04608571e-03],\n",
       "       [9.47848868e-04],\n",
       "       [3.22013248e-01],\n",
       "       [4.89446541e-03],\n",
       "       [7.03159316e-04],\n",
       "       [1.03697791e-01],\n",
       "       [8.78387158e-04],\n",
       "       [2.66635180e-02],\n",
       "       [1.38249034e-03],\n",
       "       [1.07013744e-03],\n",
       "       [1.62015280e-01],\n",
       "       [1.75104204e-03],\n",
       "       [9.48186060e-04],\n",
       "       [2.63808381e-03],\n",
       "       [3.29145099e-03],\n",
       "       [4.16433067e-04],\n",
       "       [7.72283834e-04],\n",
       "       [7.47286610e-02],\n",
       "       [7.88611831e-02],\n",
       "       [7.09948131e-03],\n",
       "       [2.66721726e-02],\n",
       "       [4.15264132e-03],\n",
       "       [2.37012796e-03],\n",
       "       [6.32910823e-04],\n",
       "       [4.55435030e-04],\n",
       "       [2.59366428e-02],\n",
       "       [2.35697744e-04],\n",
       "       [6.42936688e-03],\n",
       "       [1.37816304e-02],\n",
       "       [8.99180711e-05],\n",
       "       [5.93234474e-03],\n",
       "       [3.75115713e-03],\n",
       "       [1.40789220e-03],\n",
       "       [2.25230157e-02],\n",
       "       [1.20231701e-03],\n",
       "       [3.64314305e-03],\n",
       "       [5.09790504e-02],\n",
       "       [5.14104099e-01],\n",
       "       [4.12386754e-04],\n",
       "       [3.35282008e-04],\n",
       "       [4.01371790e-04],\n",
       "       [1.07782432e-01],\n",
       "       [6.26588459e-02],\n",
       "       [1.21310718e-03],\n",
       "       [1.14945417e-01],\n",
       "       [1.85321145e-03],\n",
       "       [1.05294061e-03],\n",
       "       [3.50624279e-03],\n",
       "       [2.73665650e-03],\n",
       "       [1.42423481e-02],\n",
       "       [3.88906897e-03],\n",
       "       [1.02416683e-03],\n",
       "       [1.46889936e-01],\n",
       "       [9.26268530e-04],\n",
       "       [2.89210236e-03],\n",
       "       [3.11725721e-02],\n",
       "       [3.16174418e-04],\n",
       "       [2.50590425e-03],\n",
       "       [5.48837427e-04],\n",
       "       [1.98999931e-03],\n",
       "       [2.32774058e-01],\n",
       "       [6.80252688e-03],\n",
       "       [1.33373227e-02],\n",
       "       [3.26514996e-04],\n",
       "       [6.20322293e-04],\n",
       "       [4.12201298e-02],\n",
       "       [1.05477382e-01],\n",
       "       [5.65135077e-04],\n",
       "       [7.30955240e-03],\n",
       "       [2.01636779e-02],\n",
       "       [9.83400225e-03],\n",
       "       [9.26355077e-02],\n",
       "       [2.03195508e-01],\n",
       "       [1.94076917e-03],\n",
       "       [2.78858418e-04],\n",
       "       [1.61036297e-01],\n",
       "       [2.74290580e-02],\n",
       "       [3.55536053e-03],\n",
       "       [4.07576137e-03],\n",
       "       [1.56312226e-01],\n",
       "       [8.27335049e-02],\n",
       "       [1.67472408e-02],\n",
       "       [3.27751369e-04],\n",
       "       [2.07844273e-01],\n",
       "       [2.68517840e-03],\n",
       "       [4.59827528e-02],\n",
       "       [9.04741020e-02],\n",
       "       [4.44757259e-03],\n",
       "       [6.56098446e-03]])"
      ]
     },
     "execution_count": 47,
     "metadata": {},
     "output_type": "execute_result"
    }
   ],
   "source": [
    "xtrain.values[:,:1]"
   ]
  },
  {
   "cell_type": "code",
   "execution_count": 48,
   "id": "b1070e4d",
   "metadata": {
    "execution": {
     "iopub.execute_input": "2024-08-27T05:40:41.813042Z",
     "iopub.status.busy": "2024-08-27T05:40:41.812604Z",
     "iopub.status.idle": "2024-08-27T05:40:41.867412Z",
     "shell.execute_reply": "2024-08-27T05:40:41.866386Z"
    },
    "papermill": {
     "duration": 0.097481,
     "end_time": "2024-08-27T05:40:41.870383",
     "exception": false,
     "start_time": "2024-08-27T05:40:41.772902",
     "status": "completed"
    },
    "tags": []
   },
   "outputs": [],
   "source": [
    "r_2 = []\n",
    "for i in range(1, (xtest.shape[-1])+1): # yaha par colum 14 ho gy jbka actul ma 13 he ho gy kue ka range ka functon ha \n",
    "    m=LinearRegression()                # lineraRagression ka ak object call kea gaya \n",
    "    m.fit(xtrain.values[:,:i],ytrain)   # xtrain ka data set ka  coloums  wise jo ha  ytrain par learning ho gy \n",
    "     \n",
    "    predict_test=m.predict(xtest.values[:,:i])\n",
    "    r_2.append(r2_score(ytest,predict_test)) # is ma ytest or predict y_test ka r2_score find ho ga or oska bad wo \n",
    "    # r_2 jo list ha os ma add ho jaya ga or osko add karny ka laya append ka function use kea ha hum ny "
   ]
  },
  {
   "cell_type": "code",
   "execution_count": 49,
   "id": "e743ffa3",
   "metadata": {
    "execution": {
     "iopub.execute_input": "2024-08-27T05:40:41.949003Z",
     "iopub.status.busy": "2024-08-27T05:40:41.948581Z",
     "iopub.status.idle": "2024-08-27T05:40:42.255063Z",
     "shell.execute_reply": "2024-08-27T05:40:42.253765Z"
    },
    "papermill": {
     "duration": 0.348623,
     "end_time": "2024-08-27T05:40:42.257766",
     "exception": false,
     "start_time": "2024-08-27T05:40:41.909143",
     "status": "completed"
    },
    "tags": []
   },
   "outputs": [
    {
     "data": {
      "text/plain": [
       "Text(0, 0.5, 'R_2 Score')"
      ]
     },
     "execution_count": 49,
     "metadata": {},
     "output_type": "execute_result"
    },
    {
     "data": {
      "image/png": "[encoded data removed]",
      "text/plain": [
       "<Figure size 1080x360 with 1 Axes>"
      ]
     },
     "metadata": {},
     "output_type": "display_data"
    }
   ],
   "source": [
    "plt.figure(figsize=(15,5))\n",
    "plt.plot(r_2);\n",
    "plt.xlabel('Features')\n",
    "plt.ylabel('R_2 Score')"
   ]
  },
  {
   "cell_type": "markdown",
   "id": "efbca508",
   "metadata": {
    "papermill": {
     "duration": 0.038296,
     "end_time": "2024-08-27T05:40:42.335543",
     "exception": false,
     "start_time": "2024-08-27T05:40:42.297247",
     "status": "completed"
    },
    "tags": []
   },
   "source": [
    "### Adjusted R2 Calculation"
   ]
  },
  {
   "cell_type": "markdown",
   "id": "c589d0ac",
   "metadata": {
    "papermill": {
     "duration": 0.038421,
     "end_time": "2024-08-27T05:40:42.412738",
     "exception": false,
     "start_time": "2024-08-27T05:40:42.374317",
     "status": "completed"
    },
    "tags": []
   },
   "source": [
    "<img src='https://www.statisticshowto.datasciencecentral.com/wp-content/uploads/2013/09/r-squared-adjusted.jpg' width=200, height=400 >"
   ]
  },
  {
   "cell_type": "code",
   "execution_count": 50,
   "id": "a4b008c2",
   "metadata": {
    "execution": {
     "iopub.execute_input": "2024-08-27T05:40:42.494092Z",
     "iopub.status.busy": "2024-08-27T05:40:42.492978Z",
     "iopub.status.idle": "2024-08-27T05:40:42.500210Z",
     "shell.execute_reply": "2024-08-27T05:40:42.499075Z"
    },
    "papermill": {
     "duration": 0.051145,
     "end_time": "2024-08-27T05:40:42.502853",
     "exception": false,
     "start_time": "2024-08-27T05:40:42.451708",
     "status": "completed"
    },
    "tags": []
   },
   "outputs": [],
   "source": [
    "def adjR2 (xtest,ytest,r2):\n",
    "    n = len(ytest)\n",
    "    k = xtest.shape[-1]\n",
    "    adj_r2 = 1 - ((1 - r2)*(n - 1)) / (n - k -1)\n",
    "    print('The adjusted R2 is:', adj_r2)"
   ]
  },
  {
   "cell_type": "code",
   "execution_count": 51,
   "id": "74f2dc03",
   "metadata": {
    "execution": {
     "iopub.execute_input": "2024-08-27T05:40:42.581944Z",
     "iopub.status.busy": "2024-08-27T05:40:42.581509Z",
     "iopub.status.idle": "2024-08-27T05:40:42.588432Z",
     "shell.execute_reply": "2024-08-27T05:40:42.587112Z"
    },
    "papermill": {
     "duration": 0.049478,
     "end_time": "2024-08-27T05:40:42.591125",
     "exception": false,
     "start_time": "2024-08-27T05:40:42.541647",
     "status": "completed"
    },
    "tags": []
   },
   "outputs": [
    {
     "name": "stdout",
     "output_type": "stream",
     "text": [
      "The adjusted R2 is: 0.6863569495436697\n"
     ]
    }
   ],
   "source": [
    "#import adj_helper as helper\n",
    "\n",
    "#helper.adjR2(xtest,ytest,test_r2)\n",
    "\n",
    "# is ma just xtest or ytest ka r2_score ko adjusted kea gaya \n",
    "#  71.00 say is ma 0.68 tak ly aaya hum\n",
    "adjR2(xtest,ytest,test_r2)\n"
   ]
  },
  {
   "cell_type": "markdown",
   "id": "e7a0d2b6",
   "metadata": {
    "papermill": {
     "duration": 0.038214,
     "end_time": "2024-08-27T05:40:42.668277",
     "exception": false,
     "start_time": "2024-08-27T05:40:42.630063",
     "status": "completed"
    },
    "tags": []
   },
   "source": [
    "**Ploting Residual Plots**"
   ]
  },
  {
   "cell_type": "markdown",
   "id": "276e8472",
   "metadata": {
    "papermill": {
     "duration": 0.03869,
     "end_time": "2024-08-27T05:40:42.746918",
     "exception": false,
     "start_time": "2024-08-27T05:40:42.708228",
     "status": "completed"
    },
    "tags": []
   },
   "source": [
    "A residual is the difference between the observed value of the target variable (y) and the predicted value (ŷ), i.e. the error of the prediction. The ResidualsPlot Visualizer shows the difference between residuals on the vertical axis and the dependent variable on the horizontal axis, allowing you to detect regions within the target that may be susceptible to more or less error.\n",
    "\n",
    "If the points are randomly dispersed around the horizontal axis, a linear regression model is usually well-suited for the data; otherwise, a non-linear model is more appropriate. The following example shows a fairly random, uniform distribution of the residuals against the target in two dimensions. This seems to indicate that our linear model is performing well.\n",
    "\n",
    "Yellowbrick's ResidualsPlot Visualizer also displays a histogram of the error values along the right-hand side. In the example above, the error is normally distributed around zero, which also generally indicates a well-fitted model. If the histogram is not desired, it can be turned off with the hist=False flag."
   ]
  },
  {
   "cell_type": "code",
   "execution_count": 52,
   "id": "07f88d39",
   "metadata": {
    "execution": {
     "iopub.execute_input": "2024-08-27T05:40:42.827217Z",
     "iopub.status.busy": "2024-08-27T05:40:42.825904Z",
     "iopub.status.idle": "2024-08-27T05:40:42.831201Z",
     "shell.execute_reply": "2024-08-27T05:40:42.830218Z"
    },
    "papermill": {
     "duration": 0.048152,
     "end_time": "2024-08-27T05:40:42.834040",
     "exception": false,
     "start_time": "2024-08-27T05:40:42.785888",
     "status": "completed"
    },
    "tags": []
   },
   "outputs": [],
   "source": [
    "#pip install yellowbrick==0.9.1"
   ]
  },
  {
   "cell_type": "code",
   "execution_count": 53,
   "id": "00007689",
   "metadata": {
    "execution": {
     "iopub.execute_input": "2024-08-27T05:40:42.915576Z",
     "iopub.status.busy": "2024-08-27T05:40:42.914540Z",
     "iopub.status.idle": "2024-08-27T05:40:42.920193Z",
     "shell.execute_reply": "2024-08-27T05:40:42.918850Z"
    },
    "papermill": {
     "duration": 0.048976,
     "end_time": "2024-08-27T05:40:42.922945",
     "exception": false,
     "start_time": "2024-08-27T05:40:42.873969",
     "status": "completed"
    },
    "tags": []
   },
   "outputs": [],
   "source": [
    "#!pip install scikit-learn"
   ]
  },
  {
   "cell_type": "code",
   "execution_count": 54,
   "id": "b73ce314",
   "metadata": {
    "execution": {
     "iopub.execute_input": "2024-08-27T05:40:43.002616Z",
     "iopub.status.busy": "2024-08-27T05:40:43.002193Z",
     "iopub.status.idle": "2024-08-27T05:40:43.007339Z",
     "shell.execute_reply": "2024-08-27T05:40:43.006109Z"
    },
    "papermill": {
     "duration": 0.047966,
     "end_time": "2024-08-27T05:40:43.009931",
     "exception": false,
     "start_time": "2024-08-27T05:40:42.961965",
     "status": "completed"
    },
    "tags": []
   },
   "outputs": [],
   "source": [
    "#pip install -U scikit-learn"
   ]
  },
  {
   "cell_type": "code",
   "execution_count": 55,
   "id": "91c8c008",
   "metadata": {
    "execution": {
     "iopub.execute_input": "2024-08-27T05:40:43.089096Z",
     "iopub.status.busy": "2024-08-27T05:40:43.088624Z",
     "iopub.status.idle": "2024-08-27T05:40:43.094741Z",
     "shell.execute_reply": "2024-08-27T05:40:43.093332Z"
    },
    "papermill": {
     "duration": 0.049053,
     "end_time": "2024-08-27T05:40:43.097665",
     "exception": false,
     "start_time": "2024-08-27T05:40:43.048612",
     "status": "completed"
    },
    "tags": []
   },
   "outputs": [],
   "source": [
    "#pip install -U yellowbrick"
   ]
  },
  {
   "cell_type": "code",
   "execution_count": 56,
   "id": "9db47005",
   "metadata": {
    "execution": {
     "iopub.execute_input": "2024-08-27T05:40:43.176563Z",
     "iopub.status.busy": "2024-08-27T05:40:43.176068Z",
     "iopub.status.idle": "2024-08-27T05:40:44.545318Z",
     "shell.execute_reply": "2024-08-27T05:40:44.544113Z"
    },
    "papermill": {
     "duration": 1.41164,
     "end_time": "2024-08-27T05:40:44.547891",
     "exception": false,
     "start_time": "2024-08-27T05:40:43.136251",
     "status": "completed"
    },
    "tags": []
   },
   "outputs": [
    {
     "name": "stderr",
     "output_type": "stream",
     "text": [
      "/opt/conda/lib/python3.7/site-packages/sklearn/base.py:451: UserWarning: X does not have valid feature names, but LinearRegression was fitted with feature names\n",
      "  \"X does not have valid feature names, but\"\n",
      "/opt/conda/lib/python3.7/site-packages/sklearn/base.py:451: UserWarning: X does not have valid feature names, but LinearRegression was fitted with feature names\n",
      "  \"X does not have valid feature names, but\"\n",
      "/opt/conda/lib/python3.7/site-packages/sklearn/base.py:451: UserWarning: X does not have valid feature names, but LinearRegression was fitted with feature names\n",
      "  \"X does not have valid feature names, but\"\n",
      "/opt/conda/lib/python3.7/site-packages/sklearn/base.py:451: UserWarning: X does not have valid feature names, but LinearRegression was fitted with feature names\n",
      "  \"X does not have valid feature names, but\"\n",
      "/opt/conda/lib/python3.7/site-packages/sklearn/base.py:451: UserWarning: X does not have valid feature names, but LinearRegression was fitted with feature names\n",
      "  \"X does not have valid feature names, but\"\n"
     ]
    },
    {
     "data": {
      "image/png": "[encoded data removed]",
      "text/plain": [
       "<Figure size 1080x432 with 2 Axes>"
      ]
     },
     "metadata": {},
     "output_type": "display_data"
    },
    {
     "data": {
      "text/plain": [
       "<AxesSubplot:title={'center':'Residuals for LinearRegression Model'}, xlabel='Predicted Value', ylabel='Residuals'>"
      ]
     },
     "execution_count": 56,
     "metadata": {},
     "output_type": "execute_result"
    }
   ],
   "source": [
    "from yellowbrick.regressor import ResidualsPlot\n",
    "plt.figure(figsize=(15,6)) \n",
    "visualizer = ResidualsPlot(model,hist=True)   # residualsplot ka object bin raha han or (model yahny linearregression,\n",
    "                                              # hist = true side pay distribution aaya gy \n",
    "visualizer.fit(xtrain.values, ytrain.values)  # is xtrain ko ytrian pay learn ya training karwa raha han \n",
    "\n",
    "visualizer.score(xtest.values, ytest.values)  # SCORE ma murad prediction ly raha han hum \n",
    "visualizer.poof()                             # ya graph ko show karny ka laya "
   ]
  },
  {
   "cell_type": "markdown",
   "id": "69b7929e",
   "metadata": {
    "papermill": {
     "duration": 0.039969,
     "end_time": "2024-08-27T05:40:44.628605",
     "exception": false,
     "start_time": "2024-08-27T05:40:44.588636",
     "status": "completed"
    },
    "tags": []
   },
   "source": [
    "## 3 Recursive Feature Elimination\n",
    "The sklearn package has several feature selection methods and details can be found at the [documentation][feature link] site. In this example we'll be using the recursive feature elimination method. This process starts with all variables and assigns weights to them. Those with small weights are first removed. The remaining variables are used to refit the model and the process repeats. \n",
    "\n",
    "We start by importing the packages that'll be used. \n",
    "\n",
    "[feature link]: http://scikit-learn.org/stable/modules/feature_selection.html"
   ]
  },
  {
   "cell_type": "code",
   "execution_count": 57,
   "id": "8b009a5d",
   "metadata": {
    "execution": {
     "iopub.execute_input": "2024-08-27T05:40:44.712051Z",
     "iopub.status.busy": "2024-08-27T05:40:44.711608Z",
     "iopub.status.idle": "2024-08-27T05:40:44.717082Z",
     "shell.execute_reply": "2024-08-27T05:40:44.715785Z"
    },
    "papermill": {
     "duration": 0.050374,
     "end_time": "2024-08-27T05:40:44.719688",
     "exception": false,
     "start_time": "2024-08-27T05:40:44.669314",
     "status": "completed"
    },
    "tags": []
   },
   "outputs": [],
   "source": [
    "from sklearn.feature_selection import RFE"
   ]
  },
  {
   "cell_type": "code",
   "execution_count": 58,
   "id": "e32b6cdf",
   "metadata": {
    "execution": {
     "iopub.execute_input": "2024-08-27T05:40:44.802578Z",
     "iopub.status.busy": "2024-08-27T05:40:44.802100Z",
     "iopub.status.idle": "2024-08-27T05:40:44.808099Z",
     "shell.execute_reply": "2024-08-27T05:40:44.806807Z"
    },
    "papermill": {
     "duration": 0.050612,
     "end_time": "2024-08-27T05:40:44.811005",
     "exception": false,
     "start_time": "2024-08-27T05:40:44.760393",
     "status": "completed"
    },
    "tags": []
   },
   "outputs": [],
   "source": [
    "lrm = LinearRegression() # yaha pay linearRegression model ka ak object binaya jis ma LinearRegression model store ho ga "
   ]
  },
  {
   "cell_type": "code",
   "execution_count": 59,
   "id": "025993be",
   "metadata": {
    "execution": {
     "iopub.execute_input": "2024-08-27T05:40:44.894752Z",
     "iopub.status.busy": "2024-08-27T05:40:44.894327Z",
     "iopub.status.idle": "2024-08-27T05:40:44.900452Z",
     "shell.execute_reply": "2024-08-27T05:40:44.899072Z"
    },
    "papermill": {
     "duration": 0.051158,
     "end_time": "2024-08-27T05:40:44.903401",
     "exception": false,
     "start_time": "2024-08-27T05:40:44.852243",
     "status": "completed"
    },
    "tags": []
   },
   "outputs": [],
   "source": [
    "# recursive feature elimination with cross validation, using r-squared as metric\n",
    "rfe = RFE(estimator=lrm, step=3,n_features_to_select=5)"
   ]
  },
  {
   "cell_type": "markdown",
   "id": "bff8d692",
   "metadata": {
    "papermill": {
     "duration": 0.040998,
     "end_time": "2024-08-27T05:40:44.985446",
     "exception": false,
     "start_time": "2024-08-27T05:40:44.944448",
     "status": "completed"
    },
    "tags": []
   },
   "source": [
    "# explain this line   rfe.fit(X, np.hstack(Y.values))"
   ]
  },
  {
   "cell_type": "code",
   "execution_count": 60,
   "id": "26f9a233",
   "metadata": {
    "execution": {
     "iopub.execute_input": "2024-08-27T05:40:45.068561Z",
     "iopub.status.busy": "2024-08-27T05:40:45.068142Z",
     "iopub.status.idle": "2024-08-27T05:40:45.098762Z",
     "shell.execute_reply": "2024-08-27T05:40:45.097443Z"
    },
    "papermill": {
     "duration": 0.075313,
     "end_time": "2024-08-27T05:40:45.101729",
     "exception": false,
     "start_time": "2024-08-27T05:40:45.026416",
     "status": "completed"
    },
    "scrolled": true,
    "tags": []
   },
   "outputs": [
    {
     "data": {
      "text/html": [
       "<div>\n",
       "<style scoped>\n",
       "    .dataframe tbody tr th:only-of-type {\n",
       "        vertical-align: middle;\n",
       "    }\n",
       "\n",
       "    .dataframe tbody tr th {\n",
       "        vertical-align: top;\n",
       "    }\n",
       "\n",
       "    .dataframe thead th {\n",
       "        text-align: right;\n",
       "    }\n",
       "</style>\n",
       "<table border=\"1\" class=\"dataframe\">\n",
       "  <thead>\n",
       "    <tr style=\"text-align: right;\">\n",
       "      <th></th>\n",
       "      <th>Crime Rate</th>\n",
       "      <th>Residential Proportion</th>\n",
       "      <th>non-retail business acres/Town</th>\n",
       "      <th>Charles River</th>\n",
       "      <th>NO2 concentration</th>\n",
       "      <th>Average Rooms/Dwelling.</th>\n",
       "      <th>Prior Built Units Proportion</th>\n",
       "      <th>Distance to Employment Centres</th>\n",
       "      <th>Radial Highways Distance</th>\n",
       "      <th>ValueProperty/tax rate</th>\n",
       "      <th>Teacher/town</th>\n",
       "      <th>blacks/town</th>\n",
       "      <th>Lower Status Percent</th>\n",
       "    </tr>\n",
       "  </thead>\n",
       "  <tbody>\n",
       "    <tr>\n",
       "      <th>0</th>\n",
       "      <td>0.000000</td>\n",
       "      <td>0.18</td>\n",
       "      <td>0.067815</td>\n",
       "      <td>0.0</td>\n",
       "      <td>0.314815</td>\n",
       "      <td>0.577505</td>\n",
       "      <td>0.641607</td>\n",
       "      <td>0.269203</td>\n",
       "      <td>0.000000</td>\n",
       "      <td>0.208015</td>\n",
       "      <td>0.287234</td>\n",
       "      <td>1.000000</td>\n",
       "      <td>0.089680</td>\n",
       "    </tr>\n",
       "    <tr>\n",
       "      <th>1</th>\n",
       "      <td>0.000236</td>\n",
       "      <td>0.00</td>\n",
       "      <td>0.242302</td>\n",
       "      <td>0.0</td>\n",
       "      <td>0.172840</td>\n",
       "      <td>0.547998</td>\n",
       "      <td>0.782698</td>\n",
       "      <td>0.348962</td>\n",
       "      <td>0.043478</td>\n",
       "      <td>0.104962</td>\n",
       "      <td>0.553191</td>\n",
       "      <td>1.000000</td>\n",
       "      <td>0.204470</td>\n",
       "    </tr>\n",
       "    <tr>\n",
       "      <th>2</th>\n",
       "      <td>0.000236</td>\n",
       "      <td>0.00</td>\n",
       "      <td>0.242302</td>\n",
       "      <td>0.0</td>\n",
       "      <td>0.172840</td>\n",
       "      <td>0.694386</td>\n",
       "      <td>0.599382</td>\n",
       "      <td>0.348962</td>\n",
       "      <td>0.043478</td>\n",
       "      <td>0.104962</td>\n",
       "      <td>0.553191</td>\n",
       "      <td>0.989737</td>\n",
       "      <td>0.063466</td>\n",
       "    </tr>\n",
       "    <tr>\n",
       "      <th>3</th>\n",
       "      <td>0.000293</td>\n",
       "      <td>0.00</td>\n",
       "      <td>0.063050</td>\n",
       "      <td>0.0</td>\n",
       "      <td>0.150206</td>\n",
       "      <td>0.658555</td>\n",
       "      <td>0.441813</td>\n",
       "      <td>0.448545</td>\n",
       "      <td>0.086957</td>\n",
       "      <td>0.066794</td>\n",
       "      <td>0.648936</td>\n",
       "      <td>0.994276</td>\n",
       "      <td>0.033389</td>\n",
       "    </tr>\n",
       "    <tr>\n",
       "      <th>4</th>\n",
       "      <td>0.000705</td>\n",
       "      <td>0.00</td>\n",
       "      <td>0.063050</td>\n",
       "      <td>0.0</td>\n",
       "      <td>0.150206</td>\n",
       "      <td>0.687105</td>\n",
       "      <td>0.528321</td>\n",
       "      <td>0.448545</td>\n",
       "      <td>0.086957</td>\n",
       "      <td>0.066794</td>\n",
       "      <td>0.648936</td>\n",
       "      <td>1.000000</td>\n",
       "      <td>0.099338</td>\n",
       "    </tr>\n",
       "    <tr>\n",
       "      <th>...</th>\n",
       "      <td>...</td>\n",
       "      <td>...</td>\n",
       "      <td>...</td>\n",
       "      <td>...</td>\n",
       "      <td>...</td>\n",
       "      <td>...</td>\n",
       "      <td>...</td>\n",
       "      <td>...</td>\n",
       "      <td>...</td>\n",
       "      <td>...</td>\n",
       "      <td>...</td>\n",
       "      <td>...</td>\n",
       "      <td>...</td>\n",
       "    </tr>\n",
       "    <tr>\n",
       "      <th>501</th>\n",
       "      <td>0.000633</td>\n",
       "      <td>0.00</td>\n",
       "      <td>0.420455</td>\n",
       "      <td>0.0</td>\n",
       "      <td>0.386831</td>\n",
       "      <td>0.580954</td>\n",
       "      <td>0.681771</td>\n",
       "      <td>0.122671</td>\n",
       "      <td>0.000000</td>\n",
       "      <td>0.164122</td>\n",
       "      <td>0.893617</td>\n",
       "      <td>0.987619</td>\n",
       "      <td>0.219095</td>\n",
       "    </tr>\n",
       "    <tr>\n",
       "      <th>502</th>\n",
       "      <td>0.000438</td>\n",
       "      <td>0.00</td>\n",
       "      <td>0.420455</td>\n",
       "      <td>0.0</td>\n",
       "      <td>0.386831</td>\n",
       "      <td>0.490324</td>\n",
       "      <td>0.760041</td>\n",
       "      <td>0.105293</td>\n",
       "      <td>0.000000</td>\n",
       "      <td>0.164122</td>\n",
       "      <td>0.893617</td>\n",
       "      <td>1.000000</td>\n",
       "      <td>0.202815</td>\n",
       "    </tr>\n",
       "    <tr>\n",
       "      <th>503</th>\n",
       "      <td>0.000612</td>\n",
       "      <td>0.00</td>\n",
       "      <td>0.420455</td>\n",
       "      <td>0.0</td>\n",
       "      <td>0.386831</td>\n",
       "      <td>0.654340</td>\n",
       "      <td>0.907312</td>\n",
       "      <td>0.094381</td>\n",
       "      <td>0.000000</td>\n",
       "      <td>0.164122</td>\n",
       "      <td>0.893617</td>\n",
       "      <td>1.000000</td>\n",
       "      <td>0.107892</td>\n",
       "    </tr>\n",
       "    <tr>\n",
       "      <th>504</th>\n",
       "      <td>0.001161</td>\n",
       "      <td>0.00</td>\n",
       "      <td>0.420455</td>\n",
       "      <td>0.0</td>\n",
       "      <td>0.386831</td>\n",
       "      <td>0.619467</td>\n",
       "      <td>0.889804</td>\n",
       "      <td>0.114514</td>\n",
       "      <td>0.000000</td>\n",
       "      <td>0.164122</td>\n",
       "      <td>0.893617</td>\n",
       "      <td>0.991301</td>\n",
       "      <td>0.131071</td>\n",
       "    </tr>\n",
       "    <tr>\n",
       "      <th>505</th>\n",
       "      <td>0.000462</td>\n",
       "      <td>0.00</td>\n",
       "      <td>0.420455</td>\n",
       "      <td>0.0</td>\n",
       "      <td>0.386831</td>\n",
       "      <td>0.473079</td>\n",
       "      <td>0.802266</td>\n",
       "      <td>0.125072</td>\n",
       "      <td>0.000000</td>\n",
       "      <td>0.164122</td>\n",
       "      <td>0.893617</td>\n",
       "      <td>1.000000</td>\n",
       "      <td>0.169702</td>\n",
       "    </tr>\n",
       "  </tbody>\n",
       "</table>\n",
       "<p>506 rows × 13 columns</p>\n",
       "</div>"
      ],
      "text/plain": [
       "     Crime Rate  Residential Proportion  non-retail business acres/Town  \\\n",
       "0      0.000000                    0.18                        0.067815   \n",
       "1      0.000236                    0.00                        0.242302   \n",
       "2      0.000236                    0.00                        0.242302   \n",
       "3      0.000293                    0.00                        0.063050   \n",
       "4      0.000705                    0.00                        0.063050   \n",
       "..          ...                     ...                             ...   \n",
       "501    0.000633                    0.00                        0.420455   \n",
       "502    0.000438                    0.00                        0.420455   \n",
       "503    0.000612                    0.00                        0.420455   \n",
       "504    0.001161                    0.00                        0.420455   \n",
       "505    0.000462                    0.00                        0.420455   \n",
       "\n",
       "     Charles River  NO2 concentration  Average Rooms/Dwelling.  \\\n",
       "0              0.0           0.314815                 0.577505   \n",
       "1              0.0           0.172840                 0.547998   \n",
       "2              0.0           0.172840                 0.694386   \n",
       "3              0.0           0.150206                 0.658555   \n",
       "4              0.0           0.150206                 0.687105   \n",
       "..             ...                ...                      ...   \n",
       "501            0.0           0.386831                 0.580954   \n",
       "502            0.0           0.386831                 0.490324   \n",
       "503            0.0           0.386831                 0.654340   \n",
       "504            0.0           0.386831                 0.619467   \n",
       "505            0.0           0.386831                 0.473079   \n",
       "\n",
       "     Prior Built Units Proportion  Distance to Employment Centres  \\\n",
       "0                        0.641607                        0.269203   \n",
       "1                        0.782698                        0.348962   \n",
       "2                        0.599382                        0.348962   \n",
       "3                        0.441813                        0.448545   \n",
       "4                        0.528321                        0.448545   \n",
       "..                            ...                             ...   \n",
       "501                      0.681771                        0.122671   \n",
       "502                      0.760041                        0.105293   \n",
       "503                      0.907312                        0.094381   \n",
       "504                      0.889804                        0.114514   \n",
       "505                      0.802266                        0.125072   \n",
       "\n",
       "     Radial Highways Distance  ValueProperty/tax rate  Teacher/town  \\\n",
       "0                    0.000000                0.208015      0.287234   \n",
       "1                    0.043478                0.104962      0.553191   \n",
       "2                    0.043478                0.104962      0.553191   \n",
       "3                    0.086957                0.066794      0.648936   \n",
       "4                    0.086957                0.066794      0.648936   \n",
       "..                        ...                     ...           ...   \n",
       "501                  0.000000                0.164122      0.893617   \n",
       "502                  0.000000                0.164122      0.893617   \n",
       "503                  0.000000                0.164122      0.893617   \n",
       "504                  0.000000                0.164122      0.893617   \n",
       "505                  0.000000                0.164122      0.893617   \n",
       "\n",
       "     blacks/town  Lower Status Percent  \n",
       "0       1.000000              0.089680  \n",
       "1       1.000000              0.204470  \n",
       "2       0.989737              0.063466  \n",
       "3       0.994276              0.033389  \n",
       "4       1.000000              0.099338  \n",
       "..           ...                   ...  \n",
       "501     0.987619              0.219095  \n",
       "502     1.000000              0.202815  \n",
       "503     1.000000              0.107892  \n",
       "504     0.991301              0.131071  \n",
       "505     1.000000              0.169702  \n",
       "\n",
       "[506 rows x 13 columns]"
      ]
     },
     "execution_count": 60,
     "metadata": {},
     "output_type": "execute_result"
    }
   ],
   "source": [
    "X"
   ]
  },
  {
   "cell_type": "code",
   "execution_count": 61,
   "id": "07f39f6b",
   "metadata": {
    "execution": {
     "iopub.execute_input": "2024-08-27T05:40:45.186401Z",
     "iopub.status.busy": "2024-08-27T05:40:45.185935Z",
     "iopub.status.idle": "2024-08-27T05:40:45.200516Z",
     "shell.execute_reply": "2024-08-27T05:40:45.199155Z"
    },
    "papermill": {
     "duration": 0.060307,
     "end_time": "2024-08-27T05:40:45.203826",
     "exception": false,
     "start_time": "2024-08-27T05:40:45.143519",
     "status": "completed"
    },
    "scrolled": true,
    "tags": []
   },
   "outputs": [
    {
     "data": {
      "text/html": [
       "<div>\n",
       "<style scoped>\n",
       "    .dataframe tbody tr th:only-of-type {\n",
       "        vertical-align: middle;\n",
       "    }\n",
       "\n",
       "    .dataframe tbody tr th {\n",
       "        vertical-align: top;\n",
       "    }\n",
       "\n",
       "    .dataframe thead th {\n",
       "        text-align: right;\n",
       "    }\n",
       "</style>\n",
       "<table border=\"1\" class=\"dataframe\">\n",
       "  <thead>\n",
       "    <tr style=\"text-align: right;\">\n",
       "      <th></th>\n",
       "      <th>median home price</th>\n",
       "    </tr>\n",
       "  </thead>\n",
       "  <tbody>\n",
       "    <tr>\n",
       "      <th>0</th>\n",
       "      <td>24.0</td>\n",
       "    </tr>\n",
       "    <tr>\n",
       "      <th>1</th>\n",
       "      <td>21.6</td>\n",
       "    </tr>\n",
       "    <tr>\n",
       "      <th>2</th>\n",
       "      <td>34.7</td>\n",
       "    </tr>\n",
       "    <tr>\n",
       "      <th>3</th>\n",
       "      <td>33.4</td>\n",
       "    </tr>\n",
       "    <tr>\n",
       "      <th>4</th>\n",
       "      <td>36.2</td>\n",
       "    </tr>\n",
       "    <tr>\n",
       "      <th>...</th>\n",
       "      <td>...</td>\n",
       "    </tr>\n",
       "    <tr>\n",
       "      <th>501</th>\n",
       "      <td>22.4</td>\n",
       "    </tr>\n",
       "    <tr>\n",
       "      <th>502</th>\n",
       "      <td>20.6</td>\n",
       "    </tr>\n",
       "    <tr>\n",
       "      <th>503</th>\n",
       "      <td>23.9</td>\n",
       "    </tr>\n",
       "    <tr>\n",
       "      <th>504</th>\n",
       "      <td>22.0</td>\n",
       "    </tr>\n",
       "    <tr>\n",
       "      <th>505</th>\n",
       "      <td>11.9</td>\n",
       "    </tr>\n",
       "  </tbody>\n",
       "</table>\n",
       "<p>506 rows × 1 columns</p>\n",
       "</div>"
      ],
      "text/plain": [
       "     median home price\n",
       "0                 24.0\n",
       "1                 21.6\n",
       "2                 34.7\n",
       "3                 33.4\n",
       "4                 36.2\n",
       "..                 ...\n",
       "501               22.4\n",
       "502               20.6\n",
       "503               23.9\n",
       "504               22.0\n",
       "505               11.9\n",
       "\n",
       "[506 rows x 1 columns]"
      ]
     },
     "execution_count": 61,
     "metadata": {},
     "output_type": "execute_result"
    }
   ],
   "source": [
    "Y"
   ]
  },
  {
   "cell_type": "code",
   "execution_count": 62,
   "id": "3eda9705",
   "metadata": {
    "execution": {
     "iopub.execute_input": "2024-08-27T05:40:45.288737Z",
     "iopub.status.busy": "2024-08-27T05:40:45.287842Z",
     "iopub.status.idle": "2024-08-27T05:40:45.304766Z",
     "shell.execute_reply": "2024-08-27T05:40:45.303473Z"
    },
    "papermill": {
     "duration": 0.062532,
     "end_time": "2024-08-27T05:40:45.307847",
     "exception": false,
     "start_time": "2024-08-27T05:40:45.245315",
     "status": "completed"
    },
    "tags": []
   },
   "outputs": [
    {
     "data": {
      "text/plain": [
       "array([24. , 21.6, 34.7, 33.4, 36.2, 28.7, 22.9, 27.1, 16.5, 18.9, 15. ,\n",
       "       18.9, 21.7, 20.4, 18.2, 19.9, 23.1, 17.5, 20.2, 18.2, 13.6, 19.6,\n",
       "       15.2, 14.5, 15.6, 13.9, 16.6, 14.8, 18.4, 21. , 12.7, 14.5, 13.2,\n",
       "       13.1, 13.5, 18.9, 20. , 21. , 24.7, 30.8, 34.9, 26.6, 25.3, 24.7,\n",
       "       21.2, 19.3, 20. , 16.6, 14.4, 19.4, 19.7, 20.5, 25. , 23.4, 18.9,\n",
       "       35.4, 24.7, 31.6, 23.3, 19.6, 18.7, 16. , 22.2, 25. , 33. , 23.5,\n",
       "       19.4, 22. , 17.4, 20.9, 24.2, 21.7, 22.8, 23.4, 24.1, 21.4, 20. ,\n",
       "       20.8, 21.2, 20.3, 28. , 23.9, 24.8, 22.9, 23.9, 26.6, 22.5, 22.2,\n",
       "       23.6, 28.7, 22.6, 22. , 22.9, 25. , 20.6, 28.4, 21.4, 38.7, 43.8,\n",
       "       33.2, 27.5, 26.5, 18.6, 19.3, 20.1, 19.5, 19.5, 20.4, 19.8, 19.4,\n",
       "       21.7, 22.8, 18.8, 18.7, 18.5, 18.3, 21.2, 19.2, 20.4, 19.3, 22. ,\n",
       "       20.3, 20.5, 17.3, 18.8, 21.4, 15.7, 16.2, 18. , 14.3, 19.2, 19.6,\n",
       "       23. , 18.4, 15.6, 18.1, 17.4, 17.1, 13.3, 17.8, 14. , 14.4, 13.4,\n",
       "       15.6, 11.8, 13.8, 15.6, 14.6, 17.8, 15.4, 21.5, 19.6, 15.3, 19.4,\n",
       "       17. , 15.6, 13.1, 41.3, 24.3, 23.3, 27. , 50. , 50. , 50. , 22.7,\n",
       "       25. , 50. , 23.8, 23.8, 22.3, 17.4, 19.1, 23.1, 23.6, 22.6, 29.4,\n",
       "       23.2, 24.6, 29.9, 37.2, 39.8, 36.2, 37.9, 32.5, 26.4, 29.6, 50. ,\n",
       "       32. , 29.8, 34.9, 37. , 30.5, 36.4, 31.1, 29.1, 50. , 33.3, 30.3,\n",
       "       34.6, 34.9, 32.9, 24.1, 42.3, 48.5, 50. , 22.6, 24.4, 22.5, 24.4,\n",
       "       20. , 21.7, 19.3, 22.4, 28.1, 23.7, 25. , 23.3, 28.7, 21.5, 23. ,\n",
       "       26.7, 21.7, 27.5, 30.1, 44.8, 50. , 37.6, 31.6, 46.7, 31.5, 24.3,\n",
       "       31.7, 41.7, 48.3, 29. , 24. , 25.1, 31.5, 23.7, 23.3, 22. , 20.1,\n",
       "       22.2, 23.7, 17.6, 18.5, 24.3, 20.5, 24.5, 26.2, 24.4, 24.8, 29.6,\n",
       "       42.8, 21.9, 20.9, 44. , 50. , 36. , 30.1, 33.8, 43.1, 48.8, 31. ,\n",
       "       36.5, 22.8, 30.7, 50. , 43.5, 20.7, 21.1, 25.2, 24.4, 35.2, 32.4,\n",
       "       32. , 33.2, 33.1, 29.1, 35.1, 45.4, 35.4, 46. , 50. , 32.2, 22. ,\n",
       "       20.1, 23.2, 22.3, 24.8, 28.5, 37.3, 27.9, 23.9, 21.7, 28.6, 27.1,\n",
       "       20.3, 22.5, 29. , 24.8, 22. , 26.4, 33.1, 36.1, 28.4, 33.4, 28.2,\n",
       "       22.8, 20.3, 16.1, 22.1, 19.4, 21.6, 23.8, 16.2, 17.8, 19.8, 23.1,\n",
       "       21. , 23.8, 23.1, 20.4, 18.5, 25. , 24.6, 23. , 22.2, 19.3, 22.6,\n",
       "       19.8, 17.1, 19.4, 22.2, 20.7, 21.1, 19.5, 18.5, 20.6, 19. , 18.7,\n",
       "       32.7, 16.5, 23.9, 31.2, 17.5, 17.2, 23.1, 24.5, 26.6, 22.9, 24.1,\n",
       "       18.6, 30.1, 18.2, 20.6, 17.8, 21.7, 22.7, 22.6, 25. , 19.9, 20.8,\n",
       "       16.8, 21.9, 27.5, 21.9, 23.1, 50. , 50. , 50. , 50. , 50. , 13.8,\n",
       "       13.8, 15. , 13.9, 13.3, 13.1, 10.2, 10.4, 10.9, 11.3, 12.3,  8.8,\n",
       "        7.2, 10.5,  7.4, 10.2, 11.5, 15.1, 23.2,  9.7, 13.8, 12.7, 13.1,\n",
       "       12.5,  8.5,  5. ,  6.3,  5.6,  7.2, 12.1,  8.3,  8.5,  5. , 11.9,\n",
       "       27.9, 17.2, 27.5, 15. , 17.2, 17.9, 16.3,  7. ,  7.2,  7.5, 10.4,\n",
       "        8.8,  8.4, 16.7, 14.2, 20.8, 13.4, 11.7,  8.3, 10.2, 10.9, 11. ,\n",
       "        9.5, 14.5, 14.1, 16.1, 14.3, 11.7, 13.4,  9.6,  8.7,  8.4, 12.8,\n",
       "       10.5, 17.1, 18.4, 15.4, 10.8, 11.8, 14.9, 12.6, 14.1, 13. , 13.4,\n",
       "       15.2, 16.1, 17.8, 14.9, 14.1, 12.7, 13.5, 14.9, 20. , 16.4, 17.7,\n",
       "       19.5, 20.2, 21.4, 19.9, 19. , 19.1, 19.1, 20.1, 19.9, 19.6, 23.2,\n",
       "       29.8, 13.8, 13.3, 16.7, 12. , 14.6, 21.4, 23. , 23.7, 25. , 21.8,\n",
       "       20.6, 21.2, 19.1, 20.6, 15.2,  7. ,  8.1, 13.6, 20.1, 21.8, 24.5,\n",
       "       23.1, 19.7, 18.3, 21.2, 17.5, 16.8, 22.4, 20.6, 23.9, 22. , 11.9])"
      ]
     },
     "execution_count": 62,
     "metadata": {},
     "output_type": "execute_result"
    }
   ],
   "source": [
    "np.hstack(Y.values)"
   ]
  },
  {
   "cell_type": "code",
   "execution_count": 63,
   "id": "6402dc58",
   "metadata": {
    "execution": {
     "iopub.execute_input": "2024-08-27T05:40:45.393290Z",
     "iopub.status.busy": "2024-08-27T05:40:45.392821Z",
     "iopub.status.idle": "2024-08-27T05:40:45.409995Z",
     "shell.execute_reply": "2024-08-27T05:40:45.408734Z"
    },
    "papermill": {
     "duration": 0.063221,
     "end_time": "2024-08-27T05:40:45.412980",
     "exception": false,
     "start_time": "2024-08-27T05:40:45.349759",
     "status": "completed"
    },
    "tags": []
   },
   "outputs": [
    {
     "data": {
      "text/plain": [
       "RFE(estimator=LinearRegression(), n_features_to_select=5, step=3)"
      ]
     },
     "execution_count": 63,
     "metadata": {},
     "output_type": "execute_result"
    }
   ],
   "source": [
    "rfe.fit(X, np.hstack(Y.values))"
   ]
  },
  {
   "cell_type": "code",
   "execution_count": 64,
   "id": "8239ed5a",
   "metadata": {
    "execution": {
     "iopub.execute_input": "2024-08-27T05:40:45.501795Z",
     "iopub.status.busy": "2024-08-27T05:40:45.501367Z",
     "iopub.status.idle": "2024-08-27T05:40:45.509592Z",
     "shell.execute_reply": "2024-08-27T05:40:45.508107Z"
    },
    "papermill": {
     "duration": 0.057573,
     "end_time": "2024-08-27T05:40:45.512522",
     "exception": false,
     "start_time": "2024-08-27T05:40:45.454949",
     "status": "completed"
    },
    "scrolled": true,
    "tags": []
   },
   "outputs": [
    {
     "data": {
      "text/plain": [
       "array(['Crime Rate', 'Residential Proportion',\n",
       "       'non-retail business acres/Town', 'Charles River',\n",
       "       'NO2 concentration', 'Average Rooms/Dwelling.',\n",
       "       'Prior Built Units Proportion', 'Distance to Employment Centres',\n",
       "       'Radial Highways Distance', 'ValueProperty/tax rate',\n",
       "       'Teacher/town', 'blacks/town', 'Lower Status Percent'],\n",
       "      dtype='<U30')"
      ]
     },
     "execution_count": 64,
     "metadata": {},
     "output_type": "execute_result"
    }
   ],
   "source": [
    "np.array(columnss)"
   ]
  },
  {
   "cell_type": "code",
   "execution_count": 65,
   "id": "c39993e2",
   "metadata": {
    "execution": {
     "iopub.execute_input": "2024-08-27T05:40:45.598657Z",
     "iopub.status.busy": "2024-08-27T05:40:45.598228Z",
     "iopub.status.idle": "2024-08-27T05:40:45.604347Z",
     "shell.execute_reply": "2024-08-27T05:40:45.602800Z"
    },
    "papermill": {
     "duration": 0.05249,
     "end_time": "2024-08-27T05:40:45.607209",
     "exception": false,
     "start_time": "2024-08-27T05:40:45.554719",
     "status": "completed"
    },
    "scrolled": true,
    "tags": []
   },
   "outputs": [],
   "source": [
    "feature_name = np.array(columnss)"
   ]
  },
  {
   "cell_type": "code",
   "execution_count": 66,
   "id": "2f12ed54",
   "metadata": {
    "execution": {
     "iopub.execute_input": "2024-08-27T05:40:45.693377Z",
     "iopub.status.busy": "2024-08-27T05:40:45.692908Z",
     "iopub.status.idle": "2024-08-27T05:40:45.700760Z",
     "shell.execute_reply": "2024-08-27T05:40:45.699557Z"
    },
    "papermill": {
     "duration": 0.053961,
     "end_time": "2024-08-27T05:40:45.703379",
     "exception": false,
     "start_time": "2024-08-27T05:40:45.649418",
     "status": "completed"
    },
    "tags": []
   },
   "outputs": [
    {
     "data": {
      "text/plain": [
       "array([ True, False, False, False, False,  True, False,  True, False,\n",
       "       False,  True, False,  True])"
      ]
     },
     "execution_count": 66,
     "metadata": {},
     "output_type": "execute_result"
    }
   ],
   "source": [
    "rfe.support_"
   ]
  },
  {
   "cell_type": "code",
   "execution_count": 67,
   "id": "d2badac7",
   "metadata": {
    "execution": {
     "iopub.execute_input": "2024-08-27T05:40:45.791273Z",
     "iopub.status.busy": "2024-08-27T05:40:45.790381Z",
     "iopub.status.idle": "2024-08-27T05:40:45.799272Z",
     "shell.execute_reply": "2024-08-27T05:40:45.798017Z"
    },
    "papermill": {
     "duration": 0.056313,
     "end_time": "2024-08-27T05:40:45.801784",
     "exception": false,
     "start_time": "2024-08-27T05:40:45.745471",
     "status": "completed"
    },
    "scrolled": true,
    "tags": []
   },
   "outputs": [
    {
     "data": {
      "text/plain": [
       "['Crime Rate',\n",
       " 'Average Rooms/Dwelling.',\n",
       " 'Distance to Employment Centres',\n",
       " 'Teacher/town',\n",
       " 'Lower Status Percent']"
      ]
     },
     "execution_count": 67,
     "metadata": {},
     "output_type": "execute_result"
    }
   ],
   "source": [
    "list(feature_name[rfe.support_]) # isko run karny ka bad is ma oun coloums ka naam aaya ga jo ka \n",
    "                                 # important features han jo ka kud find kea RFE ny "
   ]
  },
  {
   "cell_type": "code",
   "execution_count": 68,
   "id": "658a3d00",
   "metadata": {
    "execution": {
     "iopub.execute_input": "2024-08-27T05:40:45.889938Z",
     "iopub.status.busy": "2024-08-27T05:40:45.888916Z",
     "iopub.status.idle": "2024-08-27T05:40:45.896850Z",
     "shell.execute_reply": "2024-08-27T05:40:45.895751Z"
    },
    "papermill": {
     "duration": 0.05466,
     "end_time": "2024-08-27T05:40:45.899514",
     "exception": false,
     "start_time": "2024-08-27T05:40:45.844854",
     "status": "completed"
    },
    "tags": []
   },
   "outputs": [
    {
     "data": {
      "text/plain": [
       "5"
      ]
     },
     "execution_count": 68,
     "metadata": {},
     "output_type": "execute_result"
    }
   ],
   "source": [
    "rfe.n_features_"
   ]
  },
  {
   "cell_type": "code",
   "execution_count": 69,
   "id": "9225dcdb",
   "metadata": {
    "execution": {
     "iopub.execute_input": "2024-08-27T05:40:45.986048Z",
     "iopub.status.busy": "2024-08-27T05:40:45.985595Z",
     "iopub.status.idle": "2024-08-27T05:40:45.992995Z",
     "shell.execute_reply": "2024-08-27T05:40:45.991474Z"
    },
    "papermill": {
     "duration": 0.053419,
     "end_time": "2024-08-27T05:40:45.995577",
     "exception": false,
     "start_time": "2024-08-27T05:40:45.942158",
     "status": "completed"
    },
    "tags": []
   },
   "outputs": [
    {
     "name": "stdout",
     "output_type": "stream",
     "text": [
      "Optimal number of features : 5\n",
      "Features selected: ['Crime Rate', 'Average Rooms/Dwelling.', 'Distance to Employment Centres', 'Teacher/town', 'Lower Status Percent']\n"
     ]
    }
   ],
   "source": [
    "# print the optimal number of feature\n",
    "print(\"Optimal number of features : %d\" % rfe.n_features_)\n",
    "\n",
    "# save the selected features\n",
    "feature_cols_selected = list((feature_name)[rfe.support_])\n",
    "print(\"Features selected: \" + str(feature_cols_selected))"
   ]
  },
  {
   "cell_type": "markdown",
   "id": "d9e7a686",
   "metadata": {
    "papermill": {
     "duration": 0.042373,
     "end_time": "2024-08-27T05:40:46.081183",
     "exception": false,
     "start_time": "2024-08-27T05:40:46.038810",
     "status": "completed"
    },
    "tags": []
   },
   "source": [
    "Once the features to include are selected, we can use them to fit the model. While the scaled features were used in the RFE step above, we'll use the original values for fitting the model. This way we don't have to tranform the data when making predictions."
   ]
  },
  {
   "cell_type": "code",
   "execution_count": 70,
   "id": "60cbac14",
   "metadata": {
    "execution": {
     "iopub.execute_input": "2024-08-27T05:40:46.167640Z",
     "iopub.status.busy": "2024-08-27T05:40:46.167199Z",
     "iopub.status.idle": "2024-08-27T05:40:46.177093Z",
     "shell.execute_reply": "2024-08-27T05:40:46.175591Z"
    },
    "papermill": {
     "duration": 0.056417,
     "end_time": "2024-08-27T05:40:46.179647",
     "exception": false,
     "start_time": "2024-08-27T05:40:46.123230",
     "status": "completed"
    },
    "tags": []
   },
   "outputs": [
    {
     "name": "stdout",
     "output_type": "stream",
     "text": [
      "(354, 5)\n",
      "(152, 5)\n"
     ]
    }
   ],
   "source": [
    "xtrain_new = xtrain[list(feature_name[rfe.support_])]\n",
    "xtest_new = xtest[list(feature_name[rfe.support_])]\n",
    "print(xtrain_new.shape)\n",
    "print(xtest_new.shape)"
   ]
  },
  {
   "cell_type": "code",
   "execution_count": 71,
   "id": "7e4d5380",
   "metadata": {
    "execution": {
     "iopub.execute_input": "2024-08-27T05:40:46.268078Z",
     "iopub.status.busy": "2024-08-27T05:40:46.266911Z",
     "iopub.status.idle": "2024-08-27T05:40:46.296500Z",
     "shell.execute_reply": "2024-08-27T05:40:46.294979Z"
    },
    "papermill": {
     "duration": 0.076179,
     "end_time": "2024-08-27T05:40:46.299269",
     "exception": false,
     "start_time": "2024-08-27T05:40:46.223090",
     "status": "completed"
    },
    "tags": []
   },
   "outputs": [
    {
     "data": {
      "text/html": [
       "<div>\n",
       "<style scoped>\n",
       "    .dataframe tbody tr th:only-of-type {\n",
       "        vertical-align: middle;\n",
       "    }\n",
       "\n",
       "    .dataframe tbody tr th {\n",
       "        vertical-align: top;\n",
       "    }\n",
       "\n",
       "    .dataframe thead th {\n",
       "        text-align: right;\n",
       "    }\n",
       "</style>\n",
       "<table border=\"1\" class=\"dataframe\">\n",
       "  <thead>\n",
       "    <tr style=\"text-align: right;\">\n",
       "      <th></th>\n",
       "      <th>Crime Rate</th>\n",
       "      <th>Residential Proportion</th>\n",
       "      <th>non-retail business acres/Town</th>\n",
       "      <th>Charles River</th>\n",
       "      <th>NO2 concentration</th>\n",
       "      <th>Average Rooms/Dwelling.</th>\n",
       "      <th>Prior Built Units Proportion</th>\n",
       "      <th>Distance to Employment Centres</th>\n",
       "      <th>Radial Highways Distance</th>\n",
       "      <th>ValueProperty/tax rate</th>\n",
       "      <th>Teacher/town</th>\n",
       "      <th>blacks/town</th>\n",
       "      <th>Lower Status Percent</th>\n",
       "    </tr>\n",
       "  </thead>\n",
       "  <tbody>\n",
       "    <tr>\n",
       "      <th>260</th>\n",
       "      <td>0.006000</td>\n",
       "      <td>0.2</td>\n",
       "      <td>0.128666</td>\n",
       "      <td>0.0</td>\n",
       "      <td>0.539095</td>\n",
       "      <td>0.697835</td>\n",
       "      <td>0.812564</td>\n",
       "      <td>0.089343</td>\n",
       "      <td>0.173913</td>\n",
       "      <td>0.146947</td>\n",
       "      <td>0.042553</td>\n",
       "      <td>0.989662</td>\n",
       "      <td>0.216887</td>\n",
       "    </tr>\n",
       "    <tr>\n",
       "      <th>19</th>\n",
       "      <td>0.008087</td>\n",
       "      <td>0.0</td>\n",
       "      <td>0.281525</td>\n",
       "      <td>0.0</td>\n",
       "      <td>0.314815</td>\n",
       "      <td>0.415022</td>\n",
       "      <td>0.685891</td>\n",
       "      <td>0.242514</td>\n",
       "      <td>0.130435</td>\n",
       "      <td>0.229008</td>\n",
       "      <td>0.893617</td>\n",
       "      <td>0.984997</td>\n",
       "      <td>0.263521</td>\n",
       "    </tr>\n",
       "    <tr>\n",
       "      <th>30</th>\n",
       "      <td>0.012639</td>\n",
       "      <td>0.0</td>\n",
       "      <td>0.281525</td>\n",
       "      <td>0.0</td>\n",
       "      <td>0.314815</td>\n",
       "      <td>0.412340</td>\n",
       "      <td>0.939238</td>\n",
       "      <td>0.282207</td>\n",
       "      <td>0.130435</td>\n",
       "      <td>0.229008</td>\n",
       "      <td>0.893617</td>\n",
       "      <td>0.907383</td>\n",
       "      <td>0.575883</td>\n",
       "    </tr>\n",
       "    <tr>\n",
       "      <th>102</th>\n",
       "      <td>0.002500</td>\n",
       "      <td>0.0</td>\n",
       "      <td>0.296921</td>\n",
       "      <td>0.0</td>\n",
       "      <td>0.277778</td>\n",
       "      <td>0.544932</td>\n",
       "      <td>0.849640</td>\n",
       "      <td>0.144141</td>\n",
       "      <td>0.173913</td>\n",
       "      <td>0.375954</td>\n",
       "      <td>0.882979</td>\n",
       "      <td>0.177720</td>\n",
       "      <td>0.245585</td>\n",
       "    </tr>\n",
       "    <tr>\n",
       "      <th>290</th>\n",
       "      <td>0.000323</td>\n",
       "      <td>0.8</td>\n",
       "      <td>0.164589</td>\n",
       "      <td>0.0</td>\n",
       "      <td>0.053498</td>\n",
       "      <td>0.632305</td>\n",
       "      <td>0.257467</td>\n",
       "      <td>0.362566</td>\n",
       "      <td>0.130435</td>\n",
       "      <td>0.110687</td>\n",
       "      <td>0.702128</td>\n",
       "      <td>1.000000</td>\n",
       "      <td>0.044150</td>\n",
       "    </tr>\n",
       "    <tr>\n",
       "      <th>...</th>\n",
       "      <td>...</td>\n",
       "      <td>...</td>\n",
       "      <td>...</td>\n",
       "      <td>...</td>\n",
       "      <td>...</td>\n",
       "      <td>...</td>\n",
       "      <td>...</td>\n",
       "      <td>...</td>\n",
       "      <td>...</td>\n",
       "      <td>...</td>\n",
       "      <td>...</td>\n",
       "      <td>...</td>\n",
       "      <td>...</td>\n",
       "    </tr>\n",
       "    <tr>\n",
       "      <th>317</th>\n",
       "      <td>0.002685</td>\n",
       "      <td>0.0</td>\n",
       "      <td>0.346041</td>\n",
       "      <td>0.0</td>\n",
       "      <td>0.327160</td>\n",
       "      <td>0.425560</td>\n",
       "      <td>0.708548</td>\n",
       "      <td>0.263902</td>\n",
       "      <td>0.130435</td>\n",
       "      <td>0.223282</td>\n",
       "      <td>0.617021</td>\n",
       "      <td>1.000000</td>\n",
       "      <td>0.392108</td>\n",
       "    </tr>\n",
       "    <tr>\n",
       "      <th>143</th>\n",
       "      <td>0.045983</td>\n",
       "      <td>0.0</td>\n",
       "      <td>0.700880</td>\n",
       "      <td>0.0</td>\n",
       "      <td>1.000000</td>\n",
       "      <td>0.365396</td>\n",
       "      <td>1.000000</td>\n",
       "      <td>0.025662</td>\n",
       "      <td>0.173913</td>\n",
       "      <td>0.412214</td>\n",
       "      <td>0.223404</td>\n",
       "      <td>1.000000</td>\n",
       "      <td>0.681291</td>\n",
       "    </tr>\n",
       "    <tr>\n",
       "      <th>474</th>\n",
       "      <td>0.090474</td>\n",
       "      <td>0.0</td>\n",
       "      <td>0.646628</td>\n",
       "      <td>0.0</td>\n",
       "      <td>0.409465</td>\n",
       "      <td>0.357540</td>\n",
       "      <td>0.952626</td>\n",
       "      <td>0.118233</td>\n",
       "      <td>1.000000</td>\n",
       "      <td>0.914122</td>\n",
       "      <td>0.808511</td>\n",
       "      <td>0.888244</td>\n",
       "      <td>0.452815</td>\n",
       "    </tr>\n",
       "    <tr>\n",
       "      <th>318</th>\n",
       "      <td>0.004448</td>\n",
       "      <td>0.0</td>\n",
       "      <td>0.346041</td>\n",
       "      <td>0.0</td>\n",
       "      <td>0.327160</td>\n",
       "      <td>0.540525</td>\n",
       "      <td>0.662204</td>\n",
       "      <td>0.218507</td>\n",
       "      <td>0.130435</td>\n",
       "      <td>0.223282</td>\n",
       "      <td>0.617021</td>\n",
       "      <td>0.995739</td>\n",
       "      <td>0.238135</td>\n",
       "    </tr>\n",
       "    <tr>\n",
       "      <th>132</th>\n",
       "      <td>0.006561</td>\n",
       "      <td>0.0</td>\n",
       "      <td>0.785557</td>\n",
       "      <td>0.0</td>\n",
       "      <td>0.491770</td>\n",
       "      <td>0.538609</td>\n",
       "      <td>0.978373</td>\n",
       "      <td>0.108922</td>\n",
       "      <td>0.130435</td>\n",
       "      <td>0.477099</td>\n",
       "      <td>0.914894</td>\n",
       "      <td>0.971910</td>\n",
       "      <td>0.259106</td>\n",
       "    </tr>\n",
       "  </tbody>\n",
       "</table>\n",
       "<p>354 rows × 13 columns</p>\n",
       "</div>"
      ],
      "text/plain": [
       "     Crime Rate  Residential Proportion  non-retail business acres/Town  \\\n",
       "260    0.006000                     0.2                        0.128666   \n",
       "19     0.008087                     0.0                        0.281525   \n",
       "30     0.012639                     0.0                        0.281525   \n",
       "102    0.002500                     0.0                        0.296921   \n",
       "290    0.000323                     0.8                        0.164589   \n",
       "..          ...                     ...                             ...   \n",
       "317    0.002685                     0.0                        0.346041   \n",
       "143    0.045983                     0.0                        0.700880   \n",
       "474    0.090474                     0.0                        0.646628   \n",
       "318    0.004448                     0.0                        0.346041   \n",
       "132    0.006561                     0.0                        0.785557   \n",
       "\n",
       "     Charles River  NO2 concentration  Average Rooms/Dwelling.  \\\n",
       "260            0.0           0.539095                 0.697835   \n",
       "19             0.0           0.314815                 0.415022   \n",
       "30             0.0           0.314815                 0.412340   \n",
       "102            0.0           0.277778                 0.544932   \n",
       "290            0.0           0.053498                 0.632305   \n",
       "..             ...                ...                      ...   \n",
       "317            0.0           0.327160                 0.425560   \n",
       "143            0.0           1.000000                 0.365396   \n",
       "474            0.0           0.409465                 0.357540   \n",
       "318            0.0           0.327160                 0.540525   \n",
       "132            0.0           0.491770                 0.538609   \n",
       "\n",
       "     Prior Built Units Proportion  Distance to Employment Centres  \\\n",
       "260                      0.812564                        0.089343   \n",
       "19                       0.685891                        0.242514   \n",
       "30                       0.939238                        0.282207   \n",
       "102                      0.849640                        0.144141   \n",
       "290                      0.257467                        0.362566   \n",
       "..                            ...                             ...   \n",
       "317                      0.708548                        0.263902   \n",
       "143                      1.000000                        0.025662   \n",
       "474                      0.952626                        0.118233   \n",
       "318                      0.662204                        0.218507   \n",
       "132                      0.978373                        0.108922   \n",
       "\n",
       "     Radial Highways Distance  ValueProperty/tax rate  Teacher/town  \\\n",
       "260                  0.173913                0.146947      0.042553   \n",
       "19                   0.130435                0.229008      0.893617   \n",
       "30                   0.130435                0.229008      0.893617   \n",
       "102                  0.173913                0.375954      0.882979   \n",
       "290                  0.130435                0.110687      0.702128   \n",
       "..                        ...                     ...           ...   \n",
       "317                  0.130435                0.223282      0.617021   \n",
       "143                  0.173913                0.412214      0.223404   \n",
       "474                  1.000000                0.914122      0.808511   \n",
       "318                  0.130435                0.223282      0.617021   \n",
       "132                  0.130435                0.477099      0.914894   \n",
       "\n",
       "     blacks/town  Lower Status Percent  \n",
       "260     0.989662              0.216887  \n",
       "19      0.984997              0.263521  \n",
       "30      0.907383              0.575883  \n",
       "102     0.177720              0.245585  \n",
       "290     1.000000              0.044150  \n",
       "..           ...                   ...  \n",
       "317     1.000000              0.392108  \n",
       "143     1.000000              0.681291  \n",
       "474     0.888244              0.452815  \n",
       "318     0.995739              0.238135  \n",
       "132     0.971910              0.259106  \n",
       "\n",
       "[354 rows x 13 columns]"
      ]
     },
     "execution_count": 71,
     "metadata": {},
     "output_type": "execute_result"
    }
   ],
   "source": [
    "xtrain"
   ]
  },
  {
   "cell_type": "code",
   "execution_count": 72,
   "id": "52ce8e97",
   "metadata": {
    "execution": {
     "iopub.execute_input": "2024-08-27T05:40:46.390673Z",
     "iopub.status.busy": "2024-08-27T05:40:46.390214Z",
     "iopub.status.idle": "2024-08-27T05:40:46.397748Z",
     "shell.execute_reply": "2024-08-27T05:40:46.395789Z"
    },
    "papermill": {
     "duration": 0.055787,
     "end_time": "2024-08-27T05:40:46.400402",
     "exception": false,
     "start_time": "2024-08-27T05:40:46.344615",
     "status": "completed"
    },
    "scrolled": true,
    "tags": []
   },
   "outputs": [
    {
     "name": "stdout",
     "output_type": "stream",
     "text": [
      "(354, 1)\n",
      "(152, 1)\n"
     ]
    }
   ],
   "source": [
    "print(ytrain.shape)\n",
    "print(ytest.shape)"
   ]
  },
  {
   "cell_type": "code",
   "execution_count": 73,
   "id": "af1ad539",
   "metadata": {
    "execution": {
     "iopub.execute_input": "2024-08-27T05:40:46.488521Z",
     "iopub.status.busy": "2024-08-27T05:40:46.488071Z",
     "iopub.status.idle": "2024-08-27T05:40:46.502013Z",
     "shell.execute_reply": "2024-08-27T05:40:46.500715Z"
    },
    "papermill": {
     "duration": 0.060789,
     "end_time": "2024-08-27T05:40:46.504658",
     "exception": false,
     "start_time": "2024-08-27T05:40:46.443869",
     "status": "completed"
    },
    "tags": []
   },
   "outputs": [
    {
     "data": {
      "text/plain": [
       "LinearRegression()"
      ]
     },
     "execution_count": 73,
     "metadata": {},
     "output_type": "execute_result"
    }
   ],
   "source": [
    "lm2 = LinearRegression()\n",
    "lm2.fit(xtrain_new, ytrain)  "
   ]
  },
  {
   "cell_type": "code",
   "execution_count": 74,
   "id": "221daf07",
   "metadata": {
    "execution": {
     "iopub.execute_input": "2024-08-27T05:40:46.593571Z",
     "iopub.status.busy": "2024-08-27T05:40:46.592693Z",
     "iopub.status.idle": "2024-08-27T05:40:46.600407Z",
     "shell.execute_reply": "2024-08-27T05:40:46.599216Z"
    },
    "papermill": {
     "duration": 0.054725,
     "end_time": "2024-08-27T05:40:46.603142",
     "exception": false,
     "start_time": "2024-08-27T05:40:46.548417",
     "status": "completed"
    },
    "tags": []
   },
   "outputs": [],
   "source": [
    "predict_test_new=lm2.predict(xtest_new)\n"
   ]
  },
  {
   "cell_type": "code",
   "execution_count": 75,
   "id": "78b24101",
   "metadata": {
    "execution": {
     "iopub.execute_input": "2024-08-27T05:40:46.693090Z",
     "iopub.status.busy": "2024-08-27T05:40:46.692160Z",
     "iopub.status.idle": "2024-08-27T05:40:46.700826Z",
     "shell.execute_reply": "2024-08-27T05:40:46.699542Z"
    },
    "papermill": {
     "duration": 0.056288,
     "end_time": "2024-08-27T05:40:46.703471",
     "exception": false,
     "start_time": "2024-08-27T05:40:46.647183",
     "status": "completed"
    },
    "tags": []
   },
   "outputs": [
    {
     "name": "stdout",
     "output_type": "stream",
     "text": [
      "The R-squared value is: 0.6926 \n",
      "\n"
     ]
    }
   ],
   "source": [
    "# print the R-squared\n",
    "print(\"The R-squared value is: {0:0.4f} \\n\".format(r2_score(ytest, predict_test_new)))"
   ]
  },
  {
   "cell_type": "markdown",
   "id": "1dca4f4a",
   "metadata": {
    "papermill": {
     "duration": 0.043505,
     "end_time": "2024-08-27T05:40:46.790279",
     "exception": false,
     "start_time": "2024-08-27T05:40:46.746774",
     "status": "completed"
    },
    "tags": []
   },
   "source": [
    "**Adjusted r2**"
   ]
  },
  {
   "cell_type": "code",
   "execution_count": 76,
   "id": "4e86f1ef",
   "metadata": {
    "execution": {
     "iopub.execute_input": "2024-08-27T05:40:46.880713Z",
     "iopub.status.busy": "2024-08-27T05:40:46.880210Z",
     "iopub.status.idle": "2024-08-27T05:40:46.889662Z",
     "shell.execute_reply": "2024-08-27T05:40:46.888342Z"
    },
    "papermill": {
     "duration": 0.0582,
     "end_time": "2024-08-27T05:40:46.892363",
     "exception": false,
     "start_time": "2024-08-27T05:40:46.834163",
     "status": "completed"
    },
    "tags": []
   },
   "outputs": [
    {
     "name": "stdout",
     "output_type": "stream",
     "text": [
      "The adjusted R2 is: 0.6820819356621516\n"
     ]
    }
   ],
   "source": [
    "adjR2(xtest_new,ytest,r2_score(ytest, predict_test_new))"
   ]
  },
  {
   "cell_type": "markdown",
   "id": "9727392c",
   "metadata": {
    "papermill": {
     "duration": 0.043392,
     "end_time": "2024-08-27T05:40:46.979718",
     "exception": false,
     "start_time": "2024-08-27T05:40:46.936326",
     "status": "completed"
    },
    "tags": []
   },
   "source": [
    "### Cross Validation"
   ]
  },
  {
   "cell_type": "markdown",
   "id": "625d78da",
   "metadata": {
    "papermill": {
     "duration": 0.043359,
     "end_time": "2024-08-27T05:40:47.067085",
     "exception": false,
     "start_time": "2024-08-27T05:40:47.023726",
     "status": "completed"
    },
    "tags": []
   },
   "source": [
    "<img src='https://raw.githubusercontent.com/ritchieng/machine-learning-dataschool/master/images/07_cross_validation_diagram.png' width=200, height=400 >"
   ]
  },
  {
   "cell_type": "code",
   "execution_count": 77,
   "id": "5b6ee8af",
   "metadata": {
    "execution": {
     "iopub.execute_input": "2024-08-27T05:40:47.155616Z",
     "iopub.status.busy": "2024-08-27T05:40:47.155180Z",
     "iopub.status.idle": "2024-08-27T05:40:47.160409Z",
     "shell.execute_reply": "2024-08-27T05:40:47.159247Z"
    },
    "papermill": {
     "duration": 0.052475,
     "end_time": "2024-08-27T05:40:47.162967",
     "exception": false,
     "start_time": "2024-08-27T05:40:47.110492",
     "status": "completed"
    },
    "tags": []
   },
   "outputs": [],
   "source": [
    "from sklearn.model_selection import cross_val_score"
   ]
  },
  {
   "cell_type": "code",
   "execution_count": 78,
   "id": "9273574f",
   "metadata": {
    "execution": {
     "iopub.execute_input": "2024-08-27T05:40:47.252615Z",
     "iopub.status.busy": "2024-08-27T05:40:47.252174Z",
     "iopub.status.idle": "2024-08-27T05:40:47.332914Z",
     "shell.execute_reply": "2024-08-27T05:40:47.331820Z"
    },
    "papermill": {
     "duration": 0.129212,
     "end_time": "2024-08-27T05:40:47.335756",
     "exception": false,
     "start_time": "2024-08-27T05:40:47.206544",
     "status": "completed"
    },
    "tags": []
   },
   "outputs": [],
   "source": [
    "scores = cross_val_score(lm2, xtrain_new, ytrain, cv=10)"
   ]
  },
  {
   "cell_type": "code",
   "execution_count": 79,
   "id": "e562ac44",
   "metadata": {
    "execution": {
     "iopub.execute_input": "2024-08-27T05:40:47.425156Z",
     "iopub.status.busy": "2024-08-27T05:40:47.424700Z",
     "iopub.status.idle": "2024-08-27T05:40:47.430614Z",
     "shell.execute_reply": "2024-08-27T05:40:47.429555Z"
    },
    "papermill": {
     "duration": 0.05425,
     "end_time": "2024-08-27T05:40:47.433775",
     "exception": false,
     "start_time": "2024-08-27T05:40:47.379525",
     "status": "completed"
    },
    "tags": []
   },
   "outputs": [
    {
     "name": "stdout",
     "output_type": "stream",
     "text": [
      "[0.69758851 0.75271225 0.72732635 0.70907171 0.75846079 0.4482521\n",
      " 0.65662333 0.44930048 0.76735612 0.65833272]\n"
     ]
    }
   ],
   "source": [
    "print(scores)"
   ]
  },
  {
   "cell_type": "code",
   "execution_count": 80,
   "id": "1e899d3e",
   "metadata": {
    "execution": {
     "iopub.execute_input": "2024-08-27T05:40:47.523826Z",
     "iopub.status.busy": "2024-08-27T05:40:47.523378Z",
     "iopub.status.idle": "2024-08-27T05:40:47.529313Z",
     "shell.execute_reply": "2024-08-27T05:40:47.528150Z"
    },
    "papermill": {
     "duration": 0.055422,
     "end_time": "2024-08-27T05:40:47.532566",
     "exception": false,
     "start_time": "2024-08-27T05:40:47.477144",
     "status": "completed"
    },
    "scrolled": true,
    "tags": []
   },
   "outputs": [
    {
     "name": "stdout",
     "output_type": "stream",
     "text": [
      "0.6625024376546487\n"
     ]
    }
   ],
   "source": [
    "print(scores.mean())"
   ]
  },
  {
   "cell_type": "code",
   "execution_count": 81,
   "id": "c02d5e55",
   "metadata": {
    "execution": {
     "iopub.execute_input": "2024-08-27T05:40:47.621449Z",
     "iopub.status.busy": "2024-08-27T05:40:47.620969Z",
     "iopub.status.idle": "2024-08-27T05:40:47.630017Z",
     "shell.execute_reply": "2024-08-27T05:40:47.628753Z"
    },
    "papermill": {
     "duration": 0.056828,
     "end_time": "2024-08-27T05:40:47.632966",
     "exception": false,
     "start_time": "2024-08-27T05:40:47.576138",
     "status": "completed"
    },
    "tags": []
   },
   "outputs": [
    {
     "data": {
      "text/plain": [
       "[1, 2, 3, 4, 5, 6, 7, 8, 9, 10]"
      ]
     },
     "execution_count": 81,
     "metadata": {},
     "output_type": "execute_result"
    }
   ],
   "source": [
    "list(range(1,len(scores)+1))"
   ]
  },
  {
   "cell_type": "code",
   "execution_count": 82,
   "id": "720dc715",
   "metadata": {
    "execution": {
     "iopub.execute_input": "2024-08-27T05:40:47.724087Z",
     "iopub.status.busy": "2024-08-27T05:40:47.722903Z",
     "iopub.status.idle": "2024-08-27T05:40:48.068903Z",
     "shell.execute_reply": "2024-08-27T05:40:48.067808Z"
    },
    "papermill": {
     "duration": 0.39463,
     "end_time": "2024-08-27T05:40:48.071830",
     "exception": false,
     "start_time": "2024-08-27T05:40:47.677200",
     "status": "completed"
    },
    "tags": []
   },
   "outputs": [
    {
     "data": {
      "image/png": "[encoded data removed]",
      "text/plain": [
       "<Figure size 576x360 with 1 Axes>"
      ]
     },
     "metadata": {},
     "output_type": "display_data"
    }
   ],
   "source": [
    "plt.figure(figsize=(8,5))\n",
    "sns.barplot(x=list(range(1,len(scores)+1)),y=scores, color='b')\n",
    "plt.show()"
   ]
  }
 ],
 "metadata": {
  "kaggle": {
   "accelerator": "none",
   "dataSources": [
    {
     "datasetId": 2486758,
     "sourceId": 4218802,
     "sourceType": "datasetVersion"
    }
   ],
   "dockerImageVersionId": 30260,
   "isGpuEnabled": false,
   "isInternetEnabled": true,
   "language": "python",
   "sourceType": "notebook"
  },
  "kernelspec": {
   "display_name": "Python 3",
   "language": "python",
   "name": "python3"
  },
  "language_info": {
   "codemirror_mode": {
    "name": "ipython",
    "version": 3
   },
   "file_extension": ".py",
   "mimetype": "text/x-python",
   "name": "python",
   "nbconvert_exporter": "python",
   "pygments_lexer": "ipython3",
   "version": "3.7.12"
  },
  "papermill": {
   "default_parameters": {},
   "duration": 25.663125,
   "end_time": "2024-08-27T05:40:48.940236",
   "environment_variables": {},
   "exception": null,
   "input_path": "__notebook__.ipynb",
   "output_path": "__notebook__.ipynb",
   "parameters": {},
   "start_time": "2024-08-27T05:40:23.277111",
   "version": "2.3.4"
  }
 },
 "nbformat": 4,
 "nbformat_minor": 5
}
